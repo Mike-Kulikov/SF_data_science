{
 "cells": [
  {
   "cell_type": "code",
   "execution_count": 1,
   "metadata": {},
   "outputs": [],
   "source": [
    "# Import libraries\n",
    "import pandas as pd\n",
    "import seaborn as sns\n",
    "import matplotlib.pyplot as plt\n",
    "import plotly\n",
    "import plotly.express as px\n",
    "import plotly.io as pio\n",
    "import plotly.graph_objects as go\n",
    "from plotly.subplots import make_subplots\n",
    "import time\n",
    "import numpy as np\n",
    "import os\n",
    "import os.path"
   ]
  },
  {
   "cell_type": "code",
   "execution_count": 64,
   "metadata": {},
   "outputs": [],
   "source": [
    "# Set up different file path options\n",
    "W_pth = 'H:\\My Drive\\Working Files CS\\Analytics\\WI Club Nights\\WI Club Night - Pivot table.csv' # Windows path\n",
    "L_pth = '/home/mike/Documents/Coding/Data/WI Club Night - Pivot table.csv' # Linux path\n",
    "\n",
    "if os.path.exists(L_pth):\n",
    "    data = pd.read_csv(L_pth)\n",
    "\n",
    "elif os.path.exists(W_pth):\n",
    "    data = pd.read_csv(W_pth)\n",
    "\n",
    "else:\n",
    "    print('Check if the dataset path is correct')"
   ]
  },
  {
   "cell_type": "code",
   "execution_count": 3,
   "metadata": {},
   "outputs": [],
   "source": [
    "# display(data.head(3))"
   ]
  },
  {
   "cell_type": "code",
   "execution_count": 4,
   "metadata": {},
   "outputs": [
    {
     "data": {
      "text/plain": [
       "(492, 19)"
      ]
     },
     "metadata": {},
     "output_type": "display_data"
    }
   ],
   "source": [
    "display(data.shape)"
   ]
  },
  {
   "cell_type": "code",
   "execution_count": 5,
   "metadata": {},
   "outputs": [],
   "source": [
    "# Convert time into the time format\n",
    "data['Event Date'] = pd.to_datetime(data['Event Date'], format='%b %d, %Y')\n",
    "data['Registration Time'] = pd.to_datetime(data['Registration Time'], format='%b %d, %Y %H:%M:%S')\n",
    "data['Join Time'] = pd.to_datetime(data['Join Time'], format='%b %d, %Y %H:%M:%S', errors='coerce')\n",
    "data['Leave Time'] = pd.to_datetime(data['Leave Time'], format='%b %d, %Y %H:%M:%S', errors='coerce')"
   ]
  },
  {
   "cell_type": "code",
   "execution_count": 6,
   "metadata": {},
   "outputs": [],
   "source": [
    "# Convert Time in Session (minutes) into the integer format\n",
    "data['Time in Session (minutes)'] = data['Time in Session (minutes)'].fillna(0)\n",
    "data['Time in Session (minutes)'] = data['Time in Session (minutes)'].apply(lambda x: 0 if x == '--' else x)\n",
    "data['Time in Session (minutes)'] = data['Time in Session (minutes)'].astype('int64')"
   ]
  },
  {
   "cell_type": "code",
   "execution_count": 7,
   "metadata": {},
   "outputs": [],
   "source": [
    "# Define those who attended the event for longer than 5 mins\n",
    "data['Attended (for more than 5 mins)'] = data['Time in Session (minutes)'].apply(lambda x: 1 if x >= 5 else 0)\n",
    "data['Attended (for less than 5 mins)'] = data['Time in Session (minutes)'].apply(lambda x: 1 if 0 < x < 5 else 0)\n",
    "\n",
    "#data[data['Time in Session (minutes)'] > 5]"
   ]
  },
  {
   "cell_type": "code",
   "execution_count": 8,
   "metadata": {},
   "outputs": [],
   "source": [
    "# Modify columns to better reflect the status of isitors\n",
    "data['Status'] = data['Attended']\n",
    "data['Status'] = data['Status'].apply(lambda x: 'Attended' if x == 'Yes' else 'Registered')\n",
    "data['Attended'] = data['Attended'].apply(lambda x: 1 if x == 'Yes' else 0)\n",
    "data['Approval Status'] = data['Approval Status'].apply(lambda x: 1 if x == 'approved' else 0)\n",
    "data.rename(columns = {'Approval Status':'Registered'}, inplace = True)\n",
    "data = data.drop('Is Guest', axis=1)"
   ]
  },
  {
   "cell_type": "code",
   "execution_count": 9,
   "metadata": {},
   "outputs": [
    {
     "name": "stdout",
     "output_type": "stream",
     "text": [
      "<class 'pandas.core.frame.DataFrame'>\n",
      "RangeIndex: 492 entries, 0 to 491\n",
      "Data columns (total 21 columns):\n",
      " #   Column                           Non-Null Count  Dtype         \n",
      "---  ------                           --------------  -----         \n",
      " 0   Event Date                       492 non-null    datetime64[ns]\n",
      " 1   Topic                            492 non-null    object        \n",
      " 2   Attended                         492 non-null    int64         \n",
      " 3   User Name (Original Name)        492 non-null    object        \n",
      " 4   First Name                       492 non-null    object        \n",
      " 5   Last Name                        492 non-null    object        \n",
      " 6   Email                            492 non-null    object        \n",
      " 7   City                             217 non-null    object        \n",
      " 8   Country/Region                   363 non-null    object        \n",
      " 9   State/Province                   270 non-null    object        \n",
      " 10  Phone                            161 non-null    object        \n",
      " 11  Registration Time                492 non-null    datetime64[ns]\n",
      " 12  Registered                       492 non-null    int64         \n",
      " 13  Join Time                        204 non-null    datetime64[ns]\n",
      " 14  Leave Time                       204 non-null    datetime64[ns]\n",
      " 15  Time in Session (minutes)        492 non-null    int64         \n",
      " 16  Country/Region Name              382 non-null    object        \n",
      " 17  Source Name                      454 non-null    object        \n",
      " 18  Attended (for more than 5 mins)  492 non-null    int64         \n",
      " 19  Attended (for less than 5 mins)  492 non-null    int64         \n",
      " 20  Status                           492 non-null    object        \n",
      "dtypes: datetime64[ns](4), int64(5), object(12)\n",
      "memory usage: 80.8+ KB\n"
     ]
    }
   ],
   "source": [
    "data.info()"
   ]
  },
  {
   "cell_type": "code",
   "execution_count": 10,
   "metadata": {},
   "outputs": [
    {
     "data": {
      "text/plain": [
       "City                   275\n",
       "Country/Region         129\n",
       "State/Province         222\n",
       "Phone                  331\n",
       "Join Time              288\n",
       "Leave Time             288\n",
       "Country/Region Name    110\n",
       "Source Name             38\n",
       "dtype: int64"
      ]
     },
     "metadata": {},
     "output_type": "display_data"
    }
   ],
   "source": [
    "# Check missing values (not that important for this project)\n",
    "null_data = data.isnull().sum()\n",
    "display(null_data[null_data > 0])"
   ]
  },
  {
   "cell_type": "code",
   "execution_count": 11,
   "metadata": {},
   "outputs": [
    {
     "data": {
      "text/html": [
       "<div>\n",
       "<style scoped>\n",
       "    .dataframe tbody tr th:only-of-type {\n",
       "        vertical-align: middle;\n",
       "    }\n",
       "\n",
       "    .dataframe tbody tr th {\n",
       "        vertical-align: top;\n",
       "    }\n",
       "\n",
       "    .dataframe thead th {\n",
       "        text-align: right;\n",
       "    }\n",
       "</style>\n",
       "<table border=\"1\" class=\"dataframe\">\n",
       "  <thead>\n",
       "    <tr style=\"text-align: right;\">\n",
       "      <th></th>\n",
       "      <th>Event Date</th>\n",
       "      <th>Registered</th>\n",
       "      <th>Attended</th>\n",
       "      <th>Attended (for more than 5 mins)</th>\n",
       "      <th>Attended (for less than 5 mins)</th>\n",
       "    </tr>\n",
       "  </thead>\n",
       "  <tbody>\n",
       "    <tr>\n",
       "      <th>0</th>\n",
       "      <td>2022-04-05</td>\n",
       "      <td>99</td>\n",
       "      <td>42</td>\n",
       "      <td>37</td>\n",
       "      <td>5</td>\n",
       "    </tr>\n",
       "    <tr>\n",
       "      <th>1</th>\n",
       "      <td>2022-04-12</td>\n",
       "      <td>65</td>\n",
       "      <td>30</td>\n",
       "      <td>29</td>\n",
       "      <td>1</td>\n",
       "    </tr>\n",
       "    <tr>\n",
       "      <th>2</th>\n",
       "      <td>2022-04-26</td>\n",
       "      <td>77</td>\n",
       "      <td>23</td>\n",
       "      <td>18</td>\n",
       "      <td>5</td>\n",
       "    </tr>\n",
       "    <tr>\n",
       "      <th>3</th>\n",
       "      <td>2022-05-03</td>\n",
       "      <td>36</td>\n",
       "      <td>9</td>\n",
       "      <td>9</td>\n",
       "      <td>0</td>\n",
       "    </tr>\n",
       "    <tr>\n",
       "      <th>4</th>\n",
       "      <td>2022-05-10</td>\n",
       "      <td>37</td>\n",
       "      <td>18</td>\n",
       "      <td>16</td>\n",
       "      <td>2</td>\n",
       "    </tr>\n",
       "    <tr>\n",
       "      <th>5</th>\n",
       "      <td>2022-05-17</td>\n",
       "      <td>93</td>\n",
       "      <td>48</td>\n",
       "      <td>47</td>\n",
       "      <td>1</td>\n",
       "    </tr>\n",
       "    <tr>\n",
       "      <th>6</th>\n",
       "      <td>2022-05-24</td>\n",
       "      <td>45</td>\n",
       "      <td>19</td>\n",
       "      <td>18</td>\n",
       "      <td>1</td>\n",
       "    </tr>\n",
       "    <tr>\n",
       "      <th>7</th>\n",
       "      <td>2022-05-31</td>\n",
       "      <td>40</td>\n",
       "      <td>15</td>\n",
       "      <td>13</td>\n",
       "      <td>2</td>\n",
       "    </tr>\n",
       "  </tbody>\n",
       "</table>\n",
       "</div>"
      ],
      "text/plain": [
       "  Event Date  Registered  Attended  Attended (for more than 5 mins)  \\\n",
       "0 2022-04-05          99        42                               37   \n",
       "1 2022-04-12          65        30                               29   \n",
       "2 2022-04-26          77        23                               18   \n",
       "3 2022-05-03          36         9                                9   \n",
       "4 2022-05-10          37        18                               16   \n",
       "5 2022-05-17          93        48                               47   \n",
       "6 2022-05-24          45        19                               18   \n",
       "7 2022-05-31          40        15                               13   \n",
       "\n",
       "   Attended (for less than 5 mins)  \n",
       "0                                5  \n",
       "1                                1  \n",
       "2                                5  \n",
       "3                                0  \n",
       "4                                2  \n",
       "5                                1  \n",
       "6                                1  \n",
       "7                                2  "
      ]
     },
     "metadata": {},
     "output_type": "display_data"
    }
   ],
   "source": [
    "# The number of attendees and their average watch time\n",
    "\n",
    "reg_att_data = data.groupby(['Event Date'],as_index=False)[['Registered', \n",
    "                                                            'Attended',\n",
    "                                                            'Attended (for more than 5 mins)', \n",
    "                                                            'Attended (for less than 5 mins)'\n",
    "                                                            ]].sum()\n",
    "display(reg_att_data.round(2))"
   ]
  },
  {
   "cell_type": "code",
   "execution_count": 12,
   "metadata": {},
   "outputs": [
    {
     "data": {
      "text/html": [
       "<div>\n",
       "<style scoped>\n",
       "    .dataframe tbody tr th:only-of-type {\n",
       "        vertical-align: middle;\n",
       "    }\n",
       "\n",
       "    .dataframe tbody tr th {\n",
       "        vertical-align: top;\n",
       "    }\n",
       "\n",
       "    .dataframe thead th {\n",
       "        text-align: right;\n",
       "    }\n",
       "</style>\n",
       "<table border=\"1\" class=\"dataframe\">\n",
       "  <thead>\n",
       "    <tr style=\"text-align: right;\">\n",
       "      <th></th>\n",
       "      <th>Registered</th>\n",
       "      <th>Attended</th>\n",
       "      <th>Attended (for more than 5 mins)</th>\n",
       "      <th>Attended (for less than 5 mins)</th>\n",
       "    </tr>\n",
       "  </thead>\n",
       "  <tbody>\n",
       "    <tr>\n",
       "      <th>count</th>\n",
       "      <td>8.000000</td>\n",
       "      <td>8.000000</td>\n",
       "      <td>8.000000</td>\n",
       "      <td>8.000000</td>\n",
       "    </tr>\n",
       "    <tr>\n",
       "      <th>mean</th>\n",
       "      <td>61.500000</td>\n",
       "      <td>25.500000</td>\n",
       "      <td>23.375000</td>\n",
       "      <td>2.125000</td>\n",
       "    </tr>\n",
       "    <tr>\n",
       "      <th>std</th>\n",
       "      <td>25.734912</td>\n",
       "      <td>13.554124</td>\n",
       "      <td>13.103298</td>\n",
       "      <td>1.885092</td>\n",
       "    </tr>\n",
       "    <tr>\n",
       "      <th>min</th>\n",
       "      <td>36.000000</td>\n",
       "      <td>9.000000</td>\n",
       "      <td>9.000000</td>\n",
       "      <td>0.000000</td>\n",
       "    </tr>\n",
       "    <tr>\n",
       "      <th>25%</th>\n",
       "      <td>39.250000</td>\n",
       "      <td>17.250000</td>\n",
       "      <td>15.250000</td>\n",
       "      <td>1.000000</td>\n",
       "    </tr>\n",
       "    <tr>\n",
       "      <th>50%</th>\n",
       "      <td>55.000000</td>\n",
       "      <td>21.000000</td>\n",
       "      <td>18.000000</td>\n",
       "      <td>1.500000</td>\n",
       "    </tr>\n",
       "    <tr>\n",
       "      <th>75%</th>\n",
       "      <td>81.000000</td>\n",
       "      <td>33.000000</td>\n",
       "      <td>31.000000</td>\n",
       "      <td>2.750000</td>\n",
       "    </tr>\n",
       "    <tr>\n",
       "      <th>max</th>\n",
       "      <td>99.000000</td>\n",
       "      <td>48.000000</td>\n",
       "      <td>47.000000</td>\n",
       "      <td>5.000000</td>\n",
       "    </tr>\n",
       "  </tbody>\n",
       "</table>\n",
       "</div>"
      ],
      "text/plain": [
       "       Registered   Attended  Attended (for more than 5 mins)  \\\n",
       "count    8.000000   8.000000                         8.000000   \n",
       "mean    61.500000  25.500000                        23.375000   \n",
       "std     25.734912  13.554124                        13.103298   \n",
       "min     36.000000   9.000000                         9.000000   \n",
       "25%     39.250000  17.250000                        15.250000   \n",
       "50%     55.000000  21.000000                        18.000000   \n",
       "75%     81.000000  33.000000                        31.000000   \n",
       "max     99.000000  48.000000                        47.000000   \n",
       "\n",
       "       Attended (for less than 5 mins)  \n",
       "count                         8.000000  \n",
       "mean                          2.125000  \n",
       "std                           1.885092  \n",
       "min                           0.000000  \n",
       "25%                           1.000000  \n",
       "50%                           1.500000  \n",
       "75%                           2.750000  \n",
       "max                           5.000000  "
      ]
     },
     "metadata": {},
     "output_type": "display_data"
    }
   ],
   "source": [
    "display(reg_att_data.describe())"
   ]
  },
  {
   "cell_type": "code",
   "execution_count": 13,
   "metadata": {},
   "outputs": [
    {
     "data": {
      "application/vnd.plotly.v1+json": {
       "config": {
        "plotlyServerURL": "https://plot.ly"
       },
       "data": [
        {
         "name": "Registered",
         "offsetgroup": "0",
         "text": [
          99,
          65,
          77,
          36,
          37,
          93,
          45,
          40
         ],
         "type": "bar",
         "x": [
          "2022-04-05T00:00:00",
          "2022-04-12T00:00:00",
          "2022-04-26T00:00:00",
          "2022-05-03T00:00:00",
          "2022-05-10T00:00:00",
          "2022-05-17T00:00:00",
          "2022-05-24T00:00:00",
          "2022-05-31T00:00:00"
         ],
         "y": [
          99,
          65,
          77,
          36,
          37,
          93,
          45,
          40
         ]
        },
        {
         "name": "Attended (for less than 5 mins)",
         "offsetgroup": "1",
         "text": [
          5,
          1,
          5,
          0,
          2,
          1,
          1,
          2
         ],
         "type": "bar",
         "x": [
          "2022-04-05T00:00:00",
          "2022-04-12T00:00:00",
          "2022-04-26T00:00:00",
          "2022-05-03T00:00:00",
          "2022-05-10T00:00:00",
          "2022-05-17T00:00:00",
          "2022-05-24T00:00:00",
          "2022-05-31T00:00:00"
         ],
         "y": [
          5,
          1,
          5,
          0,
          2,
          1,
          1,
          2
         ]
        },
        {
         "base": [
          5,
          1,
          5,
          0,
          2,
          1,
          1,
          2
         ],
         "name": "Attended (for more than 5 mins)",
         "offsetgroup": "1",
         "text": [
          37,
          29,
          18,
          9,
          16,
          47,
          18,
          13
         ],
         "type": "bar",
         "x": [
          "2022-04-05T00:00:00",
          "2022-04-12T00:00:00",
          "2022-04-26T00:00:00",
          "2022-05-03T00:00:00",
          "2022-05-10T00:00:00",
          "2022-05-17T00:00:00",
          "2022-05-24T00:00:00",
          "2022-05-31T00:00:00"
         ],
         "y": [
          37,
          29,
          18,
          9,
          16,
          47,
          18,
          13
         ]
        }
       ],
       "layout": {
        "height": 600,
        "legend": {
         "bgcolor": "rgba(255, 255, 255, 0)",
         "bordercolor": "rgba(255, 255, 255, 0)",
         "orientation": "h",
         "x": 1,
         "xanchor": "right",
         "y": 1.02,
         "yanchor": "bottom"
        },
        "template": {
         "data": {
          "bar": [
           {
            "error_x": {
             "color": "#2a3f5f"
            },
            "error_y": {
             "color": "#2a3f5f"
            },
            "marker": {
             "line": {
              "color": "#E5ECF6",
              "width": 0.5
             },
             "pattern": {
              "fillmode": "overlay",
              "size": 10,
              "solidity": 0.2
             }
            },
            "type": "bar"
           }
          ],
          "barpolar": [
           {
            "marker": {
             "line": {
              "color": "#E5ECF6",
              "width": 0.5
             },
             "pattern": {
              "fillmode": "overlay",
              "size": 10,
              "solidity": 0.2
             }
            },
            "type": "barpolar"
           }
          ],
          "carpet": [
           {
            "aaxis": {
             "endlinecolor": "#2a3f5f",
             "gridcolor": "white",
             "linecolor": "white",
             "minorgridcolor": "white",
             "startlinecolor": "#2a3f5f"
            },
            "baxis": {
             "endlinecolor": "#2a3f5f",
             "gridcolor": "white",
             "linecolor": "white",
             "minorgridcolor": "white",
             "startlinecolor": "#2a3f5f"
            },
            "type": "carpet"
           }
          ],
          "choropleth": [
           {
            "colorbar": {
             "outlinewidth": 0,
             "ticks": ""
            },
            "type": "choropleth"
           }
          ],
          "contour": [
           {
            "colorbar": {
             "outlinewidth": 0,
             "ticks": ""
            },
            "colorscale": [
             [
              0,
              "#0d0887"
             ],
             [
              0.1111111111111111,
              "#46039f"
             ],
             [
              0.2222222222222222,
              "#7201a8"
             ],
             [
              0.3333333333333333,
              "#9c179e"
             ],
             [
              0.4444444444444444,
              "#bd3786"
             ],
             [
              0.5555555555555556,
              "#d8576b"
             ],
             [
              0.6666666666666666,
              "#ed7953"
             ],
             [
              0.7777777777777778,
              "#fb9f3a"
             ],
             [
              0.8888888888888888,
              "#fdca26"
             ],
             [
              1,
              "#f0f921"
             ]
            ],
            "type": "contour"
           }
          ],
          "contourcarpet": [
           {
            "colorbar": {
             "outlinewidth": 0,
             "ticks": ""
            },
            "type": "contourcarpet"
           }
          ],
          "heatmap": [
           {
            "colorbar": {
             "outlinewidth": 0,
             "ticks": ""
            },
            "colorscale": [
             [
              0,
              "#0d0887"
             ],
             [
              0.1111111111111111,
              "#46039f"
             ],
             [
              0.2222222222222222,
              "#7201a8"
             ],
             [
              0.3333333333333333,
              "#9c179e"
             ],
             [
              0.4444444444444444,
              "#bd3786"
             ],
             [
              0.5555555555555556,
              "#d8576b"
             ],
             [
              0.6666666666666666,
              "#ed7953"
             ],
             [
              0.7777777777777778,
              "#fb9f3a"
             ],
             [
              0.8888888888888888,
              "#fdca26"
             ],
             [
              1,
              "#f0f921"
             ]
            ],
            "type": "heatmap"
           }
          ],
          "heatmapgl": [
           {
            "colorbar": {
             "outlinewidth": 0,
             "ticks": ""
            },
            "colorscale": [
             [
              0,
              "#0d0887"
             ],
             [
              0.1111111111111111,
              "#46039f"
             ],
             [
              0.2222222222222222,
              "#7201a8"
             ],
             [
              0.3333333333333333,
              "#9c179e"
             ],
             [
              0.4444444444444444,
              "#bd3786"
             ],
             [
              0.5555555555555556,
              "#d8576b"
             ],
             [
              0.6666666666666666,
              "#ed7953"
             ],
             [
              0.7777777777777778,
              "#fb9f3a"
             ],
             [
              0.8888888888888888,
              "#fdca26"
             ],
             [
              1,
              "#f0f921"
             ]
            ],
            "type": "heatmapgl"
           }
          ],
          "histogram": [
           {
            "marker": {
             "pattern": {
              "fillmode": "overlay",
              "size": 10,
              "solidity": 0.2
             }
            },
            "type": "histogram"
           }
          ],
          "histogram2d": [
           {
            "colorbar": {
             "outlinewidth": 0,
             "ticks": ""
            },
            "colorscale": [
             [
              0,
              "#0d0887"
             ],
             [
              0.1111111111111111,
              "#46039f"
             ],
             [
              0.2222222222222222,
              "#7201a8"
             ],
             [
              0.3333333333333333,
              "#9c179e"
             ],
             [
              0.4444444444444444,
              "#bd3786"
             ],
             [
              0.5555555555555556,
              "#d8576b"
             ],
             [
              0.6666666666666666,
              "#ed7953"
             ],
             [
              0.7777777777777778,
              "#fb9f3a"
             ],
             [
              0.8888888888888888,
              "#fdca26"
             ],
             [
              1,
              "#f0f921"
             ]
            ],
            "type": "histogram2d"
           }
          ],
          "histogram2dcontour": [
           {
            "colorbar": {
             "outlinewidth": 0,
             "ticks": ""
            },
            "colorscale": [
             [
              0,
              "#0d0887"
             ],
             [
              0.1111111111111111,
              "#46039f"
             ],
             [
              0.2222222222222222,
              "#7201a8"
             ],
             [
              0.3333333333333333,
              "#9c179e"
             ],
             [
              0.4444444444444444,
              "#bd3786"
             ],
             [
              0.5555555555555556,
              "#d8576b"
             ],
             [
              0.6666666666666666,
              "#ed7953"
             ],
             [
              0.7777777777777778,
              "#fb9f3a"
             ],
             [
              0.8888888888888888,
              "#fdca26"
             ],
             [
              1,
              "#f0f921"
             ]
            ],
            "type": "histogram2dcontour"
           }
          ],
          "mesh3d": [
           {
            "colorbar": {
             "outlinewidth": 0,
             "ticks": ""
            },
            "type": "mesh3d"
           }
          ],
          "parcoords": [
           {
            "line": {
             "colorbar": {
              "outlinewidth": 0,
              "ticks": ""
             }
            },
            "type": "parcoords"
           }
          ],
          "pie": [
           {
            "automargin": true,
            "type": "pie"
           }
          ],
          "scatter": [
           {
            "marker": {
             "colorbar": {
              "outlinewidth": 0,
              "ticks": ""
             }
            },
            "type": "scatter"
           }
          ],
          "scatter3d": [
           {
            "line": {
             "colorbar": {
              "outlinewidth": 0,
              "ticks": ""
             }
            },
            "marker": {
             "colorbar": {
              "outlinewidth": 0,
              "ticks": ""
             }
            },
            "type": "scatter3d"
           }
          ],
          "scattercarpet": [
           {
            "marker": {
             "colorbar": {
              "outlinewidth": 0,
              "ticks": ""
             }
            },
            "type": "scattercarpet"
           }
          ],
          "scattergeo": [
           {
            "marker": {
             "colorbar": {
              "outlinewidth": 0,
              "ticks": ""
             }
            },
            "type": "scattergeo"
           }
          ],
          "scattergl": [
           {
            "marker": {
             "colorbar": {
              "outlinewidth": 0,
              "ticks": ""
             }
            },
            "type": "scattergl"
           }
          ],
          "scattermapbox": [
           {
            "marker": {
             "colorbar": {
              "outlinewidth": 0,
              "ticks": ""
             }
            },
            "type": "scattermapbox"
           }
          ],
          "scatterpolar": [
           {
            "marker": {
             "colorbar": {
              "outlinewidth": 0,
              "ticks": ""
             }
            },
            "type": "scatterpolar"
           }
          ],
          "scatterpolargl": [
           {
            "marker": {
             "colorbar": {
              "outlinewidth": 0,
              "ticks": ""
             }
            },
            "type": "scatterpolargl"
           }
          ],
          "scatterternary": [
           {
            "marker": {
             "colorbar": {
              "outlinewidth": 0,
              "ticks": ""
             }
            },
            "type": "scatterternary"
           }
          ],
          "surface": [
           {
            "colorbar": {
             "outlinewidth": 0,
             "ticks": ""
            },
            "colorscale": [
             [
              0,
              "#0d0887"
             ],
             [
              0.1111111111111111,
              "#46039f"
             ],
             [
              0.2222222222222222,
              "#7201a8"
             ],
             [
              0.3333333333333333,
              "#9c179e"
             ],
             [
              0.4444444444444444,
              "#bd3786"
             ],
             [
              0.5555555555555556,
              "#d8576b"
             ],
             [
              0.6666666666666666,
              "#ed7953"
             ],
             [
              0.7777777777777778,
              "#fb9f3a"
             ],
             [
              0.8888888888888888,
              "#fdca26"
             ],
             [
              1,
              "#f0f921"
             ]
            ],
            "type": "surface"
           }
          ],
          "table": [
           {
            "cells": {
             "fill": {
              "color": "#EBF0F8"
             },
             "line": {
              "color": "white"
             }
            },
            "header": {
             "fill": {
              "color": "#C8D4E3"
             },
             "line": {
              "color": "white"
             }
            },
            "type": "table"
           }
          ]
         },
         "layout": {
          "annotationdefaults": {
           "arrowcolor": "#2a3f5f",
           "arrowhead": 0,
           "arrowwidth": 1
          },
          "autotypenumbers": "strict",
          "coloraxis": {
           "colorbar": {
            "outlinewidth": 0,
            "ticks": ""
           }
          },
          "colorscale": {
           "diverging": [
            [
             0,
             "#8e0152"
            ],
            [
             0.1,
             "#c51b7d"
            ],
            [
             0.2,
             "#de77ae"
            ],
            [
             0.3,
             "#f1b6da"
            ],
            [
             0.4,
             "#fde0ef"
            ],
            [
             0.5,
             "#f7f7f7"
            ],
            [
             0.6,
             "#e6f5d0"
            ],
            [
             0.7,
             "#b8e186"
            ],
            [
             0.8,
             "#7fbc41"
            ],
            [
             0.9,
             "#4d9221"
            ],
            [
             1,
             "#276419"
            ]
           ],
           "sequential": [
            [
             0,
             "#0d0887"
            ],
            [
             0.1111111111111111,
             "#46039f"
            ],
            [
             0.2222222222222222,
             "#7201a8"
            ],
            [
             0.3333333333333333,
             "#9c179e"
            ],
            [
             0.4444444444444444,
             "#bd3786"
            ],
            [
             0.5555555555555556,
             "#d8576b"
            ],
            [
             0.6666666666666666,
             "#ed7953"
            ],
            [
             0.7777777777777778,
             "#fb9f3a"
            ],
            [
             0.8888888888888888,
             "#fdca26"
            ],
            [
             1,
             "#f0f921"
            ]
           ],
           "sequentialminus": [
            [
             0,
             "#0d0887"
            ],
            [
             0.1111111111111111,
             "#46039f"
            ],
            [
             0.2222222222222222,
             "#7201a8"
            ],
            [
             0.3333333333333333,
             "#9c179e"
            ],
            [
             0.4444444444444444,
             "#bd3786"
            ],
            [
             0.5555555555555556,
             "#d8576b"
            ],
            [
             0.6666666666666666,
             "#ed7953"
            ],
            [
             0.7777777777777778,
             "#fb9f3a"
            ],
            [
             0.8888888888888888,
             "#fdca26"
            ],
            [
             1,
             "#f0f921"
            ]
           ]
          },
          "colorway": [
           "#636efa",
           "#EF553B",
           "#00cc96",
           "#ab63fa",
           "#FFA15A",
           "#19d3f3",
           "#FF6692",
           "#B6E880",
           "#FF97FF",
           "#FECB52"
          ],
          "font": {
           "color": "#2a3f5f"
          },
          "geo": {
           "bgcolor": "white",
           "lakecolor": "white",
           "landcolor": "#E5ECF6",
           "showlakes": true,
           "showland": true,
           "subunitcolor": "white"
          },
          "hoverlabel": {
           "align": "left"
          },
          "hovermode": "closest",
          "mapbox": {
           "style": "light"
          },
          "paper_bgcolor": "white",
          "plot_bgcolor": "#E5ECF6",
          "polar": {
           "angularaxis": {
            "gridcolor": "white",
            "linecolor": "white",
            "ticks": ""
           },
           "bgcolor": "#E5ECF6",
           "radialaxis": {
            "gridcolor": "white",
            "linecolor": "white",
            "ticks": ""
           }
          },
          "scene": {
           "xaxis": {
            "backgroundcolor": "#E5ECF6",
            "gridcolor": "white",
            "gridwidth": 2,
            "linecolor": "white",
            "showbackground": true,
            "ticks": "",
            "zerolinecolor": "white"
           },
           "yaxis": {
            "backgroundcolor": "#E5ECF6",
            "gridcolor": "white",
            "gridwidth": 2,
            "linecolor": "white",
            "showbackground": true,
            "ticks": "",
            "zerolinecolor": "white"
           },
           "zaxis": {
            "backgroundcolor": "#E5ECF6",
            "gridcolor": "white",
            "gridwidth": 2,
            "linecolor": "white",
            "showbackground": true,
            "ticks": "",
            "zerolinecolor": "white"
           }
          },
          "shapedefaults": {
           "line": {
            "color": "#2a3f5f"
           }
          },
          "ternary": {
           "aaxis": {
            "gridcolor": "white",
            "linecolor": "white",
            "ticks": ""
           },
           "baxis": {
            "gridcolor": "white",
            "linecolor": "white",
            "ticks": ""
           },
           "bgcolor": "#E5ECF6",
           "caxis": {
            "gridcolor": "white",
            "linecolor": "white",
            "ticks": ""
           }
          },
          "title": {
           "x": 0.05
          },
          "xaxis": {
           "automargin": true,
           "gridcolor": "white",
           "linecolor": "white",
           "ticks": "",
           "title": {
            "standoff": 15
           },
           "zerolinecolor": "white",
           "zerolinewidth": 2
          },
          "yaxis": {
           "automargin": true,
           "gridcolor": "white",
           "linecolor": "white",
           "ticks": "",
           "title": {
            "standoff": 15
           },
           "zerolinecolor": "white",
           "zerolinewidth": 2
          }
         }
        },
        "title": {
         "text": "WI Club Investor Night - Registration vs Attendance",
         "x": 0.5,
         "y": 0.95
        },
        "width": 1100,
        "yaxis": {
         "title": {
          "text": "Number of People"
         }
        }
       }
      }
     },
     "metadata": {},
     "output_type": "display_data"
    }
   ],
   "source": [
    "# Registration vs Attendance Barchart Overall\n",
    "barchart = go.Figure(data=[\n",
    "    go.Bar(\n",
    "        name='Registered', \n",
    "        x=reg_att_data['Event Date'], \n",
    "        y=reg_att_data['Registered'],\n",
    "        text=reg_att_data['Registered'],\n",
    "        offsetgroup=0,\n",
    "#         marker_color='rgb(54, 28, 84)'\n",
    "    ),\n",
    "    \n",
    "    go.Bar(\n",
    "        name='Attended (for less than 5 mins)', \n",
    "        x=reg_att_data['Event Date'], \n",
    "        y=reg_att_data['Attended (for less than 5 mins)'],\n",
    "        text=reg_att_data['Attended (for less than 5 mins)'],\n",
    "        offsetgroup=1,\n",
    "#         marker_color='rgb(213, 189, 147)'\n",
    "    ),\n",
    "    \n",
    "    go.Bar(\n",
    "        name='Attended (for more than 5 mins)', \n",
    "        x=reg_att_data['Event Date'], \n",
    "        y=reg_att_data['Attended (for more than 5 mins)'],\n",
    "        text=reg_att_data['Attended (for more than 5 mins)'],\n",
    "        offsetgroup=1,\n",
    "        base=reg_att_data['Attended (for less than 5 mins)'],\n",
    "#         marker_color='rgb(118, 92, 46)'\n",
    "    )\n",
    "])\n",
    "\n",
    "# Change the bar mode\n",
    "barchart.update_layout(\n",
    "        title=\"WI Club Investor Night - Registration vs Attendance\",\n",
    "        title_x=0.5,\n",
    "        title_y=0.95,\n",
    "        yaxis_title=\"Number of People\",\n",
    "        width=1100,\n",
    "        height=600,\n",
    "        legend=dict(orientation=\"h\",\n",
    "        yanchor=\"bottom\",\n",
    "        y=1.02,\n",
    "        xanchor=\"right\",\n",
    "        x=1,\n",
    "        bgcolor='rgba(255, 255, 255, 0)', # transparent legend background\n",
    "        bordercolor='rgba(255, 255, 255, 0)' # transparent legend borders\n",
    "    )\n",
    "    )\n",
    "barchart.show()"
   ]
  },
  {
   "cell_type": "code",
   "execution_count": 14,
   "metadata": {},
   "outputs": [],
   "source": [
    "# # Saving the barchart in a file\n",
    "\n",
    "# t = time.localtime()\n",
    "# timestamp = time.strftime('%Y-%m-%d', t)\n",
    "# barchart_file_name = (' - Registrations vs Attendees Barchart - ' + timestamp)\n",
    "# location_windows = \"H:\\My Drive\\Working Files CS\\Analytics\\WI Club Nights\\WI Club Night\"\n",
    "# pio.write_image(barchart, (location_windows + barchart_file_name + '.png'), format='png', width=1100, height=600)\n"
   ]
  },
  {
   "cell_type": "markdown",
   "metadata": {},
   "source": [
    "## Stats on unique viewers"
   ]
  },
  {
   "cell_type": "code",
   "execution_count": 15,
   "metadata": {},
   "outputs": [
    {
     "name": "stdout",
     "output_type": "stream",
     "text": [
      "344 unique registrations across all events\n",
      "165 unique attendees across all events\n",
      "Average conversion is 47.97%\n"
     ]
    }
   ],
   "source": [
    "# Displaying unique registrations and attendees\n",
    "reg_unique = data['Email'].nunique()\n",
    "print('{} unique registrations across all events'.format(reg_unique))\n",
    "\n",
    "mask = data[data['Attended'] == 1]\n",
    "att_unique = mask['Email'].nunique()\n",
    "print('{} unique attendees across all events'.format(att_unique))\n",
    "\n",
    "conversion = (att_unique/reg_unique)*100\n",
    "print('Average conversion is {}%'.format(round(conversion, 2)))"
   ]
  },
  {
   "cell_type": "code",
   "execution_count": 16,
   "metadata": {},
   "outputs": [],
   "source": [
    "# The number of attendees and their average watch time\n",
    "pie_data = data.groupby(['Email'],as_index=False)[['Registered', \n",
    "                                                   'Attended (for more than 5 mins)', \n",
    "                                                   'Attended (for less than 5 mins)'\n",
    "                                                   ]].sum()"
   ]
  },
  {
   "cell_type": "code",
   "execution_count": 17,
   "metadata": {},
   "outputs": [],
   "source": [
    "# Describe how many times has users attended the events\n",
    "def get_attendance(value):\n",
    "    if value == 1:\n",
    "        return 'once'\n",
    "    elif value == 2:\n",
    "        return 'twice'\n",
    "    elif value > 2:\n",
    "        return 'three times or more'\n",
    "    else: \n",
    "        return 0\n",
    "\n",
    "pie_data['Attended'] = pie_data['Attended (for more than 5 mins)'].apply(get_attendance)"
   ]
  },
  {
   "cell_type": "code",
   "execution_count": 18,
   "metadata": {},
   "outputs": [
    {
     "data": {
      "application/vnd.plotly.v1+json": {
       "config": {
        "plotlyServerURL": "https://plot.ly"
       },
       "data": [
        {
         "domain": {
          "x": [
           0,
           1
          ],
          "y": [
           0,
           1
          ]
         },
         "hole": 0.3,
         "hovertemplate": "index=%{label}<br>Attended=%{value}<extra></extra>",
         "labels": [
          "once",
          "twice",
          "three times or more"
         ],
         "legendgroup": "",
         "name": "",
         "showlegend": true,
         "textinfo": "percent+label",
         "type": "pie",
         "values": [
          0.86,
          0.08,
          0.06
         ]
        }
       ],
       "layout": {
        "height": 600,
        "legend": {
         "tracegroupgap": 0
        },
        "template": {
         "data": {
          "bar": [
           {
            "error_x": {
             "color": "#2a3f5f"
            },
            "error_y": {
             "color": "#2a3f5f"
            },
            "marker": {
             "line": {
              "color": "#E5ECF6",
              "width": 0.5
             },
             "pattern": {
              "fillmode": "overlay",
              "size": 10,
              "solidity": 0.2
             }
            },
            "type": "bar"
           }
          ],
          "barpolar": [
           {
            "marker": {
             "line": {
              "color": "#E5ECF6",
              "width": 0.5
             },
             "pattern": {
              "fillmode": "overlay",
              "size": 10,
              "solidity": 0.2
             }
            },
            "type": "barpolar"
           }
          ],
          "carpet": [
           {
            "aaxis": {
             "endlinecolor": "#2a3f5f",
             "gridcolor": "white",
             "linecolor": "white",
             "minorgridcolor": "white",
             "startlinecolor": "#2a3f5f"
            },
            "baxis": {
             "endlinecolor": "#2a3f5f",
             "gridcolor": "white",
             "linecolor": "white",
             "minorgridcolor": "white",
             "startlinecolor": "#2a3f5f"
            },
            "type": "carpet"
           }
          ],
          "choropleth": [
           {
            "colorbar": {
             "outlinewidth": 0,
             "ticks": ""
            },
            "type": "choropleth"
           }
          ],
          "contour": [
           {
            "colorbar": {
             "outlinewidth": 0,
             "ticks": ""
            },
            "colorscale": [
             [
              0,
              "#0d0887"
             ],
             [
              0.1111111111111111,
              "#46039f"
             ],
             [
              0.2222222222222222,
              "#7201a8"
             ],
             [
              0.3333333333333333,
              "#9c179e"
             ],
             [
              0.4444444444444444,
              "#bd3786"
             ],
             [
              0.5555555555555556,
              "#d8576b"
             ],
             [
              0.6666666666666666,
              "#ed7953"
             ],
             [
              0.7777777777777778,
              "#fb9f3a"
             ],
             [
              0.8888888888888888,
              "#fdca26"
             ],
             [
              1,
              "#f0f921"
             ]
            ],
            "type": "contour"
           }
          ],
          "contourcarpet": [
           {
            "colorbar": {
             "outlinewidth": 0,
             "ticks": ""
            },
            "type": "contourcarpet"
           }
          ],
          "heatmap": [
           {
            "colorbar": {
             "outlinewidth": 0,
             "ticks": ""
            },
            "colorscale": [
             [
              0,
              "#0d0887"
             ],
             [
              0.1111111111111111,
              "#46039f"
             ],
             [
              0.2222222222222222,
              "#7201a8"
             ],
             [
              0.3333333333333333,
              "#9c179e"
             ],
             [
              0.4444444444444444,
              "#bd3786"
             ],
             [
              0.5555555555555556,
              "#d8576b"
             ],
             [
              0.6666666666666666,
              "#ed7953"
             ],
             [
              0.7777777777777778,
              "#fb9f3a"
             ],
             [
              0.8888888888888888,
              "#fdca26"
             ],
             [
              1,
              "#f0f921"
             ]
            ],
            "type": "heatmap"
           }
          ],
          "heatmapgl": [
           {
            "colorbar": {
             "outlinewidth": 0,
             "ticks": ""
            },
            "colorscale": [
             [
              0,
              "#0d0887"
             ],
             [
              0.1111111111111111,
              "#46039f"
             ],
             [
              0.2222222222222222,
              "#7201a8"
             ],
             [
              0.3333333333333333,
              "#9c179e"
             ],
             [
              0.4444444444444444,
              "#bd3786"
             ],
             [
              0.5555555555555556,
              "#d8576b"
             ],
             [
              0.6666666666666666,
              "#ed7953"
             ],
             [
              0.7777777777777778,
              "#fb9f3a"
             ],
             [
              0.8888888888888888,
              "#fdca26"
             ],
             [
              1,
              "#f0f921"
             ]
            ],
            "type": "heatmapgl"
           }
          ],
          "histogram": [
           {
            "marker": {
             "pattern": {
              "fillmode": "overlay",
              "size": 10,
              "solidity": 0.2
             }
            },
            "type": "histogram"
           }
          ],
          "histogram2d": [
           {
            "colorbar": {
             "outlinewidth": 0,
             "ticks": ""
            },
            "colorscale": [
             [
              0,
              "#0d0887"
             ],
             [
              0.1111111111111111,
              "#46039f"
             ],
             [
              0.2222222222222222,
              "#7201a8"
             ],
             [
              0.3333333333333333,
              "#9c179e"
             ],
             [
              0.4444444444444444,
              "#bd3786"
             ],
             [
              0.5555555555555556,
              "#d8576b"
             ],
             [
              0.6666666666666666,
              "#ed7953"
             ],
             [
              0.7777777777777778,
              "#fb9f3a"
             ],
             [
              0.8888888888888888,
              "#fdca26"
             ],
             [
              1,
              "#f0f921"
             ]
            ],
            "type": "histogram2d"
           }
          ],
          "histogram2dcontour": [
           {
            "colorbar": {
             "outlinewidth": 0,
             "ticks": ""
            },
            "colorscale": [
             [
              0,
              "#0d0887"
             ],
             [
              0.1111111111111111,
              "#46039f"
             ],
             [
              0.2222222222222222,
              "#7201a8"
             ],
             [
              0.3333333333333333,
              "#9c179e"
             ],
             [
              0.4444444444444444,
              "#bd3786"
             ],
             [
              0.5555555555555556,
              "#d8576b"
             ],
             [
              0.6666666666666666,
              "#ed7953"
             ],
             [
              0.7777777777777778,
              "#fb9f3a"
             ],
             [
              0.8888888888888888,
              "#fdca26"
             ],
             [
              1,
              "#f0f921"
             ]
            ],
            "type": "histogram2dcontour"
           }
          ],
          "mesh3d": [
           {
            "colorbar": {
             "outlinewidth": 0,
             "ticks": ""
            },
            "type": "mesh3d"
           }
          ],
          "parcoords": [
           {
            "line": {
             "colorbar": {
              "outlinewidth": 0,
              "ticks": ""
             }
            },
            "type": "parcoords"
           }
          ],
          "pie": [
           {
            "automargin": true,
            "type": "pie"
           }
          ],
          "scatter": [
           {
            "marker": {
             "colorbar": {
              "outlinewidth": 0,
              "ticks": ""
             }
            },
            "type": "scatter"
           }
          ],
          "scatter3d": [
           {
            "line": {
             "colorbar": {
              "outlinewidth": 0,
              "ticks": ""
             }
            },
            "marker": {
             "colorbar": {
              "outlinewidth": 0,
              "ticks": ""
             }
            },
            "type": "scatter3d"
           }
          ],
          "scattercarpet": [
           {
            "marker": {
             "colorbar": {
              "outlinewidth": 0,
              "ticks": ""
             }
            },
            "type": "scattercarpet"
           }
          ],
          "scattergeo": [
           {
            "marker": {
             "colorbar": {
              "outlinewidth": 0,
              "ticks": ""
             }
            },
            "type": "scattergeo"
           }
          ],
          "scattergl": [
           {
            "marker": {
             "colorbar": {
              "outlinewidth": 0,
              "ticks": ""
             }
            },
            "type": "scattergl"
           }
          ],
          "scattermapbox": [
           {
            "marker": {
             "colorbar": {
              "outlinewidth": 0,
              "ticks": ""
             }
            },
            "type": "scattermapbox"
           }
          ],
          "scatterpolar": [
           {
            "marker": {
             "colorbar": {
              "outlinewidth": 0,
              "ticks": ""
             }
            },
            "type": "scatterpolar"
           }
          ],
          "scatterpolargl": [
           {
            "marker": {
             "colorbar": {
              "outlinewidth": 0,
              "ticks": ""
             }
            },
            "type": "scatterpolargl"
           }
          ],
          "scatterternary": [
           {
            "marker": {
             "colorbar": {
              "outlinewidth": 0,
              "ticks": ""
             }
            },
            "type": "scatterternary"
           }
          ],
          "surface": [
           {
            "colorbar": {
             "outlinewidth": 0,
             "ticks": ""
            },
            "colorscale": [
             [
              0,
              "#0d0887"
             ],
             [
              0.1111111111111111,
              "#46039f"
             ],
             [
              0.2222222222222222,
              "#7201a8"
             ],
             [
              0.3333333333333333,
              "#9c179e"
             ],
             [
              0.4444444444444444,
              "#bd3786"
             ],
             [
              0.5555555555555556,
              "#d8576b"
             ],
             [
              0.6666666666666666,
              "#ed7953"
             ],
             [
              0.7777777777777778,
              "#fb9f3a"
             ],
             [
              0.8888888888888888,
              "#fdca26"
             ],
             [
              1,
              "#f0f921"
             ]
            ],
            "type": "surface"
           }
          ],
          "table": [
           {
            "cells": {
             "fill": {
              "color": "#EBF0F8"
             },
             "line": {
              "color": "white"
             }
            },
            "header": {
             "fill": {
              "color": "#C8D4E3"
             },
             "line": {
              "color": "white"
             }
            },
            "type": "table"
           }
          ]
         },
         "layout": {
          "annotationdefaults": {
           "arrowcolor": "#2a3f5f",
           "arrowhead": 0,
           "arrowwidth": 1
          },
          "autotypenumbers": "strict",
          "coloraxis": {
           "colorbar": {
            "outlinewidth": 0,
            "ticks": ""
           }
          },
          "colorscale": {
           "diverging": [
            [
             0,
             "#8e0152"
            ],
            [
             0.1,
             "#c51b7d"
            ],
            [
             0.2,
             "#de77ae"
            ],
            [
             0.3,
             "#f1b6da"
            ],
            [
             0.4,
             "#fde0ef"
            ],
            [
             0.5,
             "#f7f7f7"
            ],
            [
             0.6,
             "#e6f5d0"
            ],
            [
             0.7,
             "#b8e186"
            ],
            [
             0.8,
             "#7fbc41"
            ],
            [
             0.9,
             "#4d9221"
            ],
            [
             1,
             "#276419"
            ]
           ],
           "sequential": [
            [
             0,
             "#0d0887"
            ],
            [
             0.1111111111111111,
             "#46039f"
            ],
            [
             0.2222222222222222,
             "#7201a8"
            ],
            [
             0.3333333333333333,
             "#9c179e"
            ],
            [
             0.4444444444444444,
             "#bd3786"
            ],
            [
             0.5555555555555556,
             "#d8576b"
            ],
            [
             0.6666666666666666,
             "#ed7953"
            ],
            [
             0.7777777777777778,
             "#fb9f3a"
            ],
            [
             0.8888888888888888,
             "#fdca26"
            ],
            [
             1,
             "#f0f921"
            ]
           ],
           "sequentialminus": [
            [
             0,
             "#0d0887"
            ],
            [
             0.1111111111111111,
             "#46039f"
            ],
            [
             0.2222222222222222,
             "#7201a8"
            ],
            [
             0.3333333333333333,
             "#9c179e"
            ],
            [
             0.4444444444444444,
             "#bd3786"
            ],
            [
             0.5555555555555556,
             "#d8576b"
            ],
            [
             0.6666666666666666,
             "#ed7953"
            ],
            [
             0.7777777777777778,
             "#fb9f3a"
            ],
            [
             0.8888888888888888,
             "#fdca26"
            ],
            [
             1,
             "#f0f921"
            ]
           ]
          },
          "colorway": [
           "#636efa",
           "#EF553B",
           "#00cc96",
           "#ab63fa",
           "#FFA15A",
           "#19d3f3",
           "#FF6692",
           "#B6E880",
           "#FF97FF",
           "#FECB52"
          ],
          "font": {
           "color": "#2a3f5f"
          },
          "geo": {
           "bgcolor": "white",
           "lakecolor": "white",
           "landcolor": "#E5ECF6",
           "showlakes": true,
           "showland": true,
           "subunitcolor": "white"
          },
          "hoverlabel": {
           "align": "left"
          },
          "hovermode": "closest",
          "mapbox": {
           "style": "light"
          },
          "paper_bgcolor": "white",
          "plot_bgcolor": "#E5ECF6",
          "polar": {
           "angularaxis": {
            "gridcolor": "white",
            "linecolor": "white",
            "ticks": ""
           },
           "bgcolor": "#E5ECF6",
           "radialaxis": {
            "gridcolor": "white",
            "linecolor": "white",
            "ticks": ""
           }
          },
          "scene": {
           "xaxis": {
            "backgroundcolor": "#E5ECF6",
            "gridcolor": "white",
            "gridwidth": 2,
            "linecolor": "white",
            "showbackground": true,
            "ticks": "",
            "zerolinecolor": "white"
           },
           "yaxis": {
            "backgroundcolor": "#E5ECF6",
            "gridcolor": "white",
            "gridwidth": 2,
            "linecolor": "white",
            "showbackground": true,
            "ticks": "",
            "zerolinecolor": "white"
           },
           "zaxis": {
            "backgroundcolor": "#E5ECF6",
            "gridcolor": "white",
            "gridwidth": 2,
            "linecolor": "white",
            "showbackground": true,
            "ticks": "",
            "zerolinecolor": "white"
           }
          },
          "shapedefaults": {
           "line": {
            "color": "#2a3f5f"
           }
          },
          "ternary": {
           "aaxis": {
            "gridcolor": "white",
            "linecolor": "white",
            "ticks": ""
           },
           "baxis": {
            "gridcolor": "white",
            "linecolor": "white",
            "ticks": ""
           },
           "bgcolor": "#E5ECF6",
           "caxis": {
            "gridcolor": "white",
            "linecolor": "white",
            "ticks": ""
           }
          },
          "title": {
           "x": 0.05
          },
          "xaxis": {
           "automargin": true,
           "gridcolor": "white",
           "linecolor": "white",
           "ticks": "",
           "title": {
            "standoff": 15
           },
           "zerolinecolor": "white",
           "zerolinewidth": 2
          },
          "yaxis": {
           "automargin": true,
           "gridcolor": "white",
           "linecolor": "white",
           "ticks": "",
           "title": {
            "standoff": 15
           },
           "zerolinecolor": "white",
           "zerolinewidth": 2
          }
         }
        },
        "title": {
         "text": "How many times people came to WI Club Nights (Overall)"
        },
        "width": 1000
       }
      }
     },
     "metadata": {},
     "output_type": "display_data"
    }
   ],
   "source": [
    "# Visualise how many times people came to the events\n",
    "mask = pie_data[pie_data['Attended (for more than 5 mins)'] > 0]\n",
    "pie_data2 = mask['Attended'].value_counts(normalize=True)\n",
    "piechart = px.pie(\n",
    "    pie_data2,\n",
    "    values='Attended',\n",
    "    names=pie_data2.index,\n",
    "    width=1000,\n",
    "    height=600,\n",
    "    hole=0.3,\n",
    "    title='How many times people came to WI Club Nights (Overall)'\n",
    ")\n",
    "piechart.update_traces(textinfo='percent+label')\n",
    "piechart.show()\n"
   ]
  },
  {
   "cell_type": "code",
   "execution_count": 19,
   "metadata": {},
   "outputs": [],
   "source": [
    "# piechart_file_name = (' - Repeat Attendees Pie Total - ' + timestamp)\n",
    "# pio.write_image(piechart, (location_windows + piechart_file_name + '.png'), format='png', width=1000, height=600)"
   ]
  },
  {
   "cell_type": "markdown",
   "metadata": {},
   "source": [
    "## Stats on 17.05.2022 web 3.0"
   ]
  },
  {
   "cell_type": "code",
   "execution_count": 20,
   "metadata": {},
   "outputs": [
    {
     "name": "stdout",
     "output_type": "stream",
     "text": [
      "The first attendee joined at 2022-05-17 17:22:54\n",
      "The last attendee left at 2022-05-17 19:29:12\n"
     ]
    }
   ],
   "source": [
    "# Extracting dvisitors of this event and checking its start and end\n",
    "data_17_05_2022 = data[data['Event Date'] == '2022-05-17'].sort_values(by='Join Time', ignore_index=True)\n",
    "start_17_05_2022 = data_17_05_2022['Join Time'][0]\n",
    "print('The first attendee joined at ' + str(start_17_05_2022))\n",
    "\n",
    "data_17_05_2022 = data[data['Event Date'] == '2022-05-17'].sort_values(by='Leave Time', ignore_index=True, ascending=False)\n",
    "end_17_05_2022 = data_17_05_2022['Leave Time'][0]\n",
    "print('The last attendee left at ' + str(end_17_05_2022))\n"
   ]
  },
  {
   "cell_type": "code",
   "execution_count": 21,
   "metadata": {},
   "outputs": [],
   "source": [
    "# Set up a table with the time\n",
    "rng = pd.date_range(start_17_05_2022, end_17_05_2022, freq=\"min\")\n",
    "timetable_17_05_2022 = pd.DataFrame({ 'Time': rng, 'Watching_17_05_2022': 0 })\n",
    "# print(timetable_17_05_2022)"
   ]
  },
  {
   "cell_type": "code",
   "execution_count": 22,
   "metadata": {},
   "outputs": [],
   "source": [
    "# Count the number of viewers at each given minute\n",
    "def get_attendance_per_minute(time):\n",
    "    count = 0\n",
    "    for row in data_17_05_2022['Join Time']:\n",
    "        if time > row:\n",
    "            count += 1\n",
    "    for line in data_17_05_2022['Leave Time']:\n",
    "        if time > line:\n",
    "            count -= 1\n",
    "    return (count)\n",
    "\n",
    "timetable_17_05_2022['Watching_17_05_2022'] = timetable_17_05_2022['Time'].apply(get_attendance_per_minute)\n",
    "\n",
    "# display(timetable_17_05_2022)"
   ]
  },
  {
   "cell_type": "code",
   "execution_count": 23,
   "metadata": {},
   "outputs": [
    {
     "data": {
      "application/vnd.plotly.v1+json": {
       "config": {
        "plotlyServerURL": "https://plot.ly"
       },
       "data": [
        {
         "hovertemplate": "Time=%{x}<br>Watching_17_05_2022=%{y}<extra></extra>",
         "legendgroup": "",
         "line": {
          "color": "#636efa",
          "dash": "solid"
         },
         "marker": {
          "symbol": "circle"
         },
         "mode": "lines",
         "name": "",
         "orientation": "v",
         "showlegend": false,
         "type": "scatter",
         "x": [
          "2022-05-17T17:22:54",
          "2022-05-17T17:23:54",
          "2022-05-17T17:24:54",
          "2022-05-17T17:25:54",
          "2022-05-17T17:26:54",
          "2022-05-17T17:27:54",
          "2022-05-17T17:28:54",
          "2022-05-17T17:29:54",
          "2022-05-17T17:30:54",
          "2022-05-17T17:31:54",
          "2022-05-17T17:32:54",
          "2022-05-17T17:33:54",
          "2022-05-17T17:34:54",
          "2022-05-17T17:35:54",
          "2022-05-17T17:36:54",
          "2022-05-17T17:37:54",
          "2022-05-17T17:38:54",
          "2022-05-17T17:39:54",
          "2022-05-17T17:40:54",
          "2022-05-17T17:41:54",
          "2022-05-17T17:42:54",
          "2022-05-17T17:43:54",
          "2022-05-17T17:44:54",
          "2022-05-17T17:45:54",
          "2022-05-17T17:46:54",
          "2022-05-17T17:47:54",
          "2022-05-17T17:48:54",
          "2022-05-17T17:49:54",
          "2022-05-17T17:50:54",
          "2022-05-17T17:51:54",
          "2022-05-17T17:52:54",
          "2022-05-17T17:53:54",
          "2022-05-17T17:54:54",
          "2022-05-17T17:55:54",
          "2022-05-17T17:56:54",
          "2022-05-17T17:57:54",
          "2022-05-17T17:58:54",
          "2022-05-17T17:59:54",
          "2022-05-17T18:00:54",
          "2022-05-17T18:01:54",
          "2022-05-17T18:02:54",
          "2022-05-17T18:03:54",
          "2022-05-17T18:04:54",
          "2022-05-17T18:05:54",
          "2022-05-17T18:06:54",
          "2022-05-17T18:07:54",
          "2022-05-17T18:08:54",
          "2022-05-17T18:09:54",
          "2022-05-17T18:10:54",
          "2022-05-17T18:11:54",
          "2022-05-17T18:12:54",
          "2022-05-17T18:13:54",
          "2022-05-17T18:14:54",
          "2022-05-17T18:15:54",
          "2022-05-17T18:16:54",
          "2022-05-17T18:17:54",
          "2022-05-17T18:18:54",
          "2022-05-17T18:19:54",
          "2022-05-17T18:20:54",
          "2022-05-17T18:21:54",
          "2022-05-17T18:22:54",
          "2022-05-17T18:23:54",
          "2022-05-17T18:24:54",
          "2022-05-17T18:25:54",
          "2022-05-17T18:26:54",
          "2022-05-17T18:27:54",
          "2022-05-17T18:28:54",
          "2022-05-17T18:29:54",
          "2022-05-17T18:30:54",
          "2022-05-17T18:31:54",
          "2022-05-17T18:32:54",
          "2022-05-17T18:33:54",
          "2022-05-17T18:34:54",
          "2022-05-17T18:35:54",
          "2022-05-17T18:36:54",
          "2022-05-17T18:37:54",
          "2022-05-17T18:38:54",
          "2022-05-17T18:39:54",
          "2022-05-17T18:40:54",
          "2022-05-17T18:41:54",
          "2022-05-17T18:42:54",
          "2022-05-17T18:43:54",
          "2022-05-17T18:44:54",
          "2022-05-17T18:45:54",
          "2022-05-17T18:46:54",
          "2022-05-17T18:47:54",
          "2022-05-17T18:48:54",
          "2022-05-17T18:49:54",
          "2022-05-17T18:50:54",
          "2022-05-17T18:51:54",
          "2022-05-17T18:52:54",
          "2022-05-17T18:53:54",
          "2022-05-17T18:54:54",
          "2022-05-17T18:55:54",
          "2022-05-17T18:56:54",
          "2022-05-17T18:57:54",
          "2022-05-17T18:58:54",
          "2022-05-17T18:59:54",
          "2022-05-17T19:00:54",
          "2022-05-17T19:01:54",
          "2022-05-17T19:02:54",
          "2022-05-17T19:03:54",
          "2022-05-17T19:04:54",
          "2022-05-17T19:05:54",
          "2022-05-17T19:06:54",
          "2022-05-17T19:07:54",
          "2022-05-17T19:08:54",
          "2022-05-17T19:09:54",
          "2022-05-17T19:10:54",
          "2022-05-17T19:11:54",
          "2022-05-17T19:12:54",
          "2022-05-17T19:13:54",
          "2022-05-17T19:14:54",
          "2022-05-17T19:15:54",
          "2022-05-17T19:16:54",
          "2022-05-17T19:17:54",
          "2022-05-17T19:18:54",
          "2022-05-17T19:19:54",
          "2022-05-17T19:20:54",
          "2022-05-17T19:21:54",
          "2022-05-17T19:22:54",
          "2022-05-17T19:23:54",
          "2022-05-17T19:24:54",
          "2022-05-17T19:25:54",
          "2022-05-17T19:26:54",
          "2022-05-17T19:27:54",
          "2022-05-17T19:28:54"
         ],
         "xaxis": "x",
         "y": [
          0,
          1,
          1,
          1,
          1,
          1,
          5,
          9,
          15,
          20,
          24,
          26,
          28,
          30,
          31,
          34,
          36,
          36,
          36,
          37,
          37,
          38,
          38,
          38,
          39,
          40,
          40,
          39,
          39,
          40,
          40,
          39,
          40,
          40,
          39,
          39,
          39,
          39,
          39,
          38,
          38,
          38,
          38,
          37,
          35,
          35,
          34,
          33,
          32,
          32,
          31,
          30,
          30,
          30,
          30,
          30,
          30,
          30,
          29,
          30,
          30,
          30,
          30,
          30,
          30,
          30,
          30,
          30,
          30,
          30,
          30,
          30,
          30,
          31,
          31,
          30,
          30,
          30,
          30,
          30,
          30,
          30,
          30,
          30,
          30,
          30,
          29,
          29,
          28,
          28,
          28,
          27,
          27,
          27,
          26,
          25,
          25,
          24,
          24,
          24,
          24,
          24,
          24,
          24,
          24,
          24,
          24,
          24,
          23,
          23,
          23,
          23,
          23,
          22,
          21,
          18,
          18,
          18,
          17,
          17,
          17,
          17,
          17,
          16,
          15,
          1,
          1
         ],
         "yaxis": "y"
        }
       ],
       "layout": {
        "height": 400,
        "legend": {
         "tracegroupgap": 0
        },
        "margin": {
         "t": 60
        },
        "template": {
         "data": {
          "bar": [
           {
            "error_x": {
             "color": "#2a3f5f"
            },
            "error_y": {
             "color": "#2a3f5f"
            },
            "marker": {
             "line": {
              "color": "#E5ECF6",
              "width": 0.5
             },
             "pattern": {
              "fillmode": "overlay",
              "size": 10,
              "solidity": 0.2
             }
            },
            "type": "bar"
           }
          ],
          "barpolar": [
           {
            "marker": {
             "line": {
              "color": "#E5ECF6",
              "width": 0.5
             },
             "pattern": {
              "fillmode": "overlay",
              "size": 10,
              "solidity": 0.2
             }
            },
            "type": "barpolar"
           }
          ],
          "carpet": [
           {
            "aaxis": {
             "endlinecolor": "#2a3f5f",
             "gridcolor": "white",
             "linecolor": "white",
             "minorgridcolor": "white",
             "startlinecolor": "#2a3f5f"
            },
            "baxis": {
             "endlinecolor": "#2a3f5f",
             "gridcolor": "white",
             "linecolor": "white",
             "minorgridcolor": "white",
             "startlinecolor": "#2a3f5f"
            },
            "type": "carpet"
           }
          ],
          "choropleth": [
           {
            "colorbar": {
             "outlinewidth": 0,
             "ticks": ""
            },
            "type": "choropleth"
           }
          ],
          "contour": [
           {
            "colorbar": {
             "outlinewidth": 0,
             "ticks": ""
            },
            "colorscale": [
             [
              0,
              "#0d0887"
             ],
             [
              0.1111111111111111,
              "#46039f"
             ],
             [
              0.2222222222222222,
              "#7201a8"
             ],
             [
              0.3333333333333333,
              "#9c179e"
             ],
             [
              0.4444444444444444,
              "#bd3786"
             ],
             [
              0.5555555555555556,
              "#d8576b"
             ],
             [
              0.6666666666666666,
              "#ed7953"
             ],
             [
              0.7777777777777778,
              "#fb9f3a"
             ],
             [
              0.8888888888888888,
              "#fdca26"
             ],
             [
              1,
              "#f0f921"
             ]
            ],
            "type": "contour"
           }
          ],
          "contourcarpet": [
           {
            "colorbar": {
             "outlinewidth": 0,
             "ticks": ""
            },
            "type": "contourcarpet"
           }
          ],
          "heatmap": [
           {
            "colorbar": {
             "outlinewidth": 0,
             "ticks": ""
            },
            "colorscale": [
             [
              0,
              "#0d0887"
             ],
             [
              0.1111111111111111,
              "#46039f"
             ],
             [
              0.2222222222222222,
              "#7201a8"
             ],
             [
              0.3333333333333333,
              "#9c179e"
             ],
             [
              0.4444444444444444,
              "#bd3786"
             ],
             [
              0.5555555555555556,
              "#d8576b"
             ],
             [
              0.6666666666666666,
              "#ed7953"
             ],
             [
              0.7777777777777778,
              "#fb9f3a"
             ],
             [
              0.8888888888888888,
              "#fdca26"
             ],
             [
              1,
              "#f0f921"
             ]
            ],
            "type": "heatmap"
           }
          ],
          "heatmapgl": [
           {
            "colorbar": {
             "outlinewidth": 0,
             "ticks": ""
            },
            "colorscale": [
             [
              0,
              "#0d0887"
             ],
             [
              0.1111111111111111,
              "#46039f"
             ],
             [
              0.2222222222222222,
              "#7201a8"
             ],
             [
              0.3333333333333333,
              "#9c179e"
             ],
             [
              0.4444444444444444,
              "#bd3786"
             ],
             [
              0.5555555555555556,
              "#d8576b"
             ],
             [
              0.6666666666666666,
              "#ed7953"
             ],
             [
              0.7777777777777778,
              "#fb9f3a"
             ],
             [
              0.8888888888888888,
              "#fdca26"
             ],
             [
              1,
              "#f0f921"
             ]
            ],
            "type": "heatmapgl"
           }
          ],
          "histogram": [
           {
            "marker": {
             "pattern": {
              "fillmode": "overlay",
              "size": 10,
              "solidity": 0.2
             }
            },
            "type": "histogram"
           }
          ],
          "histogram2d": [
           {
            "colorbar": {
             "outlinewidth": 0,
             "ticks": ""
            },
            "colorscale": [
             [
              0,
              "#0d0887"
             ],
             [
              0.1111111111111111,
              "#46039f"
             ],
             [
              0.2222222222222222,
              "#7201a8"
             ],
             [
              0.3333333333333333,
              "#9c179e"
             ],
             [
              0.4444444444444444,
              "#bd3786"
             ],
             [
              0.5555555555555556,
              "#d8576b"
             ],
             [
              0.6666666666666666,
              "#ed7953"
             ],
             [
              0.7777777777777778,
              "#fb9f3a"
             ],
             [
              0.8888888888888888,
              "#fdca26"
             ],
             [
              1,
              "#f0f921"
             ]
            ],
            "type": "histogram2d"
           }
          ],
          "histogram2dcontour": [
           {
            "colorbar": {
             "outlinewidth": 0,
             "ticks": ""
            },
            "colorscale": [
             [
              0,
              "#0d0887"
             ],
             [
              0.1111111111111111,
              "#46039f"
             ],
             [
              0.2222222222222222,
              "#7201a8"
             ],
             [
              0.3333333333333333,
              "#9c179e"
             ],
             [
              0.4444444444444444,
              "#bd3786"
             ],
             [
              0.5555555555555556,
              "#d8576b"
             ],
             [
              0.6666666666666666,
              "#ed7953"
             ],
             [
              0.7777777777777778,
              "#fb9f3a"
             ],
             [
              0.8888888888888888,
              "#fdca26"
             ],
             [
              1,
              "#f0f921"
             ]
            ],
            "type": "histogram2dcontour"
           }
          ],
          "mesh3d": [
           {
            "colorbar": {
             "outlinewidth": 0,
             "ticks": ""
            },
            "type": "mesh3d"
           }
          ],
          "parcoords": [
           {
            "line": {
             "colorbar": {
              "outlinewidth": 0,
              "ticks": ""
             }
            },
            "type": "parcoords"
           }
          ],
          "pie": [
           {
            "automargin": true,
            "type": "pie"
           }
          ],
          "scatter": [
           {
            "marker": {
             "colorbar": {
              "outlinewidth": 0,
              "ticks": ""
             }
            },
            "type": "scatter"
           }
          ],
          "scatter3d": [
           {
            "line": {
             "colorbar": {
              "outlinewidth": 0,
              "ticks": ""
             }
            },
            "marker": {
             "colorbar": {
              "outlinewidth": 0,
              "ticks": ""
             }
            },
            "type": "scatter3d"
           }
          ],
          "scattercarpet": [
           {
            "marker": {
             "colorbar": {
              "outlinewidth": 0,
              "ticks": ""
             }
            },
            "type": "scattercarpet"
           }
          ],
          "scattergeo": [
           {
            "marker": {
             "colorbar": {
              "outlinewidth": 0,
              "ticks": ""
             }
            },
            "type": "scattergeo"
           }
          ],
          "scattergl": [
           {
            "marker": {
             "colorbar": {
              "outlinewidth": 0,
              "ticks": ""
             }
            },
            "type": "scattergl"
           }
          ],
          "scattermapbox": [
           {
            "marker": {
             "colorbar": {
              "outlinewidth": 0,
              "ticks": ""
             }
            },
            "type": "scattermapbox"
           }
          ],
          "scatterpolar": [
           {
            "marker": {
             "colorbar": {
              "outlinewidth": 0,
              "ticks": ""
             }
            },
            "type": "scatterpolar"
           }
          ],
          "scatterpolargl": [
           {
            "marker": {
             "colorbar": {
              "outlinewidth": 0,
              "ticks": ""
             }
            },
            "type": "scatterpolargl"
           }
          ],
          "scatterternary": [
           {
            "marker": {
             "colorbar": {
              "outlinewidth": 0,
              "ticks": ""
             }
            },
            "type": "scatterternary"
           }
          ],
          "surface": [
           {
            "colorbar": {
             "outlinewidth": 0,
             "ticks": ""
            },
            "colorscale": [
             [
              0,
              "#0d0887"
             ],
             [
              0.1111111111111111,
              "#46039f"
             ],
             [
              0.2222222222222222,
              "#7201a8"
             ],
             [
              0.3333333333333333,
              "#9c179e"
             ],
             [
              0.4444444444444444,
              "#bd3786"
             ],
             [
              0.5555555555555556,
              "#d8576b"
             ],
             [
              0.6666666666666666,
              "#ed7953"
             ],
             [
              0.7777777777777778,
              "#fb9f3a"
             ],
             [
              0.8888888888888888,
              "#fdca26"
             ],
             [
              1,
              "#f0f921"
             ]
            ],
            "type": "surface"
           }
          ],
          "table": [
           {
            "cells": {
             "fill": {
              "color": "#EBF0F8"
             },
             "line": {
              "color": "white"
             }
            },
            "header": {
             "fill": {
              "color": "#C8D4E3"
             },
             "line": {
              "color": "white"
             }
            },
            "type": "table"
           }
          ]
         },
         "layout": {
          "annotationdefaults": {
           "arrowcolor": "#2a3f5f",
           "arrowhead": 0,
           "arrowwidth": 1
          },
          "autotypenumbers": "strict",
          "coloraxis": {
           "colorbar": {
            "outlinewidth": 0,
            "ticks": ""
           }
          },
          "colorscale": {
           "diverging": [
            [
             0,
             "#8e0152"
            ],
            [
             0.1,
             "#c51b7d"
            ],
            [
             0.2,
             "#de77ae"
            ],
            [
             0.3,
             "#f1b6da"
            ],
            [
             0.4,
             "#fde0ef"
            ],
            [
             0.5,
             "#f7f7f7"
            ],
            [
             0.6,
             "#e6f5d0"
            ],
            [
             0.7,
             "#b8e186"
            ],
            [
             0.8,
             "#7fbc41"
            ],
            [
             0.9,
             "#4d9221"
            ],
            [
             1,
             "#276419"
            ]
           ],
           "sequential": [
            [
             0,
             "#0d0887"
            ],
            [
             0.1111111111111111,
             "#46039f"
            ],
            [
             0.2222222222222222,
             "#7201a8"
            ],
            [
             0.3333333333333333,
             "#9c179e"
            ],
            [
             0.4444444444444444,
             "#bd3786"
            ],
            [
             0.5555555555555556,
             "#d8576b"
            ],
            [
             0.6666666666666666,
             "#ed7953"
            ],
            [
             0.7777777777777778,
             "#fb9f3a"
            ],
            [
             0.8888888888888888,
             "#fdca26"
            ],
            [
             1,
             "#f0f921"
            ]
           ],
           "sequentialminus": [
            [
             0,
             "#0d0887"
            ],
            [
             0.1111111111111111,
             "#46039f"
            ],
            [
             0.2222222222222222,
             "#7201a8"
            ],
            [
             0.3333333333333333,
             "#9c179e"
            ],
            [
             0.4444444444444444,
             "#bd3786"
            ],
            [
             0.5555555555555556,
             "#d8576b"
            ],
            [
             0.6666666666666666,
             "#ed7953"
            ],
            [
             0.7777777777777778,
             "#fb9f3a"
            ],
            [
             0.8888888888888888,
             "#fdca26"
            ],
            [
             1,
             "#f0f921"
            ]
           ]
          },
          "colorway": [
           "#636efa",
           "#EF553B",
           "#00cc96",
           "#ab63fa",
           "#FFA15A",
           "#19d3f3",
           "#FF6692",
           "#B6E880",
           "#FF97FF",
           "#FECB52"
          ],
          "font": {
           "color": "#2a3f5f"
          },
          "geo": {
           "bgcolor": "white",
           "lakecolor": "white",
           "landcolor": "#E5ECF6",
           "showlakes": true,
           "showland": true,
           "subunitcolor": "white"
          },
          "hoverlabel": {
           "align": "left"
          },
          "hovermode": "closest",
          "mapbox": {
           "style": "light"
          },
          "paper_bgcolor": "white",
          "plot_bgcolor": "#E5ECF6",
          "polar": {
           "angularaxis": {
            "gridcolor": "white",
            "linecolor": "white",
            "ticks": ""
           },
           "bgcolor": "#E5ECF6",
           "radialaxis": {
            "gridcolor": "white",
            "linecolor": "white",
            "ticks": ""
           }
          },
          "scene": {
           "xaxis": {
            "backgroundcolor": "#E5ECF6",
            "gridcolor": "white",
            "gridwidth": 2,
            "linecolor": "white",
            "showbackground": true,
            "ticks": "",
            "zerolinecolor": "white"
           },
           "yaxis": {
            "backgroundcolor": "#E5ECF6",
            "gridcolor": "white",
            "gridwidth": 2,
            "linecolor": "white",
            "showbackground": true,
            "ticks": "",
            "zerolinecolor": "white"
           },
           "zaxis": {
            "backgroundcolor": "#E5ECF6",
            "gridcolor": "white",
            "gridwidth": 2,
            "linecolor": "white",
            "showbackground": true,
            "ticks": "",
            "zerolinecolor": "white"
           }
          },
          "shapedefaults": {
           "line": {
            "color": "#2a3f5f"
           }
          },
          "ternary": {
           "aaxis": {
            "gridcolor": "white",
            "linecolor": "white",
            "ticks": ""
           },
           "baxis": {
            "gridcolor": "white",
            "linecolor": "white",
            "ticks": ""
           },
           "bgcolor": "#E5ECF6",
           "caxis": {
            "gridcolor": "white",
            "linecolor": "white",
            "ticks": ""
           }
          },
          "title": {
           "x": 0.05
          },
          "xaxis": {
           "automargin": true,
           "gridcolor": "white",
           "linecolor": "white",
           "ticks": "",
           "title": {
            "standoff": 15
           },
           "zerolinecolor": "white",
           "zerolinewidth": 2
          },
          "yaxis": {
           "automargin": true,
           "gridcolor": "white",
           "linecolor": "white",
           "ticks": "",
           "title": {
            "standoff": 15
           },
           "zerolinecolor": "white",
           "zerolinewidth": 2
          }
         }
        },
        "title": {
         "text": "Number of Viewers on 17 May (web 3.0)",
         "x": 0.5,
         "y": 0.95
        },
        "width": 1100,
        "xaxis": {
         "anchor": "y",
         "domain": [
          0,
          1
         ],
         "title": {
          "text": "Time"
         }
        },
        "yaxis": {
         "anchor": "x",
         "domain": [
          0,
          1
         ],
         "title": {
          "text": "Watching"
         }
        }
       }
      }
     },
     "metadata": {},
     "output_type": "display_data"
    }
   ],
   "source": [
    "# Visualise the attendance dynamics\n",
    "linechart_17_05_2022 = px.line(data_frame=timetable_17_05_2022, x = 'Time', y='Watching_17_05_2022')\n",
    "linechart_17_05_2022.update_layout(\n",
    "        title=\"Number of Viewers on 17 May (web 3.0)\",\n",
    "        title_x=0.5,\n",
    "        title_y=0.95,\n",
    "        width=1100,\n",
    "        height=400,\n",
    "        yaxis_title=\"Watching\"\n",
    "        )\n",
    "linechart_17_05_2022.show()"
   ]
  },
  {
   "cell_type": "code",
   "execution_count": 24,
   "metadata": {},
   "outputs": [],
   "source": [
    "# linechart_17_05_2022_file_name = (' - Attendees Line Chart 2022-05-17 - ' + timestamp)\n",
    "# pio.write_image(linechart_17_05_2022, (location_windows + linechart_17_05_2022_file_name + '.png'), format='png', width=1100, height=400)"
   ]
  },
  {
   "cell_type": "markdown",
   "metadata": {},
   "source": [
    "## Stats on 10 May (Property & Funds)"
   ]
  },
  {
   "cell_type": "code",
   "execution_count": 25,
   "metadata": {},
   "outputs": [
    {
     "name": "stdout",
     "output_type": "stream",
     "text": [
      "The first attendee joined at 2022-05-10 17:31:07\n",
      "The last attendee left at 2022-05-10 19:16:06\n"
     ]
    }
   ],
   "source": [
    "# Extracting dvisitors of this event and checking its start and end\n",
    "data_10_05_2022 = data[data['Event Date'] == '2022-05-10'].sort_values(by='Join Time', ignore_index=True)\n",
    "start_10_05_2022 = data_10_05_2022['Join Time'][0]\n",
    "print('The first attendee joined at ' + str(start_10_05_2022))\n",
    "\n",
    "data_10_05_2022 = data[data['Event Date'] == '2022-05-10'].sort_values(by='Leave Time', ignore_index=True, ascending=False)\n",
    "end_10_05_2022 = data_10_05_2022['Leave Time'][0]\n",
    "print('The last attendee left at ' + str(end_10_05_2022))"
   ]
  },
  {
   "cell_type": "code",
   "execution_count": 26,
   "metadata": {},
   "outputs": [],
   "source": [
    "# Set up a table with the time\n",
    "rng = pd.date_range(start_10_05_2022, end_10_05_2022, freq=\"min\")\n",
    "timetable_10_05_2022 = pd.DataFrame({ 'Time': rng, 'Watching_10_05_2022': 0 })\n",
    "# print(timetable_10_05_2022)"
   ]
  },
  {
   "cell_type": "code",
   "execution_count": 27,
   "metadata": {},
   "outputs": [],
   "source": [
    "# Count the number of viewers at each given minute\n",
    "def get_attendance_per_minute(time):\n",
    "    count = 0\n",
    "    for row in data_10_05_2022['Join Time']:\n",
    "        if time > row:\n",
    "            count += 1\n",
    "    for line in data_10_05_2022['Leave Time']:\n",
    "        if time > line:\n",
    "            count -= 1\n",
    "    return (count)\n",
    "\n",
    "timetable_10_05_2022['Watching_10_05_2022'] = timetable_10_05_2022['Time'].apply(get_attendance_per_minute)\n",
    "\n",
    "# display(timetable_10_05_2022)"
   ]
  },
  {
   "cell_type": "code",
   "execution_count": 28,
   "metadata": {},
   "outputs": [
    {
     "data": {
      "application/vnd.plotly.v1+json": {
       "config": {
        "plotlyServerURL": "https://plot.ly"
       },
       "data": [
        {
         "hovertemplate": "Time=%{x}<br>Watching_10_05_2022=%{y}<extra></extra>",
         "legendgroup": "",
         "line": {
          "color": "#636efa",
          "dash": "solid"
         },
         "marker": {
          "symbol": "circle"
         },
         "mode": "lines",
         "name": "",
         "orientation": "v",
         "showlegend": false,
         "type": "scatter",
         "x": [
          "2022-05-10T17:31:07",
          "2022-05-10T17:32:07",
          "2022-05-10T17:33:07",
          "2022-05-10T17:34:07",
          "2022-05-10T17:35:07",
          "2022-05-10T17:36:07",
          "2022-05-10T17:37:07",
          "2022-05-10T17:38:07",
          "2022-05-10T17:39:07",
          "2022-05-10T17:40:07",
          "2022-05-10T17:41:07",
          "2022-05-10T17:42:07",
          "2022-05-10T17:43:07",
          "2022-05-10T17:44:07",
          "2022-05-10T17:45:07",
          "2022-05-10T17:46:07",
          "2022-05-10T17:47:07",
          "2022-05-10T17:48:07",
          "2022-05-10T17:49:07",
          "2022-05-10T17:50:07",
          "2022-05-10T17:51:07",
          "2022-05-10T17:52:07",
          "2022-05-10T17:53:07",
          "2022-05-10T17:54:07",
          "2022-05-10T17:55:07",
          "2022-05-10T17:56:07",
          "2022-05-10T17:57:07",
          "2022-05-10T17:58:07",
          "2022-05-10T17:59:07",
          "2022-05-10T18:00:07",
          "2022-05-10T18:01:07",
          "2022-05-10T18:02:07",
          "2022-05-10T18:03:07",
          "2022-05-10T18:04:07",
          "2022-05-10T18:05:07",
          "2022-05-10T18:06:07",
          "2022-05-10T18:07:07",
          "2022-05-10T18:08:07",
          "2022-05-10T18:09:07",
          "2022-05-10T18:10:07",
          "2022-05-10T18:11:07",
          "2022-05-10T18:12:07",
          "2022-05-10T18:13:07",
          "2022-05-10T18:14:07",
          "2022-05-10T18:15:07",
          "2022-05-10T18:16:07",
          "2022-05-10T18:17:07",
          "2022-05-10T18:18:07",
          "2022-05-10T18:19:07",
          "2022-05-10T18:20:07",
          "2022-05-10T18:21:07",
          "2022-05-10T18:22:07",
          "2022-05-10T18:23:07",
          "2022-05-10T18:24:07",
          "2022-05-10T18:25:07",
          "2022-05-10T18:26:07",
          "2022-05-10T18:27:07",
          "2022-05-10T18:28:07",
          "2022-05-10T18:29:07",
          "2022-05-10T18:30:07",
          "2022-05-10T18:31:07",
          "2022-05-10T18:32:07",
          "2022-05-10T18:33:07",
          "2022-05-10T18:34:07",
          "2022-05-10T18:35:07",
          "2022-05-10T18:36:07",
          "2022-05-10T18:37:07",
          "2022-05-10T18:38:07",
          "2022-05-10T18:39:07",
          "2022-05-10T18:40:07",
          "2022-05-10T18:41:07",
          "2022-05-10T18:42:07",
          "2022-05-10T18:43:07",
          "2022-05-10T18:44:07",
          "2022-05-10T18:45:07",
          "2022-05-10T18:46:07",
          "2022-05-10T18:47:07",
          "2022-05-10T18:48:07",
          "2022-05-10T18:49:07",
          "2022-05-10T18:50:07",
          "2022-05-10T18:51:07",
          "2022-05-10T18:52:07",
          "2022-05-10T18:53:07",
          "2022-05-10T18:54:07",
          "2022-05-10T18:55:07",
          "2022-05-10T18:56:07",
          "2022-05-10T18:57:07",
          "2022-05-10T18:58:07",
          "2022-05-10T18:59:07",
          "2022-05-10T19:00:07",
          "2022-05-10T19:01:07",
          "2022-05-10T19:02:07",
          "2022-05-10T19:03:07",
          "2022-05-10T19:04:07",
          "2022-05-10T19:05:07",
          "2022-05-10T19:06:07",
          "2022-05-10T19:07:07",
          "2022-05-10T19:08:07",
          "2022-05-10T19:09:07",
          "2022-05-10T19:10:07",
          "2022-05-10T19:11:07",
          "2022-05-10T19:12:07",
          "2022-05-10T19:13:07",
          "2022-05-10T19:14:07",
          "2022-05-10T19:15:07"
         ],
         "xaxis": "x",
         "y": [
          0,
          5,
          6,
          6,
          6,
          6,
          7,
          7,
          8,
          8,
          8,
          8,
          8,
          9,
          9,
          10,
          10,
          10,
          10,
          11,
          12,
          12,
          12,
          13,
          13,
          13,
          14,
          14,
          15,
          14,
          13,
          14,
          14,
          14,
          14,
          14,
          14,
          14,
          14,
          14,
          14,
          14,
          13,
          13,
          13,
          12,
          12,
          13,
          13,
          13,
          12,
          12,
          11,
          11,
          11,
          11,
          11,
          11,
          11,
          11,
          11,
          11,
          11,
          11,
          11,
          11,
          11,
          11,
          11,
          11,
          11,
          11,
          11,
          11,
          11,
          11,
          11,
          11,
          11,
          11,
          11,
          11,
          11,
          10,
          10,
          10,
          10,
          10,
          10,
          10,
          10,
          9,
          9,
          8,
          8,
          8,
          7,
          7,
          7,
          7,
          7,
          7,
          7,
          7,
          7
         ],
         "yaxis": "y"
        }
       ],
       "layout": {
        "height": 400,
        "legend": {
         "tracegroupgap": 0
        },
        "margin": {
         "t": 60
        },
        "template": {
         "data": {
          "bar": [
           {
            "error_x": {
             "color": "#2a3f5f"
            },
            "error_y": {
             "color": "#2a3f5f"
            },
            "marker": {
             "line": {
              "color": "#E5ECF6",
              "width": 0.5
             },
             "pattern": {
              "fillmode": "overlay",
              "size": 10,
              "solidity": 0.2
             }
            },
            "type": "bar"
           }
          ],
          "barpolar": [
           {
            "marker": {
             "line": {
              "color": "#E5ECF6",
              "width": 0.5
             },
             "pattern": {
              "fillmode": "overlay",
              "size": 10,
              "solidity": 0.2
             }
            },
            "type": "barpolar"
           }
          ],
          "carpet": [
           {
            "aaxis": {
             "endlinecolor": "#2a3f5f",
             "gridcolor": "white",
             "linecolor": "white",
             "minorgridcolor": "white",
             "startlinecolor": "#2a3f5f"
            },
            "baxis": {
             "endlinecolor": "#2a3f5f",
             "gridcolor": "white",
             "linecolor": "white",
             "minorgridcolor": "white",
             "startlinecolor": "#2a3f5f"
            },
            "type": "carpet"
           }
          ],
          "choropleth": [
           {
            "colorbar": {
             "outlinewidth": 0,
             "ticks": ""
            },
            "type": "choropleth"
           }
          ],
          "contour": [
           {
            "colorbar": {
             "outlinewidth": 0,
             "ticks": ""
            },
            "colorscale": [
             [
              0,
              "#0d0887"
             ],
             [
              0.1111111111111111,
              "#46039f"
             ],
             [
              0.2222222222222222,
              "#7201a8"
             ],
             [
              0.3333333333333333,
              "#9c179e"
             ],
             [
              0.4444444444444444,
              "#bd3786"
             ],
             [
              0.5555555555555556,
              "#d8576b"
             ],
             [
              0.6666666666666666,
              "#ed7953"
             ],
             [
              0.7777777777777778,
              "#fb9f3a"
             ],
             [
              0.8888888888888888,
              "#fdca26"
             ],
             [
              1,
              "#f0f921"
             ]
            ],
            "type": "contour"
           }
          ],
          "contourcarpet": [
           {
            "colorbar": {
             "outlinewidth": 0,
             "ticks": ""
            },
            "type": "contourcarpet"
           }
          ],
          "heatmap": [
           {
            "colorbar": {
             "outlinewidth": 0,
             "ticks": ""
            },
            "colorscale": [
             [
              0,
              "#0d0887"
             ],
             [
              0.1111111111111111,
              "#46039f"
             ],
             [
              0.2222222222222222,
              "#7201a8"
             ],
             [
              0.3333333333333333,
              "#9c179e"
             ],
             [
              0.4444444444444444,
              "#bd3786"
             ],
             [
              0.5555555555555556,
              "#d8576b"
             ],
             [
              0.6666666666666666,
              "#ed7953"
             ],
             [
              0.7777777777777778,
              "#fb9f3a"
             ],
             [
              0.8888888888888888,
              "#fdca26"
             ],
             [
              1,
              "#f0f921"
             ]
            ],
            "type": "heatmap"
           }
          ],
          "heatmapgl": [
           {
            "colorbar": {
             "outlinewidth": 0,
             "ticks": ""
            },
            "colorscale": [
             [
              0,
              "#0d0887"
             ],
             [
              0.1111111111111111,
              "#46039f"
             ],
             [
              0.2222222222222222,
              "#7201a8"
             ],
             [
              0.3333333333333333,
              "#9c179e"
             ],
             [
              0.4444444444444444,
              "#bd3786"
             ],
             [
              0.5555555555555556,
              "#d8576b"
             ],
             [
              0.6666666666666666,
              "#ed7953"
             ],
             [
              0.7777777777777778,
              "#fb9f3a"
             ],
             [
              0.8888888888888888,
              "#fdca26"
             ],
             [
              1,
              "#f0f921"
             ]
            ],
            "type": "heatmapgl"
           }
          ],
          "histogram": [
           {
            "marker": {
             "pattern": {
              "fillmode": "overlay",
              "size": 10,
              "solidity": 0.2
             }
            },
            "type": "histogram"
           }
          ],
          "histogram2d": [
           {
            "colorbar": {
             "outlinewidth": 0,
             "ticks": ""
            },
            "colorscale": [
             [
              0,
              "#0d0887"
             ],
             [
              0.1111111111111111,
              "#46039f"
             ],
             [
              0.2222222222222222,
              "#7201a8"
             ],
             [
              0.3333333333333333,
              "#9c179e"
             ],
             [
              0.4444444444444444,
              "#bd3786"
             ],
             [
              0.5555555555555556,
              "#d8576b"
             ],
             [
              0.6666666666666666,
              "#ed7953"
             ],
             [
              0.7777777777777778,
              "#fb9f3a"
             ],
             [
              0.8888888888888888,
              "#fdca26"
             ],
             [
              1,
              "#f0f921"
             ]
            ],
            "type": "histogram2d"
           }
          ],
          "histogram2dcontour": [
           {
            "colorbar": {
             "outlinewidth": 0,
             "ticks": ""
            },
            "colorscale": [
             [
              0,
              "#0d0887"
             ],
             [
              0.1111111111111111,
              "#46039f"
             ],
             [
              0.2222222222222222,
              "#7201a8"
             ],
             [
              0.3333333333333333,
              "#9c179e"
             ],
             [
              0.4444444444444444,
              "#bd3786"
             ],
             [
              0.5555555555555556,
              "#d8576b"
             ],
             [
              0.6666666666666666,
              "#ed7953"
             ],
             [
              0.7777777777777778,
              "#fb9f3a"
             ],
             [
              0.8888888888888888,
              "#fdca26"
             ],
             [
              1,
              "#f0f921"
             ]
            ],
            "type": "histogram2dcontour"
           }
          ],
          "mesh3d": [
           {
            "colorbar": {
             "outlinewidth": 0,
             "ticks": ""
            },
            "type": "mesh3d"
           }
          ],
          "parcoords": [
           {
            "line": {
             "colorbar": {
              "outlinewidth": 0,
              "ticks": ""
             }
            },
            "type": "parcoords"
           }
          ],
          "pie": [
           {
            "automargin": true,
            "type": "pie"
           }
          ],
          "scatter": [
           {
            "marker": {
             "colorbar": {
              "outlinewidth": 0,
              "ticks": ""
             }
            },
            "type": "scatter"
           }
          ],
          "scatter3d": [
           {
            "line": {
             "colorbar": {
              "outlinewidth": 0,
              "ticks": ""
             }
            },
            "marker": {
             "colorbar": {
              "outlinewidth": 0,
              "ticks": ""
             }
            },
            "type": "scatter3d"
           }
          ],
          "scattercarpet": [
           {
            "marker": {
             "colorbar": {
              "outlinewidth": 0,
              "ticks": ""
             }
            },
            "type": "scattercarpet"
           }
          ],
          "scattergeo": [
           {
            "marker": {
             "colorbar": {
              "outlinewidth": 0,
              "ticks": ""
             }
            },
            "type": "scattergeo"
           }
          ],
          "scattergl": [
           {
            "marker": {
             "colorbar": {
              "outlinewidth": 0,
              "ticks": ""
             }
            },
            "type": "scattergl"
           }
          ],
          "scattermapbox": [
           {
            "marker": {
             "colorbar": {
              "outlinewidth": 0,
              "ticks": ""
             }
            },
            "type": "scattermapbox"
           }
          ],
          "scatterpolar": [
           {
            "marker": {
             "colorbar": {
              "outlinewidth": 0,
              "ticks": ""
             }
            },
            "type": "scatterpolar"
           }
          ],
          "scatterpolargl": [
           {
            "marker": {
             "colorbar": {
              "outlinewidth": 0,
              "ticks": ""
             }
            },
            "type": "scatterpolargl"
           }
          ],
          "scatterternary": [
           {
            "marker": {
             "colorbar": {
              "outlinewidth": 0,
              "ticks": ""
             }
            },
            "type": "scatterternary"
           }
          ],
          "surface": [
           {
            "colorbar": {
             "outlinewidth": 0,
             "ticks": ""
            },
            "colorscale": [
             [
              0,
              "#0d0887"
             ],
             [
              0.1111111111111111,
              "#46039f"
             ],
             [
              0.2222222222222222,
              "#7201a8"
             ],
             [
              0.3333333333333333,
              "#9c179e"
             ],
             [
              0.4444444444444444,
              "#bd3786"
             ],
             [
              0.5555555555555556,
              "#d8576b"
             ],
             [
              0.6666666666666666,
              "#ed7953"
             ],
             [
              0.7777777777777778,
              "#fb9f3a"
             ],
             [
              0.8888888888888888,
              "#fdca26"
             ],
             [
              1,
              "#f0f921"
             ]
            ],
            "type": "surface"
           }
          ],
          "table": [
           {
            "cells": {
             "fill": {
              "color": "#EBF0F8"
             },
             "line": {
              "color": "white"
             }
            },
            "header": {
             "fill": {
              "color": "#C8D4E3"
             },
             "line": {
              "color": "white"
             }
            },
            "type": "table"
           }
          ]
         },
         "layout": {
          "annotationdefaults": {
           "arrowcolor": "#2a3f5f",
           "arrowhead": 0,
           "arrowwidth": 1
          },
          "autotypenumbers": "strict",
          "coloraxis": {
           "colorbar": {
            "outlinewidth": 0,
            "ticks": ""
           }
          },
          "colorscale": {
           "diverging": [
            [
             0,
             "#8e0152"
            ],
            [
             0.1,
             "#c51b7d"
            ],
            [
             0.2,
             "#de77ae"
            ],
            [
             0.3,
             "#f1b6da"
            ],
            [
             0.4,
             "#fde0ef"
            ],
            [
             0.5,
             "#f7f7f7"
            ],
            [
             0.6,
             "#e6f5d0"
            ],
            [
             0.7,
             "#b8e186"
            ],
            [
             0.8,
             "#7fbc41"
            ],
            [
             0.9,
             "#4d9221"
            ],
            [
             1,
             "#276419"
            ]
           ],
           "sequential": [
            [
             0,
             "#0d0887"
            ],
            [
             0.1111111111111111,
             "#46039f"
            ],
            [
             0.2222222222222222,
             "#7201a8"
            ],
            [
             0.3333333333333333,
             "#9c179e"
            ],
            [
             0.4444444444444444,
             "#bd3786"
            ],
            [
             0.5555555555555556,
             "#d8576b"
            ],
            [
             0.6666666666666666,
             "#ed7953"
            ],
            [
             0.7777777777777778,
             "#fb9f3a"
            ],
            [
             0.8888888888888888,
             "#fdca26"
            ],
            [
             1,
             "#f0f921"
            ]
           ],
           "sequentialminus": [
            [
             0,
             "#0d0887"
            ],
            [
             0.1111111111111111,
             "#46039f"
            ],
            [
             0.2222222222222222,
             "#7201a8"
            ],
            [
             0.3333333333333333,
             "#9c179e"
            ],
            [
             0.4444444444444444,
             "#bd3786"
            ],
            [
             0.5555555555555556,
             "#d8576b"
            ],
            [
             0.6666666666666666,
             "#ed7953"
            ],
            [
             0.7777777777777778,
             "#fb9f3a"
            ],
            [
             0.8888888888888888,
             "#fdca26"
            ],
            [
             1,
             "#f0f921"
            ]
           ]
          },
          "colorway": [
           "#636efa",
           "#EF553B",
           "#00cc96",
           "#ab63fa",
           "#FFA15A",
           "#19d3f3",
           "#FF6692",
           "#B6E880",
           "#FF97FF",
           "#FECB52"
          ],
          "font": {
           "color": "#2a3f5f"
          },
          "geo": {
           "bgcolor": "white",
           "lakecolor": "white",
           "landcolor": "#E5ECF6",
           "showlakes": true,
           "showland": true,
           "subunitcolor": "white"
          },
          "hoverlabel": {
           "align": "left"
          },
          "hovermode": "closest",
          "mapbox": {
           "style": "light"
          },
          "paper_bgcolor": "white",
          "plot_bgcolor": "#E5ECF6",
          "polar": {
           "angularaxis": {
            "gridcolor": "white",
            "linecolor": "white",
            "ticks": ""
           },
           "bgcolor": "#E5ECF6",
           "radialaxis": {
            "gridcolor": "white",
            "linecolor": "white",
            "ticks": ""
           }
          },
          "scene": {
           "xaxis": {
            "backgroundcolor": "#E5ECF6",
            "gridcolor": "white",
            "gridwidth": 2,
            "linecolor": "white",
            "showbackground": true,
            "ticks": "",
            "zerolinecolor": "white"
           },
           "yaxis": {
            "backgroundcolor": "#E5ECF6",
            "gridcolor": "white",
            "gridwidth": 2,
            "linecolor": "white",
            "showbackground": true,
            "ticks": "",
            "zerolinecolor": "white"
           },
           "zaxis": {
            "backgroundcolor": "#E5ECF6",
            "gridcolor": "white",
            "gridwidth": 2,
            "linecolor": "white",
            "showbackground": true,
            "ticks": "",
            "zerolinecolor": "white"
           }
          },
          "shapedefaults": {
           "line": {
            "color": "#2a3f5f"
           }
          },
          "ternary": {
           "aaxis": {
            "gridcolor": "white",
            "linecolor": "white",
            "ticks": ""
           },
           "baxis": {
            "gridcolor": "white",
            "linecolor": "white",
            "ticks": ""
           },
           "bgcolor": "#E5ECF6",
           "caxis": {
            "gridcolor": "white",
            "linecolor": "white",
            "ticks": ""
           }
          },
          "title": {
           "x": 0.05
          },
          "xaxis": {
           "automargin": true,
           "gridcolor": "white",
           "linecolor": "white",
           "ticks": "",
           "title": {
            "standoff": 15
           },
           "zerolinecolor": "white",
           "zerolinewidth": 2
          },
          "yaxis": {
           "automargin": true,
           "gridcolor": "white",
           "linecolor": "white",
           "ticks": "",
           "title": {
            "standoff": 15
           },
           "zerolinecolor": "white",
           "zerolinewidth": 2
          }
         }
        },
        "title": {
         "text": "Number of Viewers on 10 May (Property & Funds)",
         "x": 0.5,
         "y": 0.95
        },
        "width": 1100,
        "xaxis": {
         "anchor": "y",
         "domain": [
          0,
          1
         ],
         "title": {
          "text": "Time"
         }
        },
        "yaxis": {
         "anchor": "x",
         "domain": [
          0,
          1
         ],
         "title": {
          "text": "Watching"
         }
        }
       }
      }
     },
     "metadata": {},
     "output_type": "display_data"
    }
   ],
   "source": [
    "# Visualise the attendance dynamics\n",
    "linechart_10_05_2022 = px.line(data_frame=timetable_10_05_2022, x = 'Time', y='Watching_10_05_2022')\n",
    "linechart_10_05_2022.update_layout(\n",
    "        title=\"Number of Viewers on 10 May (Property & Funds)\",\n",
    "        title_x=0.5,\n",
    "        title_y=0.95,\n",
    "        width=1100,\n",
    "        height=400,\n",
    "        yaxis_title=\"Watching\"\n",
    "        )\n",
    "linechart_10_05_2022.show()"
   ]
  },
  {
   "cell_type": "code",
   "execution_count": 29,
   "metadata": {},
   "outputs": [],
   "source": [
    "# linechart_10_05_2022_file_name = (' - Attendees Line Chart 2022-05-10 - ' + timestamp)\n",
    "# pio.write_image(linechart_10_05_2022, (location_windows + linechart_10_05_2022_file_name + '.png'), format='png', width=1100, height=400)"
   ]
  },
  {
   "cell_type": "markdown",
   "metadata": {},
   "source": [
    "## Stats on 3.05.22 (Software, Platforms & Marketplaces)"
   ]
  },
  {
   "cell_type": "code",
   "execution_count": 30,
   "metadata": {},
   "outputs": [
    {
     "name": "stdout",
     "output_type": "stream",
     "text": [
      "The first attendee joined at 2022-05-03 17:22:05\n",
      "The last attendee left at 2022-05-03 19:14:46\n"
     ]
    }
   ],
   "source": [
    "# Extracting dvisitors of this event and checking its start and end\n",
    "data_03_05_2022 = data[data['Event Date'] == '2022-05-03'].sort_values(by='Join Time', ignore_index=True)\n",
    "start_03_05_2022 = data_03_05_2022['Join Time'][0]\n",
    "print('The first attendee joined at ' + str(start_03_05_2022))\n",
    "\n",
    "data_03_05_2022 = data[data['Event Date'] == '2022-05-03'].sort_values(by='Leave Time', ignore_index=True, ascending=False)\n",
    "end_03_05_2022 = data_03_05_2022['Leave Time'][0]\n",
    "print('The last attendee left at ' + str(end_03_05_2022))"
   ]
  },
  {
   "cell_type": "code",
   "execution_count": 31,
   "metadata": {},
   "outputs": [],
   "source": [
    "# Set up a table with the time\n",
    "rng = pd.date_range(start_03_05_2022, end_03_05_2022, freq=\"min\")\n",
    "timetable_03_05_2022 = pd.DataFrame({ 'Time': rng, 'Watching_03_05_2022': 0 })\n",
    "# print(timetable_03_05_2022)"
   ]
  },
  {
   "cell_type": "code",
   "execution_count": 32,
   "metadata": {},
   "outputs": [],
   "source": [
    "# Count the number of viewers at each given minute\n",
    "def get_attendance_per_minute(time):\n",
    "    count = 0\n",
    "    for row in data_03_05_2022['Join Time']:\n",
    "        if time > row:\n",
    "            count += 1\n",
    "    for line in data_03_05_2022['Leave Time']:\n",
    "        if time > line:\n",
    "            count -= 1\n",
    "    return (count)\n",
    "\n",
    "timetable_03_05_2022['Watching_03_05_2022'] = timetable_03_05_2022['Time'].apply(get_attendance_per_minute)\n",
    "\n",
    "# display(timetable_03_05_2022)"
   ]
  },
  {
   "cell_type": "code",
   "execution_count": 33,
   "metadata": {},
   "outputs": [
    {
     "data": {
      "application/vnd.plotly.v1+json": {
       "config": {
        "plotlyServerURL": "https://plot.ly"
       },
       "data": [
        {
         "hovertemplate": "Time=%{x}<br>Watching_03_05_2022=%{y}<extra></extra>",
         "legendgroup": "",
         "line": {
          "color": "#636efa",
          "dash": "solid"
         },
         "marker": {
          "symbol": "circle"
         },
         "mode": "lines",
         "name": "",
         "orientation": "v",
         "showlegend": false,
         "type": "scatter",
         "x": [
          "2022-05-03T17:22:05",
          "2022-05-03T17:23:05",
          "2022-05-03T17:24:05",
          "2022-05-03T17:25:05",
          "2022-05-03T17:26:05",
          "2022-05-03T17:27:05",
          "2022-05-03T17:28:05",
          "2022-05-03T17:29:05",
          "2022-05-03T17:30:05",
          "2022-05-03T17:31:05",
          "2022-05-03T17:32:05",
          "2022-05-03T17:33:05",
          "2022-05-03T17:34:05",
          "2022-05-03T17:35:05",
          "2022-05-03T17:36:05",
          "2022-05-03T17:37:05",
          "2022-05-03T17:38:05",
          "2022-05-03T17:39:05",
          "2022-05-03T17:40:05",
          "2022-05-03T17:41:05",
          "2022-05-03T17:42:05",
          "2022-05-03T17:43:05",
          "2022-05-03T17:44:05",
          "2022-05-03T17:45:05",
          "2022-05-03T17:46:05",
          "2022-05-03T17:47:05",
          "2022-05-03T17:48:05",
          "2022-05-03T17:49:05",
          "2022-05-03T17:50:05",
          "2022-05-03T17:51:05",
          "2022-05-03T17:52:05",
          "2022-05-03T17:53:05",
          "2022-05-03T17:54:05",
          "2022-05-03T17:55:05",
          "2022-05-03T17:56:05",
          "2022-05-03T17:57:05",
          "2022-05-03T17:58:05",
          "2022-05-03T17:59:05",
          "2022-05-03T18:00:05",
          "2022-05-03T18:01:05",
          "2022-05-03T18:02:05",
          "2022-05-03T18:03:05",
          "2022-05-03T18:04:05",
          "2022-05-03T18:05:05",
          "2022-05-03T18:06:05",
          "2022-05-03T18:07:05",
          "2022-05-03T18:08:05",
          "2022-05-03T18:09:05",
          "2022-05-03T18:10:05",
          "2022-05-03T18:11:05",
          "2022-05-03T18:12:05",
          "2022-05-03T18:13:05",
          "2022-05-03T18:14:05",
          "2022-05-03T18:15:05",
          "2022-05-03T18:16:05",
          "2022-05-03T18:17:05",
          "2022-05-03T18:18:05",
          "2022-05-03T18:19:05",
          "2022-05-03T18:20:05",
          "2022-05-03T18:21:05",
          "2022-05-03T18:22:05",
          "2022-05-03T18:23:05",
          "2022-05-03T18:24:05",
          "2022-05-03T18:25:05",
          "2022-05-03T18:26:05",
          "2022-05-03T18:27:05",
          "2022-05-03T18:28:05",
          "2022-05-03T18:29:05",
          "2022-05-03T18:30:05",
          "2022-05-03T18:31:05",
          "2022-05-03T18:32:05",
          "2022-05-03T18:33:05",
          "2022-05-03T18:34:05",
          "2022-05-03T18:35:05",
          "2022-05-03T18:36:05",
          "2022-05-03T18:37:05",
          "2022-05-03T18:38:05",
          "2022-05-03T18:39:05",
          "2022-05-03T18:40:05",
          "2022-05-03T18:41:05",
          "2022-05-03T18:42:05",
          "2022-05-03T18:43:05",
          "2022-05-03T18:44:05",
          "2022-05-03T18:45:05",
          "2022-05-03T18:46:05",
          "2022-05-03T18:47:05",
          "2022-05-03T18:48:05",
          "2022-05-03T18:49:05",
          "2022-05-03T18:50:05",
          "2022-05-03T18:51:05",
          "2022-05-03T18:52:05",
          "2022-05-03T18:53:05",
          "2022-05-03T18:54:05",
          "2022-05-03T18:55:05",
          "2022-05-03T18:56:05",
          "2022-05-03T18:57:05",
          "2022-05-03T18:58:05",
          "2022-05-03T18:59:05",
          "2022-05-03T19:00:05",
          "2022-05-03T19:01:05",
          "2022-05-03T19:02:05",
          "2022-05-03T19:03:05",
          "2022-05-03T19:04:05",
          "2022-05-03T19:05:05",
          "2022-05-03T19:06:05",
          "2022-05-03T19:07:05",
          "2022-05-03T19:08:05",
          "2022-05-03T19:09:05",
          "2022-05-03T19:10:05",
          "2022-05-03T19:11:05",
          "2022-05-03T19:12:05",
          "2022-05-03T19:13:05",
          "2022-05-03T19:14:05"
         ],
         "xaxis": "x",
         "y": [
          0,
          1,
          1,
          1,
          1,
          2,
          3,
          3,
          4,
          5,
          6,
          7,
          7,
          7,
          7,
          8,
          8,
          8,
          8,
          8,
          8,
          8,
          8,
          8,
          8,
          8,
          8,
          8,
          8,
          8,
          9,
          9,
          9,
          9,
          9,
          9,
          9,
          9,
          9,
          9,
          9,
          9,
          9,
          9,
          8,
          8,
          8,
          8,
          8,
          8,
          8,
          8,
          8,
          8,
          8,
          8,
          8,
          8,
          8,
          8,
          8,
          8,
          8,
          8,
          8,
          8,
          8,
          8,
          8,
          8,
          8,
          8,
          8,
          8,
          8,
          8,
          8,
          8,
          8,
          8,
          8,
          8,
          8,
          8,
          8,
          7,
          7,
          7,
          7,
          7,
          7,
          7,
          7,
          7,
          7,
          6,
          6,
          6,
          6,
          5,
          5,
          5,
          5,
          5,
          5,
          5,
          5,
          4,
          4,
          4,
          4,
          4,
          3
         ],
         "yaxis": "y"
        }
       ],
       "layout": {
        "height": 400,
        "legend": {
         "tracegroupgap": 0
        },
        "margin": {
         "t": 60
        },
        "template": {
         "data": {
          "bar": [
           {
            "error_x": {
             "color": "#2a3f5f"
            },
            "error_y": {
             "color": "#2a3f5f"
            },
            "marker": {
             "line": {
              "color": "#E5ECF6",
              "width": 0.5
             },
             "pattern": {
              "fillmode": "overlay",
              "size": 10,
              "solidity": 0.2
             }
            },
            "type": "bar"
           }
          ],
          "barpolar": [
           {
            "marker": {
             "line": {
              "color": "#E5ECF6",
              "width": 0.5
             },
             "pattern": {
              "fillmode": "overlay",
              "size": 10,
              "solidity": 0.2
             }
            },
            "type": "barpolar"
           }
          ],
          "carpet": [
           {
            "aaxis": {
             "endlinecolor": "#2a3f5f",
             "gridcolor": "white",
             "linecolor": "white",
             "minorgridcolor": "white",
             "startlinecolor": "#2a3f5f"
            },
            "baxis": {
             "endlinecolor": "#2a3f5f",
             "gridcolor": "white",
             "linecolor": "white",
             "minorgridcolor": "white",
             "startlinecolor": "#2a3f5f"
            },
            "type": "carpet"
           }
          ],
          "choropleth": [
           {
            "colorbar": {
             "outlinewidth": 0,
             "ticks": ""
            },
            "type": "choropleth"
           }
          ],
          "contour": [
           {
            "colorbar": {
             "outlinewidth": 0,
             "ticks": ""
            },
            "colorscale": [
             [
              0,
              "#0d0887"
             ],
             [
              0.1111111111111111,
              "#46039f"
             ],
             [
              0.2222222222222222,
              "#7201a8"
             ],
             [
              0.3333333333333333,
              "#9c179e"
             ],
             [
              0.4444444444444444,
              "#bd3786"
             ],
             [
              0.5555555555555556,
              "#d8576b"
             ],
             [
              0.6666666666666666,
              "#ed7953"
             ],
             [
              0.7777777777777778,
              "#fb9f3a"
             ],
             [
              0.8888888888888888,
              "#fdca26"
             ],
             [
              1,
              "#f0f921"
             ]
            ],
            "type": "contour"
           }
          ],
          "contourcarpet": [
           {
            "colorbar": {
             "outlinewidth": 0,
             "ticks": ""
            },
            "type": "contourcarpet"
           }
          ],
          "heatmap": [
           {
            "colorbar": {
             "outlinewidth": 0,
             "ticks": ""
            },
            "colorscale": [
             [
              0,
              "#0d0887"
             ],
             [
              0.1111111111111111,
              "#46039f"
             ],
             [
              0.2222222222222222,
              "#7201a8"
             ],
             [
              0.3333333333333333,
              "#9c179e"
             ],
             [
              0.4444444444444444,
              "#bd3786"
             ],
             [
              0.5555555555555556,
              "#d8576b"
             ],
             [
              0.6666666666666666,
              "#ed7953"
             ],
             [
              0.7777777777777778,
              "#fb9f3a"
             ],
             [
              0.8888888888888888,
              "#fdca26"
             ],
             [
              1,
              "#f0f921"
             ]
            ],
            "type": "heatmap"
           }
          ],
          "heatmapgl": [
           {
            "colorbar": {
             "outlinewidth": 0,
             "ticks": ""
            },
            "colorscale": [
             [
              0,
              "#0d0887"
             ],
             [
              0.1111111111111111,
              "#46039f"
             ],
             [
              0.2222222222222222,
              "#7201a8"
             ],
             [
              0.3333333333333333,
              "#9c179e"
             ],
             [
              0.4444444444444444,
              "#bd3786"
             ],
             [
              0.5555555555555556,
              "#d8576b"
             ],
             [
              0.6666666666666666,
              "#ed7953"
             ],
             [
              0.7777777777777778,
              "#fb9f3a"
             ],
             [
              0.8888888888888888,
              "#fdca26"
             ],
             [
              1,
              "#f0f921"
             ]
            ],
            "type": "heatmapgl"
           }
          ],
          "histogram": [
           {
            "marker": {
             "pattern": {
              "fillmode": "overlay",
              "size": 10,
              "solidity": 0.2
             }
            },
            "type": "histogram"
           }
          ],
          "histogram2d": [
           {
            "colorbar": {
             "outlinewidth": 0,
             "ticks": ""
            },
            "colorscale": [
             [
              0,
              "#0d0887"
             ],
             [
              0.1111111111111111,
              "#46039f"
             ],
             [
              0.2222222222222222,
              "#7201a8"
             ],
             [
              0.3333333333333333,
              "#9c179e"
             ],
             [
              0.4444444444444444,
              "#bd3786"
             ],
             [
              0.5555555555555556,
              "#d8576b"
             ],
             [
              0.6666666666666666,
              "#ed7953"
             ],
             [
              0.7777777777777778,
              "#fb9f3a"
             ],
             [
              0.8888888888888888,
              "#fdca26"
             ],
             [
              1,
              "#f0f921"
             ]
            ],
            "type": "histogram2d"
           }
          ],
          "histogram2dcontour": [
           {
            "colorbar": {
             "outlinewidth": 0,
             "ticks": ""
            },
            "colorscale": [
             [
              0,
              "#0d0887"
             ],
             [
              0.1111111111111111,
              "#46039f"
             ],
             [
              0.2222222222222222,
              "#7201a8"
             ],
             [
              0.3333333333333333,
              "#9c179e"
             ],
             [
              0.4444444444444444,
              "#bd3786"
             ],
             [
              0.5555555555555556,
              "#d8576b"
             ],
             [
              0.6666666666666666,
              "#ed7953"
             ],
             [
              0.7777777777777778,
              "#fb9f3a"
             ],
             [
              0.8888888888888888,
              "#fdca26"
             ],
             [
              1,
              "#f0f921"
             ]
            ],
            "type": "histogram2dcontour"
           }
          ],
          "mesh3d": [
           {
            "colorbar": {
             "outlinewidth": 0,
             "ticks": ""
            },
            "type": "mesh3d"
           }
          ],
          "parcoords": [
           {
            "line": {
             "colorbar": {
              "outlinewidth": 0,
              "ticks": ""
             }
            },
            "type": "parcoords"
           }
          ],
          "pie": [
           {
            "automargin": true,
            "type": "pie"
           }
          ],
          "scatter": [
           {
            "marker": {
             "colorbar": {
              "outlinewidth": 0,
              "ticks": ""
             }
            },
            "type": "scatter"
           }
          ],
          "scatter3d": [
           {
            "line": {
             "colorbar": {
              "outlinewidth": 0,
              "ticks": ""
             }
            },
            "marker": {
             "colorbar": {
              "outlinewidth": 0,
              "ticks": ""
             }
            },
            "type": "scatter3d"
           }
          ],
          "scattercarpet": [
           {
            "marker": {
             "colorbar": {
              "outlinewidth": 0,
              "ticks": ""
             }
            },
            "type": "scattercarpet"
           }
          ],
          "scattergeo": [
           {
            "marker": {
             "colorbar": {
              "outlinewidth": 0,
              "ticks": ""
             }
            },
            "type": "scattergeo"
           }
          ],
          "scattergl": [
           {
            "marker": {
             "colorbar": {
              "outlinewidth": 0,
              "ticks": ""
             }
            },
            "type": "scattergl"
           }
          ],
          "scattermapbox": [
           {
            "marker": {
             "colorbar": {
              "outlinewidth": 0,
              "ticks": ""
             }
            },
            "type": "scattermapbox"
           }
          ],
          "scatterpolar": [
           {
            "marker": {
             "colorbar": {
              "outlinewidth": 0,
              "ticks": ""
             }
            },
            "type": "scatterpolar"
           }
          ],
          "scatterpolargl": [
           {
            "marker": {
             "colorbar": {
              "outlinewidth": 0,
              "ticks": ""
             }
            },
            "type": "scatterpolargl"
           }
          ],
          "scatterternary": [
           {
            "marker": {
             "colorbar": {
              "outlinewidth": 0,
              "ticks": ""
             }
            },
            "type": "scatterternary"
           }
          ],
          "surface": [
           {
            "colorbar": {
             "outlinewidth": 0,
             "ticks": ""
            },
            "colorscale": [
             [
              0,
              "#0d0887"
             ],
             [
              0.1111111111111111,
              "#46039f"
             ],
             [
              0.2222222222222222,
              "#7201a8"
             ],
             [
              0.3333333333333333,
              "#9c179e"
             ],
             [
              0.4444444444444444,
              "#bd3786"
             ],
             [
              0.5555555555555556,
              "#d8576b"
             ],
             [
              0.6666666666666666,
              "#ed7953"
             ],
             [
              0.7777777777777778,
              "#fb9f3a"
             ],
             [
              0.8888888888888888,
              "#fdca26"
             ],
             [
              1,
              "#f0f921"
             ]
            ],
            "type": "surface"
           }
          ],
          "table": [
           {
            "cells": {
             "fill": {
              "color": "#EBF0F8"
             },
             "line": {
              "color": "white"
             }
            },
            "header": {
             "fill": {
              "color": "#C8D4E3"
             },
             "line": {
              "color": "white"
             }
            },
            "type": "table"
           }
          ]
         },
         "layout": {
          "annotationdefaults": {
           "arrowcolor": "#2a3f5f",
           "arrowhead": 0,
           "arrowwidth": 1
          },
          "autotypenumbers": "strict",
          "coloraxis": {
           "colorbar": {
            "outlinewidth": 0,
            "ticks": ""
           }
          },
          "colorscale": {
           "diverging": [
            [
             0,
             "#8e0152"
            ],
            [
             0.1,
             "#c51b7d"
            ],
            [
             0.2,
             "#de77ae"
            ],
            [
             0.3,
             "#f1b6da"
            ],
            [
             0.4,
             "#fde0ef"
            ],
            [
             0.5,
             "#f7f7f7"
            ],
            [
             0.6,
             "#e6f5d0"
            ],
            [
             0.7,
             "#b8e186"
            ],
            [
             0.8,
             "#7fbc41"
            ],
            [
             0.9,
             "#4d9221"
            ],
            [
             1,
             "#276419"
            ]
           ],
           "sequential": [
            [
             0,
             "#0d0887"
            ],
            [
             0.1111111111111111,
             "#46039f"
            ],
            [
             0.2222222222222222,
             "#7201a8"
            ],
            [
             0.3333333333333333,
             "#9c179e"
            ],
            [
             0.4444444444444444,
             "#bd3786"
            ],
            [
             0.5555555555555556,
             "#d8576b"
            ],
            [
             0.6666666666666666,
             "#ed7953"
            ],
            [
             0.7777777777777778,
             "#fb9f3a"
            ],
            [
             0.8888888888888888,
             "#fdca26"
            ],
            [
             1,
             "#f0f921"
            ]
           ],
           "sequentialminus": [
            [
             0,
             "#0d0887"
            ],
            [
             0.1111111111111111,
             "#46039f"
            ],
            [
             0.2222222222222222,
             "#7201a8"
            ],
            [
             0.3333333333333333,
             "#9c179e"
            ],
            [
             0.4444444444444444,
             "#bd3786"
            ],
            [
             0.5555555555555556,
             "#d8576b"
            ],
            [
             0.6666666666666666,
             "#ed7953"
            ],
            [
             0.7777777777777778,
             "#fb9f3a"
            ],
            [
             0.8888888888888888,
             "#fdca26"
            ],
            [
             1,
             "#f0f921"
            ]
           ]
          },
          "colorway": [
           "#636efa",
           "#EF553B",
           "#00cc96",
           "#ab63fa",
           "#FFA15A",
           "#19d3f3",
           "#FF6692",
           "#B6E880",
           "#FF97FF",
           "#FECB52"
          ],
          "font": {
           "color": "#2a3f5f"
          },
          "geo": {
           "bgcolor": "white",
           "lakecolor": "white",
           "landcolor": "#E5ECF6",
           "showlakes": true,
           "showland": true,
           "subunitcolor": "white"
          },
          "hoverlabel": {
           "align": "left"
          },
          "hovermode": "closest",
          "mapbox": {
           "style": "light"
          },
          "paper_bgcolor": "white",
          "plot_bgcolor": "#E5ECF6",
          "polar": {
           "angularaxis": {
            "gridcolor": "white",
            "linecolor": "white",
            "ticks": ""
           },
           "bgcolor": "#E5ECF6",
           "radialaxis": {
            "gridcolor": "white",
            "linecolor": "white",
            "ticks": ""
           }
          },
          "scene": {
           "xaxis": {
            "backgroundcolor": "#E5ECF6",
            "gridcolor": "white",
            "gridwidth": 2,
            "linecolor": "white",
            "showbackground": true,
            "ticks": "",
            "zerolinecolor": "white"
           },
           "yaxis": {
            "backgroundcolor": "#E5ECF6",
            "gridcolor": "white",
            "gridwidth": 2,
            "linecolor": "white",
            "showbackground": true,
            "ticks": "",
            "zerolinecolor": "white"
           },
           "zaxis": {
            "backgroundcolor": "#E5ECF6",
            "gridcolor": "white",
            "gridwidth": 2,
            "linecolor": "white",
            "showbackground": true,
            "ticks": "",
            "zerolinecolor": "white"
           }
          },
          "shapedefaults": {
           "line": {
            "color": "#2a3f5f"
           }
          },
          "ternary": {
           "aaxis": {
            "gridcolor": "white",
            "linecolor": "white",
            "ticks": ""
           },
           "baxis": {
            "gridcolor": "white",
            "linecolor": "white",
            "ticks": ""
           },
           "bgcolor": "#E5ECF6",
           "caxis": {
            "gridcolor": "white",
            "linecolor": "white",
            "ticks": ""
           }
          },
          "title": {
           "x": 0.05
          },
          "xaxis": {
           "automargin": true,
           "gridcolor": "white",
           "linecolor": "white",
           "ticks": "",
           "title": {
            "standoff": 15
           },
           "zerolinecolor": "white",
           "zerolinewidth": 2
          },
          "yaxis": {
           "automargin": true,
           "gridcolor": "white",
           "linecolor": "white",
           "ticks": "",
           "title": {
            "standoff": 15
           },
           "zerolinecolor": "white",
           "zerolinewidth": 2
          }
         }
        },
        "title": {
         "text": "Number of Viewers on 03 May (Software, Platforms & Marketplaces)",
         "x": 0.5,
         "y": 0.95
        },
        "width": 1100,
        "xaxis": {
         "anchor": "y",
         "domain": [
          0,
          1
         ],
         "title": {
          "text": "Time"
         }
        },
        "yaxis": {
         "anchor": "x",
         "domain": [
          0,
          1
         ],
         "title": {
          "text": "Watching"
         }
        }
       }
      }
     },
     "metadata": {},
     "output_type": "display_data"
    }
   ],
   "source": [
    "# Visualise the attendance dynamics\n",
    "linechart_03_05_2022 = px.line(data_frame=timetable_03_05_2022, x = 'Time', y='Watching_03_05_2022')\n",
    "linechart_03_05_2022.update_layout(\n",
    "        title=\"Number of Viewers on 03 May (Software, Platforms & Marketplaces)\",\n",
    "        title_x=0.5,\n",
    "        title_y=0.95,\n",
    "        width=1100,\n",
    "        height=400,\n",
    "        yaxis_title=\"Watching\"\n",
    "        )\n",
    "linechart_03_05_2022.show()"
   ]
  },
  {
   "cell_type": "code",
   "execution_count": 34,
   "metadata": {},
   "outputs": [],
   "source": [
    "# linechart_03_05_2022_file_name = (' - Attendees Line Chart 2022-05-03 - ' + timestamp)\n",
    "# pio.write_image(linechart_03_05_2022, (location_windows + linechart_03_05_2022_file_name + '.png'), format='png', width=1100, height=400)"
   ]
  },
  {
   "cell_type": "markdown",
   "metadata": {},
   "source": [
    "## Stats on 26.04.22 (Funds, Fintech & Financial Services)"
   ]
  },
  {
   "cell_type": "code",
   "execution_count": 35,
   "metadata": {},
   "outputs": [
    {
     "name": "stdout",
     "output_type": "stream",
     "text": [
      "The first attendee joined at 2022-04-26 17:33:38\n",
      "The last attendee left at 2022-04-26 19:35:33\n"
     ]
    }
   ],
   "source": [
    "# Extracting dvisitors of this event and checking its start and end\n",
    "data_26_04_2022 = data[data['Event Date'] == '2022-04-26'].sort_values(by='Join Time', ignore_index=True)\n",
    "start_26_04_2022 = data_26_04_2022['Join Time'][0]\n",
    "print('The first attendee joined at ' + str(start_26_04_2022))\n",
    "\n",
    "data_26_04_2022 = data[data['Event Date'] == '2022-04-26'].sort_values(by='Leave Time', ignore_index=True, ascending=False)\n",
    "end_26_04_2022 = data_26_04_2022['Leave Time'][3]\n",
    "print('The last attendee left at ' + str(end_26_04_2022))"
   ]
  },
  {
   "cell_type": "code",
   "execution_count": 36,
   "metadata": {},
   "outputs": [],
   "source": [
    "# Set up a table with the time\n",
    "rng = pd.date_range(start_26_04_2022, end_26_04_2022, freq=\"min\")\n",
    "timetable_26_04_2022 = pd.DataFrame({ 'Time': rng, 'Watching_26_04_2022': 0 })\n",
    "# print(timetable_26_04_2022)"
   ]
  },
  {
   "cell_type": "code",
   "execution_count": 37,
   "metadata": {},
   "outputs": [],
   "source": [
    "# Count the number of viewers at each given minute\n",
    "def get_attendance_per_minute(time):\n",
    "    count = 0\n",
    "    for row in data_26_04_2022['Join Time']:\n",
    "        if time > row:\n",
    "            count += 1\n",
    "    for line in data_26_04_2022['Leave Time']:\n",
    "        if time > line:\n",
    "            count -= 1\n",
    "    return (count)\n",
    "\n",
    "timetable_26_04_2022['Watching_26_04_2022'] = timetable_26_04_2022['Time'].apply(get_attendance_per_minute)\n",
    "\n",
    "# display(timetable_26_04_2022)"
   ]
  },
  {
   "cell_type": "code",
   "execution_count": 38,
   "metadata": {},
   "outputs": [
    {
     "data": {
      "application/vnd.plotly.v1+json": {
       "config": {
        "plotlyServerURL": "https://plot.ly"
       },
       "data": [
        {
         "hovertemplate": "Time=%{x}<br>Watching_26_04_2022=%{y}<extra></extra>",
         "legendgroup": "",
         "line": {
          "color": "#636efa",
          "dash": "solid"
         },
         "marker": {
          "symbol": "circle"
         },
         "mode": "lines",
         "name": "",
         "orientation": "v",
         "showlegend": false,
         "type": "scatter",
         "x": [
          "2022-04-26T17:33:38",
          "2022-04-26T17:34:38",
          "2022-04-26T17:35:38",
          "2022-04-26T17:36:38",
          "2022-04-26T17:37:38",
          "2022-04-26T17:38:38",
          "2022-04-26T17:39:38",
          "2022-04-26T17:40:38",
          "2022-04-26T17:41:38",
          "2022-04-26T17:42:38",
          "2022-04-26T17:43:38",
          "2022-04-26T17:44:38",
          "2022-04-26T17:45:38",
          "2022-04-26T17:46:38",
          "2022-04-26T17:47:38",
          "2022-04-26T17:48:38",
          "2022-04-26T17:49:38",
          "2022-04-26T17:50:38",
          "2022-04-26T17:51:38",
          "2022-04-26T17:52:38",
          "2022-04-26T17:53:38",
          "2022-04-26T17:54:38",
          "2022-04-26T17:55:38",
          "2022-04-26T17:56:38",
          "2022-04-26T17:57:38",
          "2022-04-26T17:58:38",
          "2022-04-26T17:59:38",
          "2022-04-26T18:00:38",
          "2022-04-26T18:01:38",
          "2022-04-26T18:02:38",
          "2022-04-26T18:03:38",
          "2022-04-26T18:04:38",
          "2022-04-26T18:05:38",
          "2022-04-26T18:06:38",
          "2022-04-26T18:07:38",
          "2022-04-26T18:08:38",
          "2022-04-26T18:09:38",
          "2022-04-26T18:10:38",
          "2022-04-26T18:11:38",
          "2022-04-26T18:12:38",
          "2022-04-26T18:13:38",
          "2022-04-26T18:14:38",
          "2022-04-26T18:15:38",
          "2022-04-26T18:16:38",
          "2022-04-26T18:17:38",
          "2022-04-26T18:18:38",
          "2022-04-26T18:19:38",
          "2022-04-26T18:20:38",
          "2022-04-26T18:21:38",
          "2022-04-26T18:22:38",
          "2022-04-26T18:23:38",
          "2022-04-26T18:24:38",
          "2022-04-26T18:25:38",
          "2022-04-26T18:26:38",
          "2022-04-26T18:27:38",
          "2022-04-26T18:28:38",
          "2022-04-26T18:29:38",
          "2022-04-26T18:30:38",
          "2022-04-26T18:31:38",
          "2022-04-26T18:32:38",
          "2022-04-26T18:33:38",
          "2022-04-26T18:34:38",
          "2022-04-26T18:35:38",
          "2022-04-26T18:36:38",
          "2022-04-26T18:37:38",
          "2022-04-26T18:38:38",
          "2022-04-26T18:39:38",
          "2022-04-26T18:40:38",
          "2022-04-26T18:41:38",
          "2022-04-26T18:42:38",
          "2022-04-26T18:43:38",
          "2022-04-26T18:44:38",
          "2022-04-26T18:45:38",
          "2022-04-26T18:46:38",
          "2022-04-26T18:47:38",
          "2022-04-26T18:48:38",
          "2022-04-26T18:49:38",
          "2022-04-26T18:50:38",
          "2022-04-26T18:51:38",
          "2022-04-26T18:52:38",
          "2022-04-26T18:53:38",
          "2022-04-26T18:54:38",
          "2022-04-26T18:55:38",
          "2022-04-26T18:56:38",
          "2022-04-26T18:57:38",
          "2022-04-26T18:58:38",
          "2022-04-26T18:59:38",
          "2022-04-26T19:00:38",
          "2022-04-26T19:01:38",
          "2022-04-26T19:02:38",
          "2022-04-26T19:03:38",
          "2022-04-26T19:04:38",
          "2022-04-26T19:05:38",
          "2022-04-26T19:06:38",
          "2022-04-26T19:07:38",
          "2022-04-26T19:08:38",
          "2022-04-26T19:09:38",
          "2022-04-26T19:10:38",
          "2022-04-26T19:11:38",
          "2022-04-26T19:12:38",
          "2022-04-26T19:13:38",
          "2022-04-26T19:14:38",
          "2022-04-26T19:15:38",
          "2022-04-26T19:16:38",
          "2022-04-26T19:17:38",
          "2022-04-26T19:18:38",
          "2022-04-26T19:19:38",
          "2022-04-26T19:20:38",
          "2022-04-26T19:21:38",
          "2022-04-26T19:22:38",
          "2022-04-26T19:23:38",
          "2022-04-26T19:24:38",
          "2022-04-26T19:25:38",
          "2022-04-26T19:26:38",
          "2022-04-26T19:27:38",
          "2022-04-26T19:28:38",
          "2022-04-26T19:29:38",
          "2022-04-26T19:30:38",
          "2022-04-26T19:31:38",
          "2022-04-26T19:32:38",
          "2022-04-26T19:33:38",
          "2022-04-26T19:34:38"
         ],
         "xaxis": "x",
         "y": [
          0,
          10,
          10,
          11,
          11,
          11,
          12,
          12,
          12,
          12,
          12,
          12,
          12,
          13,
          14,
          14,
          14,
          14,
          14,
          15,
          14,
          14,
          15,
          15,
          16,
          16,
          16,
          16,
          16,
          16,
          16,
          17,
          17,
          16,
          16,
          16,
          16,
          16,
          16,
          16,
          16,
          15,
          15,
          15,
          15,
          15,
          15,
          15,
          15,
          15,
          14,
          14,
          14,
          14,
          14,
          14,
          14,
          14,
          14,
          14,
          14,
          14,
          14,
          14,
          14,
          14,
          14,
          15,
          15,
          15,
          15,
          14,
          14,
          13,
          13,
          13,
          13,
          13,
          13,
          13,
          12,
          10,
          10,
          9,
          9,
          9,
          9,
          9,
          8,
          8,
          7,
          7,
          7,
          7,
          7,
          7,
          7,
          7,
          7,
          7,
          7,
          7,
          7,
          7,
          7,
          4,
          3,
          3,
          2,
          2,
          2,
          2,
          2,
          2,
          1,
          1,
          1,
          1,
          1,
          1,
          1,
          1
         ],
         "yaxis": "y"
        }
       ],
       "layout": {
        "height": 400,
        "legend": {
         "tracegroupgap": 0
        },
        "margin": {
         "t": 60
        },
        "template": {
         "data": {
          "bar": [
           {
            "error_x": {
             "color": "#2a3f5f"
            },
            "error_y": {
             "color": "#2a3f5f"
            },
            "marker": {
             "line": {
              "color": "#E5ECF6",
              "width": 0.5
             },
             "pattern": {
              "fillmode": "overlay",
              "size": 10,
              "solidity": 0.2
             }
            },
            "type": "bar"
           }
          ],
          "barpolar": [
           {
            "marker": {
             "line": {
              "color": "#E5ECF6",
              "width": 0.5
             },
             "pattern": {
              "fillmode": "overlay",
              "size": 10,
              "solidity": 0.2
             }
            },
            "type": "barpolar"
           }
          ],
          "carpet": [
           {
            "aaxis": {
             "endlinecolor": "#2a3f5f",
             "gridcolor": "white",
             "linecolor": "white",
             "minorgridcolor": "white",
             "startlinecolor": "#2a3f5f"
            },
            "baxis": {
             "endlinecolor": "#2a3f5f",
             "gridcolor": "white",
             "linecolor": "white",
             "minorgridcolor": "white",
             "startlinecolor": "#2a3f5f"
            },
            "type": "carpet"
           }
          ],
          "choropleth": [
           {
            "colorbar": {
             "outlinewidth": 0,
             "ticks": ""
            },
            "type": "choropleth"
           }
          ],
          "contour": [
           {
            "colorbar": {
             "outlinewidth": 0,
             "ticks": ""
            },
            "colorscale": [
             [
              0,
              "#0d0887"
             ],
             [
              0.1111111111111111,
              "#46039f"
             ],
             [
              0.2222222222222222,
              "#7201a8"
             ],
             [
              0.3333333333333333,
              "#9c179e"
             ],
             [
              0.4444444444444444,
              "#bd3786"
             ],
             [
              0.5555555555555556,
              "#d8576b"
             ],
             [
              0.6666666666666666,
              "#ed7953"
             ],
             [
              0.7777777777777778,
              "#fb9f3a"
             ],
             [
              0.8888888888888888,
              "#fdca26"
             ],
             [
              1,
              "#f0f921"
             ]
            ],
            "type": "contour"
           }
          ],
          "contourcarpet": [
           {
            "colorbar": {
             "outlinewidth": 0,
             "ticks": ""
            },
            "type": "contourcarpet"
           }
          ],
          "heatmap": [
           {
            "colorbar": {
             "outlinewidth": 0,
             "ticks": ""
            },
            "colorscale": [
             [
              0,
              "#0d0887"
             ],
             [
              0.1111111111111111,
              "#46039f"
             ],
             [
              0.2222222222222222,
              "#7201a8"
             ],
             [
              0.3333333333333333,
              "#9c179e"
             ],
             [
              0.4444444444444444,
              "#bd3786"
             ],
             [
              0.5555555555555556,
              "#d8576b"
             ],
             [
              0.6666666666666666,
              "#ed7953"
             ],
             [
              0.7777777777777778,
              "#fb9f3a"
             ],
             [
              0.8888888888888888,
              "#fdca26"
             ],
             [
              1,
              "#f0f921"
             ]
            ],
            "type": "heatmap"
           }
          ],
          "heatmapgl": [
           {
            "colorbar": {
             "outlinewidth": 0,
             "ticks": ""
            },
            "colorscale": [
             [
              0,
              "#0d0887"
             ],
             [
              0.1111111111111111,
              "#46039f"
             ],
             [
              0.2222222222222222,
              "#7201a8"
             ],
             [
              0.3333333333333333,
              "#9c179e"
             ],
             [
              0.4444444444444444,
              "#bd3786"
             ],
             [
              0.5555555555555556,
              "#d8576b"
             ],
             [
              0.6666666666666666,
              "#ed7953"
             ],
             [
              0.7777777777777778,
              "#fb9f3a"
             ],
             [
              0.8888888888888888,
              "#fdca26"
             ],
             [
              1,
              "#f0f921"
             ]
            ],
            "type": "heatmapgl"
           }
          ],
          "histogram": [
           {
            "marker": {
             "pattern": {
              "fillmode": "overlay",
              "size": 10,
              "solidity": 0.2
             }
            },
            "type": "histogram"
           }
          ],
          "histogram2d": [
           {
            "colorbar": {
             "outlinewidth": 0,
             "ticks": ""
            },
            "colorscale": [
             [
              0,
              "#0d0887"
             ],
             [
              0.1111111111111111,
              "#46039f"
             ],
             [
              0.2222222222222222,
              "#7201a8"
             ],
             [
              0.3333333333333333,
              "#9c179e"
             ],
             [
              0.4444444444444444,
              "#bd3786"
             ],
             [
              0.5555555555555556,
              "#d8576b"
             ],
             [
              0.6666666666666666,
              "#ed7953"
             ],
             [
              0.7777777777777778,
              "#fb9f3a"
             ],
             [
              0.8888888888888888,
              "#fdca26"
             ],
             [
              1,
              "#f0f921"
             ]
            ],
            "type": "histogram2d"
           }
          ],
          "histogram2dcontour": [
           {
            "colorbar": {
             "outlinewidth": 0,
             "ticks": ""
            },
            "colorscale": [
             [
              0,
              "#0d0887"
             ],
             [
              0.1111111111111111,
              "#46039f"
             ],
             [
              0.2222222222222222,
              "#7201a8"
             ],
             [
              0.3333333333333333,
              "#9c179e"
             ],
             [
              0.4444444444444444,
              "#bd3786"
             ],
             [
              0.5555555555555556,
              "#d8576b"
             ],
             [
              0.6666666666666666,
              "#ed7953"
             ],
             [
              0.7777777777777778,
              "#fb9f3a"
             ],
             [
              0.8888888888888888,
              "#fdca26"
             ],
             [
              1,
              "#f0f921"
             ]
            ],
            "type": "histogram2dcontour"
           }
          ],
          "mesh3d": [
           {
            "colorbar": {
             "outlinewidth": 0,
             "ticks": ""
            },
            "type": "mesh3d"
           }
          ],
          "parcoords": [
           {
            "line": {
             "colorbar": {
              "outlinewidth": 0,
              "ticks": ""
             }
            },
            "type": "parcoords"
           }
          ],
          "pie": [
           {
            "automargin": true,
            "type": "pie"
           }
          ],
          "scatter": [
           {
            "marker": {
             "colorbar": {
              "outlinewidth": 0,
              "ticks": ""
             }
            },
            "type": "scatter"
           }
          ],
          "scatter3d": [
           {
            "line": {
             "colorbar": {
              "outlinewidth": 0,
              "ticks": ""
             }
            },
            "marker": {
             "colorbar": {
              "outlinewidth": 0,
              "ticks": ""
             }
            },
            "type": "scatter3d"
           }
          ],
          "scattercarpet": [
           {
            "marker": {
             "colorbar": {
              "outlinewidth": 0,
              "ticks": ""
             }
            },
            "type": "scattercarpet"
           }
          ],
          "scattergeo": [
           {
            "marker": {
             "colorbar": {
              "outlinewidth": 0,
              "ticks": ""
             }
            },
            "type": "scattergeo"
           }
          ],
          "scattergl": [
           {
            "marker": {
             "colorbar": {
              "outlinewidth": 0,
              "ticks": ""
             }
            },
            "type": "scattergl"
           }
          ],
          "scattermapbox": [
           {
            "marker": {
             "colorbar": {
              "outlinewidth": 0,
              "ticks": ""
             }
            },
            "type": "scattermapbox"
           }
          ],
          "scatterpolar": [
           {
            "marker": {
             "colorbar": {
              "outlinewidth": 0,
              "ticks": ""
             }
            },
            "type": "scatterpolar"
           }
          ],
          "scatterpolargl": [
           {
            "marker": {
             "colorbar": {
              "outlinewidth": 0,
              "ticks": ""
             }
            },
            "type": "scatterpolargl"
           }
          ],
          "scatterternary": [
           {
            "marker": {
             "colorbar": {
              "outlinewidth": 0,
              "ticks": ""
             }
            },
            "type": "scatterternary"
           }
          ],
          "surface": [
           {
            "colorbar": {
             "outlinewidth": 0,
             "ticks": ""
            },
            "colorscale": [
             [
              0,
              "#0d0887"
             ],
             [
              0.1111111111111111,
              "#46039f"
             ],
             [
              0.2222222222222222,
              "#7201a8"
             ],
             [
              0.3333333333333333,
              "#9c179e"
             ],
             [
              0.4444444444444444,
              "#bd3786"
             ],
             [
              0.5555555555555556,
              "#d8576b"
             ],
             [
              0.6666666666666666,
              "#ed7953"
             ],
             [
              0.7777777777777778,
              "#fb9f3a"
             ],
             [
              0.8888888888888888,
              "#fdca26"
             ],
             [
              1,
              "#f0f921"
             ]
            ],
            "type": "surface"
           }
          ],
          "table": [
           {
            "cells": {
             "fill": {
              "color": "#EBF0F8"
             },
             "line": {
              "color": "white"
             }
            },
            "header": {
             "fill": {
              "color": "#C8D4E3"
             },
             "line": {
              "color": "white"
             }
            },
            "type": "table"
           }
          ]
         },
         "layout": {
          "annotationdefaults": {
           "arrowcolor": "#2a3f5f",
           "arrowhead": 0,
           "arrowwidth": 1
          },
          "autotypenumbers": "strict",
          "coloraxis": {
           "colorbar": {
            "outlinewidth": 0,
            "ticks": ""
           }
          },
          "colorscale": {
           "diverging": [
            [
             0,
             "#8e0152"
            ],
            [
             0.1,
             "#c51b7d"
            ],
            [
             0.2,
             "#de77ae"
            ],
            [
             0.3,
             "#f1b6da"
            ],
            [
             0.4,
             "#fde0ef"
            ],
            [
             0.5,
             "#f7f7f7"
            ],
            [
             0.6,
             "#e6f5d0"
            ],
            [
             0.7,
             "#b8e186"
            ],
            [
             0.8,
             "#7fbc41"
            ],
            [
             0.9,
             "#4d9221"
            ],
            [
             1,
             "#276419"
            ]
           ],
           "sequential": [
            [
             0,
             "#0d0887"
            ],
            [
             0.1111111111111111,
             "#46039f"
            ],
            [
             0.2222222222222222,
             "#7201a8"
            ],
            [
             0.3333333333333333,
             "#9c179e"
            ],
            [
             0.4444444444444444,
             "#bd3786"
            ],
            [
             0.5555555555555556,
             "#d8576b"
            ],
            [
             0.6666666666666666,
             "#ed7953"
            ],
            [
             0.7777777777777778,
             "#fb9f3a"
            ],
            [
             0.8888888888888888,
             "#fdca26"
            ],
            [
             1,
             "#f0f921"
            ]
           ],
           "sequentialminus": [
            [
             0,
             "#0d0887"
            ],
            [
             0.1111111111111111,
             "#46039f"
            ],
            [
             0.2222222222222222,
             "#7201a8"
            ],
            [
             0.3333333333333333,
             "#9c179e"
            ],
            [
             0.4444444444444444,
             "#bd3786"
            ],
            [
             0.5555555555555556,
             "#d8576b"
            ],
            [
             0.6666666666666666,
             "#ed7953"
            ],
            [
             0.7777777777777778,
             "#fb9f3a"
            ],
            [
             0.8888888888888888,
             "#fdca26"
            ],
            [
             1,
             "#f0f921"
            ]
           ]
          },
          "colorway": [
           "#636efa",
           "#EF553B",
           "#00cc96",
           "#ab63fa",
           "#FFA15A",
           "#19d3f3",
           "#FF6692",
           "#B6E880",
           "#FF97FF",
           "#FECB52"
          ],
          "font": {
           "color": "#2a3f5f"
          },
          "geo": {
           "bgcolor": "white",
           "lakecolor": "white",
           "landcolor": "#E5ECF6",
           "showlakes": true,
           "showland": true,
           "subunitcolor": "white"
          },
          "hoverlabel": {
           "align": "left"
          },
          "hovermode": "closest",
          "mapbox": {
           "style": "light"
          },
          "paper_bgcolor": "white",
          "plot_bgcolor": "#E5ECF6",
          "polar": {
           "angularaxis": {
            "gridcolor": "white",
            "linecolor": "white",
            "ticks": ""
           },
           "bgcolor": "#E5ECF6",
           "radialaxis": {
            "gridcolor": "white",
            "linecolor": "white",
            "ticks": ""
           }
          },
          "scene": {
           "xaxis": {
            "backgroundcolor": "#E5ECF6",
            "gridcolor": "white",
            "gridwidth": 2,
            "linecolor": "white",
            "showbackground": true,
            "ticks": "",
            "zerolinecolor": "white"
           },
           "yaxis": {
            "backgroundcolor": "#E5ECF6",
            "gridcolor": "white",
            "gridwidth": 2,
            "linecolor": "white",
            "showbackground": true,
            "ticks": "",
            "zerolinecolor": "white"
           },
           "zaxis": {
            "backgroundcolor": "#E5ECF6",
            "gridcolor": "white",
            "gridwidth": 2,
            "linecolor": "white",
            "showbackground": true,
            "ticks": "",
            "zerolinecolor": "white"
           }
          },
          "shapedefaults": {
           "line": {
            "color": "#2a3f5f"
           }
          },
          "ternary": {
           "aaxis": {
            "gridcolor": "white",
            "linecolor": "white",
            "ticks": ""
           },
           "baxis": {
            "gridcolor": "white",
            "linecolor": "white",
            "ticks": ""
           },
           "bgcolor": "#E5ECF6",
           "caxis": {
            "gridcolor": "white",
            "linecolor": "white",
            "ticks": ""
           }
          },
          "title": {
           "x": 0.05
          },
          "xaxis": {
           "automargin": true,
           "gridcolor": "white",
           "linecolor": "white",
           "ticks": "",
           "title": {
            "standoff": 15
           },
           "zerolinecolor": "white",
           "zerolinewidth": 2
          },
          "yaxis": {
           "automargin": true,
           "gridcolor": "white",
           "linecolor": "white",
           "ticks": "",
           "title": {
            "standoff": 15
           },
           "zerolinecolor": "white",
           "zerolinewidth": 2
          }
         }
        },
        "title": {
         "text": "Number of Viewers on 26 April (Funds, Fintech & Financial Services)",
         "x": 0.5,
         "y": 0.95
        },
        "width": 1100,
        "xaxis": {
         "anchor": "y",
         "domain": [
          0,
          1
         ],
         "title": {
          "text": "Time"
         }
        },
        "yaxis": {
         "anchor": "x",
         "domain": [
          0,
          1
         ],
         "title": {
          "text": "Watching"
         }
        }
       }
      }
     },
     "metadata": {},
     "output_type": "display_data"
    }
   ],
   "source": [
    "# Visualise the attendance dynamics\n",
    "linechart_26_04_2022 = px.line(data_frame=timetable_26_04_2022, x = 'Time', y='Watching_26_04_2022')\n",
    "linechart_26_04_2022.update_layout(\n",
    "        title=\"Number of Viewers on 26 April (Funds, Fintech & Financial Services)\",\n",
    "        title_x=0.5,\n",
    "        title_y=0.95,\n",
    "        width=1100,\n",
    "        height=400,\n",
    "        yaxis_title=\"Watching\"\n",
    "        )\n",
    "linechart_26_04_2022.show()"
   ]
  },
  {
   "cell_type": "code",
   "execution_count": 39,
   "metadata": {},
   "outputs": [],
   "source": [
    "# linechart_26_04_2022_file_name = (' - Attendees Line Chart 2022-04-26 - ' + timestamp)\n",
    "# pio.write_image(linechart_26_04_2022, (location_windows + linechart_26_04_2022_file_name + '.png'), format='png', width=1100, height=400)"
   ]
  },
  {
   "cell_type": "markdown",
   "metadata": {},
   "source": [
    "## Stats on 12.04.22 (Medical Devices, Biotech & Healthtech)"
   ]
  },
  {
   "cell_type": "code",
   "execution_count": 40,
   "metadata": {},
   "outputs": [
    {
     "name": "stdout",
     "output_type": "stream",
     "text": [
      "The first attendee joined at 2022-04-12 17:18:10\n",
      "The last attendee left at 2022-04-12 19:24:44\n"
     ]
    }
   ],
   "source": [
    "# Extracting dvisitors of this event and checking its start and end\n",
    "data_12_04_2022 = data[data['Event Date'] == '2022-04-12'].sort_values(by='Join Time', ignore_index=True)\n",
    "start_12_04_2022 = data_12_04_2022['Join Time'][0]\n",
    "print('The first attendee joined at ' + str(start_12_04_2022))\n",
    "\n",
    "data_12_04_2022 = data[data['Event Date'] == '2022-04-12'].sort_values(by='Leave Time', ignore_index=True, ascending=False)\n",
    "end_12_04_2022 = data_12_04_2022['Leave Time'][0]\n",
    "print('The last attendee left at ' + str(end_12_04_2022))"
   ]
  },
  {
   "cell_type": "code",
   "execution_count": 41,
   "metadata": {},
   "outputs": [],
   "source": [
    "# Set up a table with the time\n",
    "rng = pd.date_range(start_12_04_2022, end_12_04_2022, freq=\"min\")\n",
    "timetable_12_04_2022 = pd.DataFrame({ 'Time': rng, 'Watching_12_04_2022': 0 })\n",
    "# print(timetable_12_04_2022)"
   ]
  },
  {
   "cell_type": "code",
   "execution_count": 42,
   "metadata": {},
   "outputs": [],
   "source": [
    "# Count the number of viewers at each given minute\n",
    "def get_attendance_per_minute(time):\n",
    "    count = 0\n",
    "    for row in data_12_04_2022['Join Time']:\n",
    "        if time > row:\n",
    "            count += 1\n",
    "    for line in data_12_04_2022['Leave Time']:\n",
    "        if time > line:\n",
    "            count -= 1\n",
    "    return (count)\n",
    "\n",
    "timetable_12_04_2022['Watching_12_04_2022'] = timetable_12_04_2022['Time'].apply(get_attendance_per_minute)\n",
    "\n",
    "# display(timetable_12_04_2022)"
   ]
  },
  {
   "cell_type": "code",
   "execution_count": 43,
   "metadata": {},
   "outputs": [
    {
     "data": {
      "application/vnd.plotly.v1+json": {
       "config": {
        "plotlyServerURL": "https://plot.ly"
       },
       "data": [
        {
         "hovertemplate": "Time=%{x}<br>Watching_12_04_2022=%{y}<extra></extra>",
         "legendgroup": "",
         "line": {
          "color": "#636efa",
          "dash": "solid"
         },
         "marker": {
          "symbol": "circle"
         },
         "mode": "lines",
         "name": "",
         "orientation": "v",
         "showlegend": false,
         "type": "scatter",
         "x": [
          "2022-04-12T17:18:10",
          "2022-04-12T17:19:10",
          "2022-04-12T17:20:10",
          "2022-04-12T17:21:10",
          "2022-04-12T17:22:10",
          "2022-04-12T17:23:10",
          "2022-04-12T17:24:10",
          "2022-04-12T17:25:10",
          "2022-04-12T17:26:10",
          "2022-04-12T17:27:10",
          "2022-04-12T17:28:10",
          "2022-04-12T17:29:10",
          "2022-04-12T17:30:10",
          "2022-04-12T17:31:10",
          "2022-04-12T17:32:10",
          "2022-04-12T17:33:10",
          "2022-04-12T17:34:10",
          "2022-04-12T17:35:10",
          "2022-04-12T17:36:10",
          "2022-04-12T17:37:10",
          "2022-04-12T17:38:10",
          "2022-04-12T17:39:10",
          "2022-04-12T17:40:10",
          "2022-04-12T17:41:10",
          "2022-04-12T17:42:10",
          "2022-04-12T17:43:10",
          "2022-04-12T17:44:10",
          "2022-04-12T17:45:10",
          "2022-04-12T17:46:10",
          "2022-04-12T17:47:10",
          "2022-04-12T17:48:10",
          "2022-04-12T17:49:10",
          "2022-04-12T17:50:10",
          "2022-04-12T17:51:10",
          "2022-04-12T17:52:10",
          "2022-04-12T17:53:10",
          "2022-04-12T17:54:10",
          "2022-04-12T17:55:10",
          "2022-04-12T17:56:10",
          "2022-04-12T17:57:10",
          "2022-04-12T17:58:10",
          "2022-04-12T17:59:10",
          "2022-04-12T18:00:10",
          "2022-04-12T18:01:10",
          "2022-04-12T18:02:10",
          "2022-04-12T18:03:10",
          "2022-04-12T18:04:10",
          "2022-04-12T18:05:10",
          "2022-04-12T18:06:10",
          "2022-04-12T18:07:10",
          "2022-04-12T18:08:10",
          "2022-04-12T18:09:10",
          "2022-04-12T18:10:10",
          "2022-04-12T18:11:10",
          "2022-04-12T18:12:10",
          "2022-04-12T18:13:10",
          "2022-04-12T18:14:10",
          "2022-04-12T18:15:10",
          "2022-04-12T18:16:10",
          "2022-04-12T18:17:10",
          "2022-04-12T18:18:10",
          "2022-04-12T18:19:10",
          "2022-04-12T18:20:10",
          "2022-04-12T18:21:10",
          "2022-04-12T18:22:10",
          "2022-04-12T18:23:10",
          "2022-04-12T18:24:10",
          "2022-04-12T18:25:10",
          "2022-04-12T18:26:10",
          "2022-04-12T18:27:10",
          "2022-04-12T18:28:10",
          "2022-04-12T18:29:10",
          "2022-04-12T18:30:10",
          "2022-04-12T18:31:10",
          "2022-04-12T18:32:10",
          "2022-04-12T18:33:10",
          "2022-04-12T18:34:10",
          "2022-04-12T18:35:10",
          "2022-04-12T18:36:10",
          "2022-04-12T18:37:10",
          "2022-04-12T18:38:10",
          "2022-04-12T18:39:10",
          "2022-04-12T18:40:10",
          "2022-04-12T18:41:10",
          "2022-04-12T18:42:10",
          "2022-04-12T18:43:10",
          "2022-04-12T18:44:10",
          "2022-04-12T18:45:10",
          "2022-04-12T18:46:10",
          "2022-04-12T18:47:10",
          "2022-04-12T18:48:10",
          "2022-04-12T18:49:10",
          "2022-04-12T18:50:10",
          "2022-04-12T18:51:10",
          "2022-04-12T18:52:10",
          "2022-04-12T18:53:10",
          "2022-04-12T18:54:10",
          "2022-04-12T18:55:10",
          "2022-04-12T18:56:10",
          "2022-04-12T18:57:10",
          "2022-04-12T18:58:10",
          "2022-04-12T18:59:10",
          "2022-04-12T19:00:10",
          "2022-04-12T19:01:10",
          "2022-04-12T19:02:10",
          "2022-04-12T19:03:10",
          "2022-04-12T19:04:10",
          "2022-04-12T19:05:10",
          "2022-04-12T19:06:10",
          "2022-04-12T19:07:10",
          "2022-04-12T19:08:10",
          "2022-04-12T19:09:10",
          "2022-04-12T19:10:10",
          "2022-04-12T19:11:10",
          "2022-04-12T19:12:10",
          "2022-04-12T19:13:10",
          "2022-04-12T19:14:10",
          "2022-04-12T19:15:10",
          "2022-04-12T19:16:10",
          "2022-04-12T19:17:10",
          "2022-04-12T19:18:10",
          "2022-04-12T19:19:10",
          "2022-04-12T19:20:10",
          "2022-04-12T19:21:10",
          "2022-04-12T19:22:10",
          "2022-04-12T19:23:10",
          "2022-04-12T19:24:10"
         ],
         "xaxis": "x",
         "y": [
          0,
          1,
          2,
          2,
          2,
          3,
          3,
          3,
          3,
          6,
          8,
          10,
          12,
          13,
          16,
          17,
          19,
          19,
          20,
          20,
          21,
          23,
          23,
          25,
          25,
          25,
          25,
          25,
          26,
          26,
          26,
          27,
          27,
          27,
          27,
          27,
          28,
          28,
          28,
          28,
          28,
          27,
          27,
          27,
          27,
          27,
          27,
          26,
          26,
          26,
          26,
          26,
          26,
          26,
          26,
          25,
          24,
          24,
          24,
          24,
          23,
          23,
          23,
          22,
          21,
          21,
          20,
          20,
          20,
          20,
          20,
          20,
          20,
          20,
          21,
          21,
          21,
          20,
          20,
          19,
          19,
          19,
          19,
          19,
          19,
          19,
          19,
          19,
          18,
          18,
          18,
          18,
          18,
          18,
          18,
          18,
          17,
          17,
          17,
          15,
          15,
          14,
          14,
          13,
          13,
          13,
          12,
          11,
          11,
          11,
          11,
          11,
          11,
          11,
          11,
          11,
          11,
          11,
          11,
          11,
          11,
          11,
          10,
          6,
          5,
          1,
          1
         ],
         "yaxis": "y"
        }
       ],
       "layout": {
        "height": 400,
        "legend": {
         "tracegroupgap": 0
        },
        "margin": {
         "t": 60
        },
        "template": {
         "data": {
          "bar": [
           {
            "error_x": {
             "color": "#2a3f5f"
            },
            "error_y": {
             "color": "#2a3f5f"
            },
            "marker": {
             "line": {
              "color": "#E5ECF6",
              "width": 0.5
             },
             "pattern": {
              "fillmode": "overlay",
              "size": 10,
              "solidity": 0.2
             }
            },
            "type": "bar"
           }
          ],
          "barpolar": [
           {
            "marker": {
             "line": {
              "color": "#E5ECF6",
              "width": 0.5
             },
             "pattern": {
              "fillmode": "overlay",
              "size": 10,
              "solidity": 0.2
             }
            },
            "type": "barpolar"
           }
          ],
          "carpet": [
           {
            "aaxis": {
             "endlinecolor": "#2a3f5f",
             "gridcolor": "white",
             "linecolor": "white",
             "minorgridcolor": "white",
             "startlinecolor": "#2a3f5f"
            },
            "baxis": {
             "endlinecolor": "#2a3f5f",
             "gridcolor": "white",
             "linecolor": "white",
             "minorgridcolor": "white",
             "startlinecolor": "#2a3f5f"
            },
            "type": "carpet"
           }
          ],
          "choropleth": [
           {
            "colorbar": {
             "outlinewidth": 0,
             "ticks": ""
            },
            "type": "choropleth"
           }
          ],
          "contour": [
           {
            "colorbar": {
             "outlinewidth": 0,
             "ticks": ""
            },
            "colorscale": [
             [
              0,
              "#0d0887"
             ],
             [
              0.1111111111111111,
              "#46039f"
             ],
             [
              0.2222222222222222,
              "#7201a8"
             ],
             [
              0.3333333333333333,
              "#9c179e"
             ],
             [
              0.4444444444444444,
              "#bd3786"
             ],
             [
              0.5555555555555556,
              "#d8576b"
             ],
             [
              0.6666666666666666,
              "#ed7953"
             ],
             [
              0.7777777777777778,
              "#fb9f3a"
             ],
             [
              0.8888888888888888,
              "#fdca26"
             ],
             [
              1,
              "#f0f921"
             ]
            ],
            "type": "contour"
           }
          ],
          "contourcarpet": [
           {
            "colorbar": {
             "outlinewidth": 0,
             "ticks": ""
            },
            "type": "contourcarpet"
           }
          ],
          "heatmap": [
           {
            "colorbar": {
             "outlinewidth": 0,
             "ticks": ""
            },
            "colorscale": [
             [
              0,
              "#0d0887"
             ],
             [
              0.1111111111111111,
              "#46039f"
             ],
             [
              0.2222222222222222,
              "#7201a8"
             ],
             [
              0.3333333333333333,
              "#9c179e"
             ],
             [
              0.4444444444444444,
              "#bd3786"
             ],
             [
              0.5555555555555556,
              "#d8576b"
             ],
             [
              0.6666666666666666,
              "#ed7953"
             ],
             [
              0.7777777777777778,
              "#fb9f3a"
             ],
             [
              0.8888888888888888,
              "#fdca26"
             ],
             [
              1,
              "#f0f921"
             ]
            ],
            "type": "heatmap"
           }
          ],
          "heatmapgl": [
           {
            "colorbar": {
             "outlinewidth": 0,
             "ticks": ""
            },
            "colorscale": [
             [
              0,
              "#0d0887"
             ],
             [
              0.1111111111111111,
              "#46039f"
             ],
             [
              0.2222222222222222,
              "#7201a8"
             ],
             [
              0.3333333333333333,
              "#9c179e"
             ],
             [
              0.4444444444444444,
              "#bd3786"
             ],
             [
              0.5555555555555556,
              "#d8576b"
             ],
             [
              0.6666666666666666,
              "#ed7953"
             ],
             [
              0.7777777777777778,
              "#fb9f3a"
             ],
             [
              0.8888888888888888,
              "#fdca26"
             ],
             [
              1,
              "#f0f921"
             ]
            ],
            "type": "heatmapgl"
           }
          ],
          "histogram": [
           {
            "marker": {
             "pattern": {
              "fillmode": "overlay",
              "size": 10,
              "solidity": 0.2
             }
            },
            "type": "histogram"
           }
          ],
          "histogram2d": [
           {
            "colorbar": {
             "outlinewidth": 0,
             "ticks": ""
            },
            "colorscale": [
             [
              0,
              "#0d0887"
             ],
             [
              0.1111111111111111,
              "#46039f"
             ],
             [
              0.2222222222222222,
              "#7201a8"
             ],
             [
              0.3333333333333333,
              "#9c179e"
             ],
             [
              0.4444444444444444,
              "#bd3786"
             ],
             [
              0.5555555555555556,
              "#d8576b"
             ],
             [
              0.6666666666666666,
              "#ed7953"
             ],
             [
              0.7777777777777778,
              "#fb9f3a"
             ],
             [
              0.8888888888888888,
              "#fdca26"
             ],
             [
              1,
              "#f0f921"
             ]
            ],
            "type": "histogram2d"
           }
          ],
          "histogram2dcontour": [
           {
            "colorbar": {
             "outlinewidth": 0,
             "ticks": ""
            },
            "colorscale": [
             [
              0,
              "#0d0887"
             ],
             [
              0.1111111111111111,
              "#46039f"
             ],
             [
              0.2222222222222222,
              "#7201a8"
             ],
             [
              0.3333333333333333,
              "#9c179e"
             ],
             [
              0.4444444444444444,
              "#bd3786"
             ],
             [
              0.5555555555555556,
              "#d8576b"
             ],
             [
              0.6666666666666666,
              "#ed7953"
             ],
             [
              0.7777777777777778,
              "#fb9f3a"
             ],
             [
              0.8888888888888888,
              "#fdca26"
             ],
             [
              1,
              "#f0f921"
             ]
            ],
            "type": "histogram2dcontour"
           }
          ],
          "mesh3d": [
           {
            "colorbar": {
             "outlinewidth": 0,
             "ticks": ""
            },
            "type": "mesh3d"
           }
          ],
          "parcoords": [
           {
            "line": {
             "colorbar": {
              "outlinewidth": 0,
              "ticks": ""
             }
            },
            "type": "parcoords"
           }
          ],
          "pie": [
           {
            "automargin": true,
            "type": "pie"
           }
          ],
          "scatter": [
           {
            "marker": {
             "colorbar": {
              "outlinewidth": 0,
              "ticks": ""
             }
            },
            "type": "scatter"
           }
          ],
          "scatter3d": [
           {
            "line": {
             "colorbar": {
              "outlinewidth": 0,
              "ticks": ""
             }
            },
            "marker": {
             "colorbar": {
              "outlinewidth": 0,
              "ticks": ""
             }
            },
            "type": "scatter3d"
           }
          ],
          "scattercarpet": [
           {
            "marker": {
             "colorbar": {
              "outlinewidth": 0,
              "ticks": ""
             }
            },
            "type": "scattercarpet"
           }
          ],
          "scattergeo": [
           {
            "marker": {
             "colorbar": {
              "outlinewidth": 0,
              "ticks": ""
             }
            },
            "type": "scattergeo"
           }
          ],
          "scattergl": [
           {
            "marker": {
             "colorbar": {
              "outlinewidth": 0,
              "ticks": ""
             }
            },
            "type": "scattergl"
           }
          ],
          "scattermapbox": [
           {
            "marker": {
             "colorbar": {
              "outlinewidth": 0,
              "ticks": ""
             }
            },
            "type": "scattermapbox"
           }
          ],
          "scatterpolar": [
           {
            "marker": {
             "colorbar": {
              "outlinewidth": 0,
              "ticks": ""
             }
            },
            "type": "scatterpolar"
           }
          ],
          "scatterpolargl": [
           {
            "marker": {
             "colorbar": {
              "outlinewidth": 0,
              "ticks": ""
             }
            },
            "type": "scatterpolargl"
           }
          ],
          "scatterternary": [
           {
            "marker": {
             "colorbar": {
              "outlinewidth": 0,
              "ticks": ""
             }
            },
            "type": "scatterternary"
           }
          ],
          "surface": [
           {
            "colorbar": {
             "outlinewidth": 0,
             "ticks": ""
            },
            "colorscale": [
             [
              0,
              "#0d0887"
             ],
             [
              0.1111111111111111,
              "#46039f"
             ],
             [
              0.2222222222222222,
              "#7201a8"
             ],
             [
              0.3333333333333333,
              "#9c179e"
             ],
             [
              0.4444444444444444,
              "#bd3786"
             ],
             [
              0.5555555555555556,
              "#d8576b"
             ],
             [
              0.6666666666666666,
              "#ed7953"
             ],
             [
              0.7777777777777778,
              "#fb9f3a"
             ],
             [
              0.8888888888888888,
              "#fdca26"
             ],
             [
              1,
              "#f0f921"
             ]
            ],
            "type": "surface"
           }
          ],
          "table": [
           {
            "cells": {
             "fill": {
              "color": "#EBF0F8"
             },
             "line": {
              "color": "white"
             }
            },
            "header": {
             "fill": {
              "color": "#C8D4E3"
             },
             "line": {
              "color": "white"
             }
            },
            "type": "table"
           }
          ]
         },
         "layout": {
          "annotationdefaults": {
           "arrowcolor": "#2a3f5f",
           "arrowhead": 0,
           "arrowwidth": 1
          },
          "autotypenumbers": "strict",
          "coloraxis": {
           "colorbar": {
            "outlinewidth": 0,
            "ticks": ""
           }
          },
          "colorscale": {
           "diverging": [
            [
             0,
             "#8e0152"
            ],
            [
             0.1,
             "#c51b7d"
            ],
            [
             0.2,
             "#de77ae"
            ],
            [
             0.3,
             "#f1b6da"
            ],
            [
             0.4,
             "#fde0ef"
            ],
            [
             0.5,
             "#f7f7f7"
            ],
            [
             0.6,
             "#e6f5d0"
            ],
            [
             0.7,
             "#b8e186"
            ],
            [
             0.8,
             "#7fbc41"
            ],
            [
             0.9,
             "#4d9221"
            ],
            [
             1,
             "#276419"
            ]
           ],
           "sequential": [
            [
             0,
             "#0d0887"
            ],
            [
             0.1111111111111111,
             "#46039f"
            ],
            [
             0.2222222222222222,
             "#7201a8"
            ],
            [
             0.3333333333333333,
             "#9c179e"
            ],
            [
             0.4444444444444444,
             "#bd3786"
            ],
            [
             0.5555555555555556,
             "#d8576b"
            ],
            [
             0.6666666666666666,
             "#ed7953"
            ],
            [
             0.7777777777777778,
             "#fb9f3a"
            ],
            [
             0.8888888888888888,
             "#fdca26"
            ],
            [
             1,
             "#f0f921"
            ]
           ],
           "sequentialminus": [
            [
             0,
             "#0d0887"
            ],
            [
             0.1111111111111111,
             "#46039f"
            ],
            [
             0.2222222222222222,
             "#7201a8"
            ],
            [
             0.3333333333333333,
             "#9c179e"
            ],
            [
             0.4444444444444444,
             "#bd3786"
            ],
            [
             0.5555555555555556,
             "#d8576b"
            ],
            [
             0.6666666666666666,
             "#ed7953"
            ],
            [
             0.7777777777777778,
             "#fb9f3a"
            ],
            [
             0.8888888888888888,
             "#fdca26"
            ],
            [
             1,
             "#f0f921"
            ]
           ]
          },
          "colorway": [
           "#636efa",
           "#EF553B",
           "#00cc96",
           "#ab63fa",
           "#FFA15A",
           "#19d3f3",
           "#FF6692",
           "#B6E880",
           "#FF97FF",
           "#FECB52"
          ],
          "font": {
           "color": "#2a3f5f"
          },
          "geo": {
           "bgcolor": "white",
           "lakecolor": "white",
           "landcolor": "#E5ECF6",
           "showlakes": true,
           "showland": true,
           "subunitcolor": "white"
          },
          "hoverlabel": {
           "align": "left"
          },
          "hovermode": "closest",
          "mapbox": {
           "style": "light"
          },
          "paper_bgcolor": "white",
          "plot_bgcolor": "#E5ECF6",
          "polar": {
           "angularaxis": {
            "gridcolor": "white",
            "linecolor": "white",
            "ticks": ""
           },
           "bgcolor": "#E5ECF6",
           "radialaxis": {
            "gridcolor": "white",
            "linecolor": "white",
            "ticks": ""
           }
          },
          "scene": {
           "xaxis": {
            "backgroundcolor": "#E5ECF6",
            "gridcolor": "white",
            "gridwidth": 2,
            "linecolor": "white",
            "showbackground": true,
            "ticks": "",
            "zerolinecolor": "white"
           },
           "yaxis": {
            "backgroundcolor": "#E5ECF6",
            "gridcolor": "white",
            "gridwidth": 2,
            "linecolor": "white",
            "showbackground": true,
            "ticks": "",
            "zerolinecolor": "white"
           },
           "zaxis": {
            "backgroundcolor": "#E5ECF6",
            "gridcolor": "white",
            "gridwidth": 2,
            "linecolor": "white",
            "showbackground": true,
            "ticks": "",
            "zerolinecolor": "white"
           }
          },
          "shapedefaults": {
           "line": {
            "color": "#2a3f5f"
           }
          },
          "ternary": {
           "aaxis": {
            "gridcolor": "white",
            "linecolor": "white",
            "ticks": ""
           },
           "baxis": {
            "gridcolor": "white",
            "linecolor": "white",
            "ticks": ""
           },
           "bgcolor": "#E5ECF6",
           "caxis": {
            "gridcolor": "white",
            "linecolor": "white",
            "ticks": ""
           }
          },
          "title": {
           "x": 0.05
          },
          "xaxis": {
           "automargin": true,
           "gridcolor": "white",
           "linecolor": "white",
           "ticks": "",
           "title": {
            "standoff": 15
           },
           "zerolinecolor": "white",
           "zerolinewidth": 2
          },
          "yaxis": {
           "automargin": true,
           "gridcolor": "white",
           "linecolor": "white",
           "ticks": "",
           "title": {
            "standoff": 15
           },
           "zerolinecolor": "white",
           "zerolinewidth": 2
          }
         }
        },
        "title": {
         "text": "Number of Viewers on 12 April (Medical Devices, Biotech & Healthtech)",
         "x": 0.5,
         "y": 0.95
        },
        "width": 1100,
        "xaxis": {
         "anchor": "y",
         "domain": [
          0,
          1
         ],
         "title": {
          "text": "Time"
         }
        },
        "yaxis": {
         "anchor": "x",
         "domain": [
          0,
          1
         ],
         "title": {
          "text": "Watching"
         }
        }
       }
      }
     },
     "metadata": {},
     "output_type": "display_data"
    }
   ],
   "source": [
    "# Visualise the attendance dynamics\n",
    "linechart_12_04_2022 = px.line(data_frame=timetable_12_04_2022, x = 'Time', y='Watching_12_04_2022')\n",
    "linechart_12_04_2022.update_layout(\n",
    "        title=\"Number of Viewers on 12 April (Medical Devices, Biotech & Healthtech)\",\n",
    "        title_x=0.5,\n",
    "        title_y=0.95,\n",
    "        width=1100,\n",
    "        height=400,\n",
    "        yaxis_title=\"Watching\"\n",
    "        )\n",
    "linechart_12_04_2022.show()"
   ]
  },
  {
   "cell_type": "code",
   "execution_count": 44,
   "metadata": {},
   "outputs": [],
   "source": [
    "# linechart_12_04_2022_file_name = (' - Attendees Line Chart 2022-04-12 - ' + timestamp)\n",
    "# pio.write_image(linechart_12_04_2022, (location_windows + linechart_12_04_2022_file_name + '.png'), format='png', width=1100, height=400)"
   ]
  },
  {
   "cell_type": "markdown",
   "metadata": {},
   "source": [
    "## Stats on 5.04.22 (Renewables & ESG)"
   ]
  },
  {
   "cell_type": "code",
   "execution_count": 45,
   "metadata": {},
   "outputs": [
    {
     "name": "stdout",
     "output_type": "stream",
     "text": [
      "The first attendee joined at 2022-04-05 17:13:30\n",
      "The last attendee left at 2022-04-05 19:22:55\n"
     ]
    }
   ],
   "source": [
    "# Extracting dvisitors of this event and checking its start and end\n",
    "data_05_04_2022 = data[data['Event Date'] == '2022-04-05'].sort_values(by='Join Time', ignore_index=True)\n",
    "start_05_04_2022 = data_05_04_2022['Join Time'][0]\n",
    "print('The first attendee joined at ' + str(start_05_04_2022))\n",
    "\n",
    "data_05_04_2022 = data[data['Event Date'] == '2022-04-05'].sort_values(by='Leave Time', ignore_index=True, ascending=False)\n",
    "end_05_04_2022 = data_05_04_2022['Leave Time'][0]\n",
    "print('The last attendee left at ' + str(end_05_04_2022))"
   ]
  },
  {
   "cell_type": "code",
   "execution_count": 46,
   "metadata": {},
   "outputs": [],
   "source": [
    "# Set up a table with the time\n",
    "rng = pd.date_range(start_05_04_2022, end_05_04_2022, freq=\"min\")\n",
    "timetable_05_04_2022 = pd.DataFrame({ 'Time': rng, 'Watching_05_04_2022': 0 })\n",
    "# print(timetable_05_04_2022)"
   ]
  },
  {
   "cell_type": "code",
   "execution_count": 47,
   "metadata": {},
   "outputs": [],
   "source": [
    "# Count the number of viewers at each given minute\n",
    "def get_attendance_per_minute(time):\n",
    "    count = 0\n",
    "    for row in data_05_04_2022['Join Time']:\n",
    "        if time > row:\n",
    "            count += 1\n",
    "    for line in data_05_04_2022['Leave Time']:\n",
    "        if time > line:\n",
    "            count -= 1\n",
    "    return (count)\n",
    "\n",
    "timetable_05_04_2022['Watching_05_04_2022'] = timetable_05_04_2022['Time'].apply(get_attendance_per_minute)\n",
    "\n",
    "# display(timetable_05_04_2022)"
   ]
  },
  {
   "cell_type": "code",
   "execution_count": 48,
   "metadata": {},
   "outputs": [
    {
     "data": {
      "application/vnd.plotly.v1+json": {
       "config": {
        "plotlyServerURL": "https://plot.ly"
       },
       "data": [
        {
         "hovertemplate": "Time=%{x}<br>Watching_05_04_2022=%{y}<extra></extra>",
         "legendgroup": "",
         "line": {
          "color": "#636efa",
          "dash": "solid"
         },
         "marker": {
          "symbol": "circle"
         },
         "mode": "lines",
         "name": "",
         "orientation": "v",
         "showlegend": false,
         "type": "scatter",
         "x": [
          "2022-04-05T17:13:30",
          "2022-04-05T17:14:30",
          "2022-04-05T17:15:30",
          "2022-04-05T17:16:30",
          "2022-04-05T17:17:30",
          "2022-04-05T17:18:30",
          "2022-04-05T17:19:30",
          "2022-04-05T17:20:30",
          "2022-04-05T17:21:30",
          "2022-04-05T17:22:30",
          "2022-04-05T17:23:30",
          "2022-04-05T17:24:30",
          "2022-04-05T17:25:30",
          "2022-04-05T17:26:30",
          "2022-04-05T17:27:30",
          "2022-04-05T17:28:30",
          "2022-04-05T17:29:30",
          "2022-04-05T17:30:30",
          "2022-04-05T17:31:30",
          "2022-04-05T17:32:30",
          "2022-04-05T17:33:30",
          "2022-04-05T17:34:30",
          "2022-04-05T17:35:30",
          "2022-04-05T17:36:30",
          "2022-04-05T17:37:30",
          "2022-04-05T17:38:30",
          "2022-04-05T17:39:30",
          "2022-04-05T17:40:30",
          "2022-04-05T17:41:30",
          "2022-04-05T17:42:30",
          "2022-04-05T17:43:30",
          "2022-04-05T17:44:30",
          "2022-04-05T17:45:30",
          "2022-04-05T17:46:30",
          "2022-04-05T17:47:30",
          "2022-04-05T17:48:30",
          "2022-04-05T17:49:30",
          "2022-04-05T17:50:30",
          "2022-04-05T17:51:30",
          "2022-04-05T17:52:30",
          "2022-04-05T17:53:30",
          "2022-04-05T17:54:30",
          "2022-04-05T17:55:30",
          "2022-04-05T17:56:30",
          "2022-04-05T17:57:30",
          "2022-04-05T17:58:30",
          "2022-04-05T17:59:30",
          "2022-04-05T18:00:30",
          "2022-04-05T18:01:30",
          "2022-04-05T18:02:30",
          "2022-04-05T18:03:30",
          "2022-04-05T18:04:30",
          "2022-04-05T18:05:30",
          "2022-04-05T18:06:30",
          "2022-04-05T18:07:30",
          "2022-04-05T18:08:30",
          "2022-04-05T18:09:30",
          "2022-04-05T18:10:30",
          "2022-04-05T18:11:30",
          "2022-04-05T18:12:30",
          "2022-04-05T18:13:30",
          "2022-04-05T18:14:30",
          "2022-04-05T18:15:30",
          "2022-04-05T18:16:30",
          "2022-04-05T18:17:30",
          "2022-04-05T18:18:30",
          "2022-04-05T18:19:30",
          "2022-04-05T18:20:30",
          "2022-04-05T18:21:30",
          "2022-04-05T18:22:30",
          "2022-04-05T18:23:30",
          "2022-04-05T18:24:30",
          "2022-04-05T18:25:30",
          "2022-04-05T18:26:30",
          "2022-04-05T18:27:30",
          "2022-04-05T18:28:30",
          "2022-04-05T18:29:30",
          "2022-04-05T18:30:30",
          "2022-04-05T18:31:30",
          "2022-04-05T18:32:30",
          "2022-04-05T18:33:30",
          "2022-04-05T18:34:30",
          "2022-04-05T18:35:30",
          "2022-04-05T18:36:30",
          "2022-04-05T18:37:30",
          "2022-04-05T18:38:30",
          "2022-04-05T18:39:30",
          "2022-04-05T18:40:30",
          "2022-04-05T18:41:30",
          "2022-04-05T18:42:30",
          "2022-04-05T18:43:30",
          "2022-04-05T18:44:30",
          "2022-04-05T18:45:30",
          "2022-04-05T18:46:30",
          "2022-04-05T18:47:30",
          "2022-04-05T18:48:30",
          "2022-04-05T18:49:30",
          "2022-04-05T18:50:30",
          "2022-04-05T18:51:30",
          "2022-04-05T18:52:30",
          "2022-04-05T18:53:30",
          "2022-04-05T18:54:30",
          "2022-04-05T18:55:30",
          "2022-04-05T18:56:30",
          "2022-04-05T18:57:30",
          "2022-04-05T18:58:30",
          "2022-04-05T18:59:30",
          "2022-04-05T19:00:30",
          "2022-04-05T19:01:30",
          "2022-04-05T19:02:30",
          "2022-04-05T19:03:30",
          "2022-04-05T19:04:30",
          "2022-04-05T19:05:30",
          "2022-04-05T19:06:30",
          "2022-04-05T19:07:30",
          "2022-04-05T19:08:30",
          "2022-04-05T19:09:30",
          "2022-04-05T19:10:30",
          "2022-04-05T19:11:30",
          "2022-04-05T19:12:30",
          "2022-04-05T19:13:30",
          "2022-04-05T19:14:30",
          "2022-04-05T19:15:30",
          "2022-04-05T19:16:30",
          "2022-04-05T19:17:30",
          "2022-04-05T19:18:30",
          "2022-04-05T19:19:30",
          "2022-04-05T19:20:30",
          "2022-04-05T19:21:30",
          "2022-04-05T19:22:30"
         ],
         "xaxis": "x",
         "y": [
          0,
          0,
          0,
          0,
          1,
          0,
          0,
          0,
          0,
          1,
          3,
          3,
          4,
          4,
          5,
          5,
          6,
          10,
          11,
          14,
          14,
          19,
          19,
          19,
          19,
          19,
          21,
          21,
          22,
          23,
          24,
          23,
          23,
          24,
          24,
          24,
          24,
          24,
          25,
          25,
          25,
          25,
          25,
          28,
          27,
          25,
          25,
          25,
          25,
          26,
          25,
          25,
          23,
          22,
          22,
          22,
          23,
          22,
          22,
          23,
          23,
          24,
          23,
          23,
          23,
          22,
          22,
          22,
          22,
          22,
          22,
          22,
          22,
          23,
          23,
          23,
          23,
          22,
          22,
          22,
          22,
          22,
          22,
          22,
          22,
          22,
          23,
          23,
          23,
          23,
          23,
          23,
          23,
          23,
          22,
          22,
          22,
          22,
          22,
          22,
          22,
          22,
          22,
          22,
          22,
          21,
          20,
          20,
          19,
          19,
          18,
          18,
          16,
          16,
          16,
          16,
          16,
          15,
          14,
          14,
          14,
          14,
          14,
          14,
          14,
          14,
          12,
          11,
          1,
          1
         ],
         "yaxis": "y"
        }
       ],
       "layout": {
        "height": 400,
        "legend": {
         "tracegroupgap": 0
        },
        "margin": {
         "t": 60
        },
        "template": {
         "data": {
          "bar": [
           {
            "error_x": {
             "color": "#2a3f5f"
            },
            "error_y": {
             "color": "#2a3f5f"
            },
            "marker": {
             "line": {
              "color": "#E5ECF6",
              "width": 0.5
             },
             "pattern": {
              "fillmode": "overlay",
              "size": 10,
              "solidity": 0.2
             }
            },
            "type": "bar"
           }
          ],
          "barpolar": [
           {
            "marker": {
             "line": {
              "color": "#E5ECF6",
              "width": 0.5
             },
             "pattern": {
              "fillmode": "overlay",
              "size": 10,
              "solidity": 0.2
             }
            },
            "type": "barpolar"
           }
          ],
          "carpet": [
           {
            "aaxis": {
             "endlinecolor": "#2a3f5f",
             "gridcolor": "white",
             "linecolor": "white",
             "minorgridcolor": "white",
             "startlinecolor": "#2a3f5f"
            },
            "baxis": {
             "endlinecolor": "#2a3f5f",
             "gridcolor": "white",
             "linecolor": "white",
             "minorgridcolor": "white",
             "startlinecolor": "#2a3f5f"
            },
            "type": "carpet"
           }
          ],
          "choropleth": [
           {
            "colorbar": {
             "outlinewidth": 0,
             "ticks": ""
            },
            "type": "choropleth"
           }
          ],
          "contour": [
           {
            "colorbar": {
             "outlinewidth": 0,
             "ticks": ""
            },
            "colorscale": [
             [
              0,
              "#0d0887"
             ],
             [
              0.1111111111111111,
              "#46039f"
             ],
             [
              0.2222222222222222,
              "#7201a8"
             ],
             [
              0.3333333333333333,
              "#9c179e"
             ],
             [
              0.4444444444444444,
              "#bd3786"
             ],
             [
              0.5555555555555556,
              "#d8576b"
             ],
             [
              0.6666666666666666,
              "#ed7953"
             ],
             [
              0.7777777777777778,
              "#fb9f3a"
             ],
             [
              0.8888888888888888,
              "#fdca26"
             ],
             [
              1,
              "#f0f921"
             ]
            ],
            "type": "contour"
           }
          ],
          "contourcarpet": [
           {
            "colorbar": {
             "outlinewidth": 0,
             "ticks": ""
            },
            "type": "contourcarpet"
           }
          ],
          "heatmap": [
           {
            "colorbar": {
             "outlinewidth": 0,
             "ticks": ""
            },
            "colorscale": [
             [
              0,
              "#0d0887"
             ],
             [
              0.1111111111111111,
              "#46039f"
             ],
             [
              0.2222222222222222,
              "#7201a8"
             ],
             [
              0.3333333333333333,
              "#9c179e"
             ],
             [
              0.4444444444444444,
              "#bd3786"
             ],
             [
              0.5555555555555556,
              "#d8576b"
             ],
             [
              0.6666666666666666,
              "#ed7953"
             ],
             [
              0.7777777777777778,
              "#fb9f3a"
             ],
             [
              0.8888888888888888,
              "#fdca26"
             ],
             [
              1,
              "#f0f921"
             ]
            ],
            "type": "heatmap"
           }
          ],
          "heatmapgl": [
           {
            "colorbar": {
             "outlinewidth": 0,
             "ticks": ""
            },
            "colorscale": [
             [
              0,
              "#0d0887"
             ],
             [
              0.1111111111111111,
              "#46039f"
             ],
             [
              0.2222222222222222,
              "#7201a8"
             ],
             [
              0.3333333333333333,
              "#9c179e"
             ],
             [
              0.4444444444444444,
              "#bd3786"
             ],
             [
              0.5555555555555556,
              "#d8576b"
             ],
             [
              0.6666666666666666,
              "#ed7953"
             ],
             [
              0.7777777777777778,
              "#fb9f3a"
             ],
             [
              0.8888888888888888,
              "#fdca26"
             ],
             [
              1,
              "#f0f921"
             ]
            ],
            "type": "heatmapgl"
           }
          ],
          "histogram": [
           {
            "marker": {
             "pattern": {
              "fillmode": "overlay",
              "size": 10,
              "solidity": 0.2
             }
            },
            "type": "histogram"
           }
          ],
          "histogram2d": [
           {
            "colorbar": {
             "outlinewidth": 0,
             "ticks": ""
            },
            "colorscale": [
             [
              0,
              "#0d0887"
             ],
             [
              0.1111111111111111,
              "#46039f"
             ],
             [
              0.2222222222222222,
              "#7201a8"
             ],
             [
              0.3333333333333333,
              "#9c179e"
             ],
             [
              0.4444444444444444,
              "#bd3786"
             ],
             [
              0.5555555555555556,
              "#d8576b"
             ],
             [
              0.6666666666666666,
              "#ed7953"
             ],
             [
              0.7777777777777778,
              "#fb9f3a"
             ],
             [
              0.8888888888888888,
              "#fdca26"
             ],
             [
              1,
              "#f0f921"
             ]
            ],
            "type": "histogram2d"
           }
          ],
          "histogram2dcontour": [
           {
            "colorbar": {
             "outlinewidth": 0,
             "ticks": ""
            },
            "colorscale": [
             [
              0,
              "#0d0887"
             ],
             [
              0.1111111111111111,
              "#46039f"
             ],
             [
              0.2222222222222222,
              "#7201a8"
             ],
             [
              0.3333333333333333,
              "#9c179e"
             ],
             [
              0.4444444444444444,
              "#bd3786"
             ],
             [
              0.5555555555555556,
              "#d8576b"
             ],
             [
              0.6666666666666666,
              "#ed7953"
             ],
             [
              0.7777777777777778,
              "#fb9f3a"
             ],
             [
              0.8888888888888888,
              "#fdca26"
             ],
             [
              1,
              "#f0f921"
             ]
            ],
            "type": "histogram2dcontour"
           }
          ],
          "mesh3d": [
           {
            "colorbar": {
             "outlinewidth": 0,
             "ticks": ""
            },
            "type": "mesh3d"
           }
          ],
          "parcoords": [
           {
            "line": {
             "colorbar": {
              "outlinewidth": 0,
              "ticks": ""
             }
            },
            "type": "parcoords"
           }
          ],
          "pie": [
           {
            "automargin": true,
            "type": "pie"
           }
          ],
          "scatter": [
           {
            "marker": {
             "colorbar": {
              "outlinewidth": 0,
              "ticks": ""
             }
            },
            "type": "scatter"
           }
          ],
          "scatter3d": [
           {
            "line": {
             "colorbar": {
              "outlinewidth": 0,
              "ticks": ""
             }
            },
            "marker": {
             "colorbar": {
              "outlinewidth": 0,
              "ticks": ""
             }
            },
            "type": "scatter3d"
           }
          ],
          "scattercarpet": [
           {
            "marker": {
             "colorbar": {
              "outlinewidth": 0,
              "ticks": ""
             }
            },
            "type": "scattercarpet"
           }
          ],
          "scattergeo": [
           {
            "marker": {
             "colorbar": {
              "outlinewidth": 0,
              "ticks": ""
             }
            },
            "type": "scattergeo"
           }
          ],
          "scattergl": [
           {
            "marker": {
             "colorbar": {
              "outlinewidth": 0,
              "ticks": ""
             }
            },
            "type": "scattergl"
           }
          ],
          "scattermapbox": [
           {
            "marker": {
             "colorbar": {
              "outlinewidth": 0,
              "ticks": ""
             }
            },
            "type": "scattermapbox"
           }
          ],
          "scatterpolar": [
           {
            "marker": {
             "colorbar": {
              "outlinewidth": 0,
              "ticks": ""
             }
            },
            "type": "scatterpolar"
           }
          ],
          "scatterpolargl": [
           {
            "marker": {
             "colorbar": {
              "outlinewidth": 0,
              "ticks": ""
             }
            },
            "type": "scatterpolargl"
           }
          ],
          "scatterternary": [
           {
            "marker": {
             "colorbar": {
              "outlinewidth": 0,
              "ticks": ""
             }
            },
            "type": "scatterternary"
           }
          ],
          "surface": [
           {
            "colorbar": {
             "outlinewidth": 0,
             "ticks": ""
            },
            "colorscale": [
             [
              0,
              "#0d0887"
             ],
             [
              0.1111111111111111,
              "#46039f"
             ],
             [
              0.2222222222222222,
              "#7201a8"
             ],
             [
              0.3333333333333333,
              "#9c179e"
             ],
             [
              0.4444444444444444,
              "#bd3786"
             ],
             [
              0.5555555555555556,
              "#d8576b"
             ],
             [
              0.6666666666666666,
              "#ed7953"
             ],
             [
              0.7777777777777778,
              "#fb9f3a"
             ],
             [
              0.8888888888888888,
              "#fdca26"
             ],
             [
              1,
              "#f0f921"
             ]
            ],
            "type": "surface"
           }
          ],
          "table": [
           {
            "cells": {
             "fill": {
              "color": "#EBF0F8"
             },
             "line": {
              "color": "white"
             }
            },
            "header": {
             "fill": {
              "color": "#C8D4E3"
             },
             "line": {
              "color": "white"
             }
            },
            "type": "table"
           }
          ]
         },
         "layout": {
          "annotationdefaults": {
           "arrowcolor": "#2a3f5f",
           "arrowhead": 0,
           "arrowwidth": 1
          },
          "autotypenumbers": "strict",
          "coloraxis": {
           "colorbar": {
            "outlinewidth": 0,
            "ticks": ""
           }
          },
          "colorscale": {
           "diverging": [
            [
             0,
             "#8e0152"
            ],
            [
             0.1,
             "#c51b7d"
            ],
            [
             0.2,
             "#de77ae"
            ],
            [
             0.3,
             "#f1b6da"
            ],
            [
             0.4,
             "#fde0ef"
            ],
            [
             0.5,
             "#f7f7f7"
            ],
            [
             0.6,
             "#e6f5d0"
            ],
            [
             0.7,
             "#b8e186"
            ],
            [
             0.8,
             "#7fbc41"
            ],
            [
             0.9,
             "#4d9221"
            ],
            [
             1,
             "#276419"
            ]
           ],
           "sequential": [
            [
             0,
             "#0d0887"
            ],
            [
             0.1111111111111111,
             "#46039f"
            ],
            [
             0.2222222222222222,
             "#7201a8"
            ],
            [
             0.3333333333333333,
             "#9c179e"
            ],
            [
             0.4444444444444444,
             "#bd3786"
            ],
            [
             0.5555555555555556,
             "#d8576b"
            ],
            [
             0.6666666666666666,
             "#ed7953"
            ],
            [
             0.7777777777777778,
             "#fb9f3a"
            ],
            [
             0.8888888888888888,
             "#fdca26"
            ],
            [
             1,
             "#f0f921"
            ]
           ],
           "sequentialminus": [
            [
             0,
             "#0d0887"
            ],
            [
             0.1111111111111111,
             "#46039f"
            ],
            [
             0.2222222222222222,
             "#7201a8"
            ],
            [
             0.3333333333333333,
             "#9c179e"
            ],
            [
             0.4444444444444444,
             "#bd3786"
            ],
            [
             0.5555555555555556,
             "#d8576b"
            ],
            [
             0.6666666666666666,
             "#ed7953"
            ],
            [
             0.7777777777777778,
             "#fb9f3a"
            ],
            [
             0.8888888888888888,
             "#fdca26"
            ],
            [
             1,
             "#f0f921"
            ]
           ]
          },
          "colorway": [
           "#636efa",
           "#EF553B",
           "#00cc96",
           "#ab63fa",
           "#FFA15A",
           "#19d3f3",
           "#FF6692",
           "#B6E880",
           "#FF97FF",
           "#FECB52"
          ],
          "font": {
           "color": "#2a3f5f"
          },
          "geo": {
           "bgcolor": "white",
           "lakecolor": "white",
           "landcolor": "#E5ECF6",
           "showlakes": true,
           "showland": true,
           "subunitcolor": "white"
          },
          "hoverlabel": {
           "align": "left"
          },
          "hovermode": "closest",
          "mapbox": {
           "style": "light"
          },
          "paper_bgcolor": "white",
          "plot_bgcolor": "#E5ECF6",
          "polar": {
           "angularaxis": {
            "gridcolor": "white",
            "linecolor": "white",
            "ticks": ""
           },
           "bgcolor": "#E5ECF6",
           "radialaxis": {
            "gridcolor": "white",
            "linecolor": "white",
            "ticks": ""
           }
          },
          "scene": {
           "xaxis": {
            "backgroundcolor": "#E5ECF6",
            "gridcolor": "white",
            "gridwidth": 2,
            "linecolor": "white",
            "showbackground": true,
            "ticks": "",
            "zerolinecolor": "white"
           },
           "yaxis": {
            "backgroundcolor": "#E5ECF6",
            "gridcolor": "white",
            "gridwidth": 2,
            "linecolor": "white",
            "showbackground": true,
            "ticks": "",
            "zerolinecolor": "white"
           },
           "zaxis": {
            "backgroundcolor": "#E5ECF6",
            "gridcolor": "white",
            "gridwidth": 2,
            "linecolor": "white",
            "showbackground": true,
            "ticks": "",
            "zerolinecolor": "white"
           }
          },
          "shapedefaults": {
           "line": {
            "color": "#2a3f5f"
           }
          },
          "ternary": {
           "aaxis": {
            "gridcolor": "white",
            "linecolor": "white",
            "ticks": ""
           },
           "baxis": {
            "gridcolor": "white",
            "linecolor": "white",
            "ticks": ""
           },
           "bgcolor": "#E5ECF6",
           "caxis": {
            "gridcolor": "white",
            "linecolor": "white",
            "ticks": ""
           }
          },
          "title": {
           "x": 0.05
          },
          "xaxis": {
           "automargin": true,
           "gridcolor": "white",
           "linecolor": "white",
           "ticks": "",
           "title": {
            "standoff": 15
           },
           "zerolinecolor": "white",
           "zerolinewidth": 2
          },
          "yaxis": {
           "automargin": true,
           "gridcolor": "white",
           "linecolor": "white",
           "ticks": "",
           "title": {
            "standoff": 15
           },
           "zerolinecolor": "white",
           "zerolinewidth": 2
          }
         }
        },
        "title": {
         "text": "Number of Viewers on 5 April (Renewables & ESG)",
         "x": 0.5,
         "y": 0.95
        },
        "width": 1100,
        "xaxis": {
         "anchor": "y",
         "domain": [
          0,
          1
         ],
         "title": {
          "text": "Time"
         }
        },
        "yaxis": {
         "anchor": "x",
         "domain": [
          0,
          1
         ],
         "title": {
          "text": "Watching"
         }
        }
       }
      }
     },
     "metadata": {},
     "output_type": "display_data"
    }
   ],
   "source": [
    "# Visualise the attendance dynamics\n",
    "linechart_05_04_2022 = px.line(data_frame=timetable_05_04_2022, x = 'Time', y='Watching_05_04_2022')\n",
    "linechart_05_04_2022.update_layout(\n",
    "        title=\"Number of Viewers on 5 April (Renewables & ESG)\",\n",
    "        title_x=0.5,\n",
    "        title_y=0.95,\n",
    "        width=1100,\n",
    "        height=400,\n",
    "        yaxis_title=\"Watching\"\n",
    "        )\n",
    "linechart_05_04_2022.show()"
   ]
  },
  {
   "cell_type": "code",
   "execution_count": 49,
   "metadata": {},
   "outputs": [],
   "source": [
    "# linechart_05_04_2022_file_name = (' - Attendees Line Chart 2022-04-05 - ' + timestamp)\n",
    "# pio.write_image(linechart_05_04_2022, (location_windows + linechart_05_04_2022_file_name + '.png'), format='png', width=1100, height=400)"
   ]
  },
  {
   "cell_type": "markdown",
   "metadata": {},
   "source": [
    "## Stats on 24.05.22 (Funds, Fintech & Financial Services - 2)"
   ]
  },
  {
   "cell_type": "code",
   "execution_count": 50,
   "metadata": {},
   "outputs": [
    {
     "name": "stdout",
     "output_type": "stream",
     "text": [
      "The first attendee joined at 2022-05-24 17:35:06\n",
      "The last attendee left at 2022-05-24 18:56:33\n"
     ]
    }
   ],
   "source": [
    "# Extracting dvisitors of this event and checking its start and end\n",
    "data_24_05_2022 = data[data['Event Date'] == '2022-05-24'].sort_values(by='Join Time', ignore_index=True)\n",
    "start_24_05_2022 = data_24_05_2022['Join Time'][0]\n",
    "print('The first attendee joined at ' + str(start_24_05_2022))\n",
    "\n",
    "data_24_05_2022 = data[data['Event Date'] == '2022-05-24'].sort_values(by='Leave Time', ignore_index=True, ascending=False)\n",
    "end_24_05_2022 = data_24_05_2022['Leave Time'][3]\n",
    "print('The last attendee left at ' + str(end_24_05_2022))"
   ]
  },
  {
   "cell_type": "code",
   "execution_count": 51,
   "metadata": {},
   "outputs": [],
   "source": [
    "# Set up a table with the time\n",
    "rng = pd.date_range(start_24_05_2022, end_24_05_2022, freq=\"min\")\n",
    "timetable_24_05_2022 = pd.DataFrame({ 'Time': rng, 'Watching_24_05_2022': 0 })\n",
    "# print(timetable_24_05_2022)"
   ]
  },
  {
   "cell_type": "code",
   "execution_count": 52,
   "metadata": {},
   "outputs": [],
   "source": [
    "# Count the number of viewers at each given minute\n",
    "def get_attendance_per_minute(time):\n",
    "    count = 0\n",
    "    for row in data_24_05_2022['Join Time']:\n",
    "        if time > row:\n",
    "            count += 1\n",
    "    for line in data_24_05_2022['Leave Time']:\n",
    "        if time > line:\n",
    "            count -= 1\n",
    "    return (count)\n",
    "\n",
    "timetable_24_05_2022['Watching_24_05_2022'] = timetable_24_05_2022['Time'].apply(get_attendance_per_minute)\n",
    "\n",
    "# display(timetable_24_05_2022)"
   ]
  },
  {
   "cell_type": "code",
   "execution_count": 53,
   "metadata": {},
   "outputs": [
    {
     "data": {
      "application/vnd.plotly.v1+json": {
       "config": {
        "plotlyServerURL": "https://plot.ly"
       },
       "data": [
        {
         "hovertemplate": "Time=%{x}<br>Watching_24_05_2022=%{y}<extra></extra>",
         "legendgroup": "",
         "line": {
          "color": "#636efa",
          "dash": "solid"
         },
         "marker": {
          "symbol": "circle"
         },
         "mode": "lines",
         "name": "",
         "orientation": "v",
         "showlegend": false,
         "type": "scatter",
         "x": [
          "2022-05-24T17:35:06",
          "2022-05-24T17:36:06",
          "2022-05-24T17:37:06",
          "2022-05-24T17:38:06",
          "2022-05-24T17:39:06",
          "2022-05-24T17:40:06",
          "2022-05-24T17:41:06",
          "2022-05-24T17:42:06",
          "2022-05-24T17:43:06",
          "2022-05-24T17:44:06",
          "2022-05-24T17:45:06",
          "2022-05-24T17:46:06",
          "2022-05-24T17:47:06",
          "2022-05-24T17:48:06",
          "2022-05-24T17:49:06",
          "2022-05-24T17:50:06",
          "2022-05-24T17:51:06",
          "2022-05-24T17:52:06",
          "2022-05-24T17:53:06",
          "2022-05-24T17:54:06",
          "2022-05-24T17:55:06",
          "2022-05-24T17:56:06",
          "2022-05-24T17:57:06",
          "2022-05-24T17:58:06",
          "2022-05-24T17:59:06",
          "2022-05-24T18:00:06",
          "2022-05-24T18:01:06",
          "2022-05-24T18:02:06",
          "2022-05-24T18:03:06",
          "2022-05-24T18:04:06",
          "2022-05-24T18:05:06",
          "2022-05-24T18:06:06",
          "2022-05-24T18:07:06",
          "2022-05-24T18:08:06",
          "2022-05-24T18:09:06",
          "2022-05-24T18:10:06",
          "2022-05-24T18:11:06",
          "2022-05-24T18:12:06",
          "2022-05-24T18:13:06",
          "2022-05-24T18:14:06",
          "2022-05-24T18:15:06",
          "2022-05-24T18:16:06",
          "2022-05-24T18:17:06",
          "2022-05-24T18:18:06",
          "2022-05-24T18:19:06",
          "2022-05-24T18:20:06",
          "2022-05-24T18:21:06",
          "2022-05-24T18:22:06",
          "2022-05-24T18:23:06",
          "2022-05-24T18:24:06",
          "2022-05-24T18:25:06",
          "2022-05-24T18:26:06",
          "2022-05-24T18:27:06",
          "2022-05-24T18:28:06",
          "2022-05-24T18:29:06",
          "2022-05-24T18:30:06",
          "2022-05-24T18:31:06",
          "2022-05-24T18:32:06",
          "2022-05-24T18:33:06",
          "2022-05-24T18:34:06",
          "2022-05-24T18:35:06",
          "2022-05-24T18:36:06",
          "2022-05-24T18:37:06",
          "2022-05-24T18:38:06",
          "2022-05-24T18:39:06",
          "2022-05-24T18:40:06",
          "2022-05-24T18:41:06",
          "2022-05-24T18:42:06",
          "2022-05-24T18:43:06",
          "2022-05-24T18:44:06",
          "2022-05-24T18:45:06",
          "2022-05-24T18:46:06",
          "2022-05-24T18:47:06",
          "2022-05-24T18:48:06",
          "2022-05-24T18:49:06",
          "2022-05-24T18:50:06",
          "2022-05-24T18:51:06",
          "2022-05-24T18:52:06",
          "2022-05-24T18:53:06",
          "2022-05-24T18:54:06",
          "2022-05-24T18:55:06",
          "2022-05-24T18:56:06"
         ],
         "xaxis": "x",
         "y": [
          0,
          9,
          9,
          9,
          10,
          12,
          12,
          12,
          13,
          13,
          13,
          13,
          13,
          13,
          13,
          14,
          14,
          14,
          14,
          14,
          13,
          13,
          13,
          13,
          13,
          13,
          13,
          13,
          13,
          13,
          14,
          14,
          13,
          13,
          12,
          12,
          12,
          13,
          12,
          12,
          12,
          13,
          13,
          13,
          13,
          13,
          13,
          13,
          13,
          12,
          12,
          12,
          12,
          12,
          12,
          12,
          12,
          12,
          12,
          12,
          12,
          12,
          12,
          12,
          12,
          12,
          12,
          11,
          11,
          11,
          11,
          10,
          9,
          9,
          9,
          9,
          8,
          8,
          7,
          7,
          7,
          6
         ],
         "yaxis": "y"
        }
       ],
       "layout": {
        "height": 400,
        "legend": {
         "tracegroupgap": 0
        },
        "margin": {
         "t": 60
        },
        "template": {
         "data": {
          "bar": [
           {
            "error_x": {
             "color": "#2a3f5f"
            },
            "error_y": {
             "color": "#2a3f5f"
            },
            "marker": {
             "line": {
              "color": "#E5ECF6",
              "width": 0.5
             },
             "pattern": {
              "fillmode": "overlay",
              "size": 10,
              "solidity": 0.2
             }
            },
            "type": "bar"
           }
          ],
          "barpolar": [
           {
            "marker": {
             "line": {
              "color": "#E5ECF6",
              "width": 0.5
             },
             "pattern": {
              "fillmode": "overlay",
              "size": 10,
              "solidity": 0.2
             }
            },
            "type": "barpolar"
           }
          ],
          "carpet": [
           {
            "aaxis": {
             "endlinecolor": "#2a3f5f",
             "gridcolor": "white",
             "linecolor": "white",
             "minorgridcolor": "white",
             "startlinecolor": "#2a3f5f"
            },
            "baxis": {
             "endlinecolor": "#2a3f5f",
             "gridcolor": "white",
             "linecolor": "white",
             "minorgridcolor": "white",
             "startlinecolor": "#2a3f5f"
            },
            "type": "carpet"
           }
          ],
          "choropleth": [
           {
            "colorbar": {
             "outlinewidth": 0,
             "ticks": ""
            },
            "type": "choropleth"
           }
          ],
          "contour": [
           {
            "colorbar": {
             "outlinewidth": 0,
             "ticks": ""
            },
            "colorscale": [
             [
              0,
              "#0d0887"
             ],
             [
              0.1111111111111111,
              "#46039f"
             ],
             [
              0.2222222222222222,
              "#7201a8"
             ],
             [
              0.3333333333333333,
              "#9c179e"
             ],
             [
              0.4444444444444444,
              "#bd3786"
             ],
             [
              0.5555555555555556,
              "#d8576b"
             ],
             [
              0.6666666666666666,
              "#ed7953"
             ],
             [
              0.7777777777777778,
              "#fb9f3a"
             ],
             [
              0.8888888888888888,
              "#fdca26"
             ],
             [
              1,
              "#f0f921"
             ]
            ],
            "type": "contour"
           }
          ],
          "contourcarpet": [
           {
            "colorbar": {
             "outlinewidth": 0,
             "ticks": ""
            },
            "type": "contourcarpet"
           }
          ],
          "heatmap": [
           {
            "colorbar": {
             "outlinewidth": 0,
             "ticks": ""
            },
            "colorscale": [
             [
              0,
              "#0d0887"
             ],
             [
              0.1111111111111111,
              "#46039f"
             ],
             [
              0.2222222222222222,
              "#7201a8"
             ],
             [
              0.3333333333333333,
              "#9c179e"
             ],
             [
              0.4444444444444444,
              "#bd3786"
             ],
             [
              0.5555555555555556,
              "#d8576b"
             ],
             [
              0.6666666666666666,
              "#ed7953"
             ],
             [
              0.7777777777777778,
              "#fb9f3a"
             ],
             [
              0.8888888888888888,
              "#fdca26"
             ],
             [
              1,
              "#f0f921"
             ]
            ],
            "type": "heatmap"
           }
          ],
          "heatmapgl": [
           {
            "colorbar": {
             "outlinewidth": 0,
             "ticks": ""
            },
            "colorscale": [
             [
              0,
              "#0d0887"
             ],
             [
              0.1111111111111111,
              "#46039f"
             ],
             [
              0.2222222222222222,
              "#7201a8"
             ],
             [
              0.3333333333333333,
              "#9c179e"
             ],
             [
              0.4444444444444444,
              "#bd3786"
             ],
             [
              0.5555555555555556,
              "#d8576b"
             ],
             [
              0.6666666666666666,
              "#ed7953"
             ],
             [
              0.7777777777777778,
              "#fb9f3a"
             ],
             [
              0.8888888888888888,
              "#fdca26"
             ],
             [
              1,
              "#f0f921"
             ]
            ],
            "type": "heatmapgl"
           }
          ],
          "histogram": [
           {
            "marker": {
             "pattern": {
              "fillmode": "overlay",
              "size": 10,
              "solidity": 0.2
             }
            },
            "type": "histogram"
           }
          ],
          "histogram2d": [
           {
            "colorbar": {
             "outlinewidth": 0,
             "ticks": ""
            },
            "colorscale": [
             [
              0,
              "#0d0887"
             ],
             [
              0.1111111111111111,
              "#46039f"
             ],
             [
              0.2222222222222222,
              "#7201a8"
             ],
             [
              0.3333333333333333,
              "#9c179e"
             ],
             [
              0.4444444444444444,
              "#bd3786"
             ],
             [
              0.5555555555555556,
              "#d8576b"
             ],
             [
              0.6666666666666666,
              "#ed7953"
             ],
             [
              0.7777777777777778,
              "#fb9f3a"
             ],
             [
              0.8888888888888888,
              "#fdca26"
             ],
             [
              1,
              "#f0f921"
             ]
            ],
            "type": "histogram2d"
           }
          ],
          "histogram2dcontour": [
           {
            "colorbar": {
             "outlinewidth": 0,
             "ticks": ""
            },
            "colorscale": [
             [
              0,
              "#0d0887"
             ],
             [
              0.1111111111111111,
              "#46039f"
             ],
             [
              0.2222222222222222,
              "#7201a8"
             ],
             [
              0.3333333333333333,
              "#9c179e"
             ],
             [
              0.4444444444444444,
              "#bd3786"
             ],
             [
              0.5555555555555556,
              "#d8576b"
             ],
             [
              0.6666666666666666,
              "#ed7953"
             ],
             [
              0.7777777777777778,
              "#fb9f3a"
             ],
             [
              0.8888888888888888,
              "#fdca26"
             ],
             [
              1,
              "#f0f921"
             ]
            ],
            "type": "histogram2dcontour"
           }
          ],
          "mesh3d": [
           {
            "colorbar": {
             "outlinewidth": 0,
             "ticks": ""
            },
            "type": "mesh3d"
           }
          ],
          "parcoords": [
           {
            "line": {
             "colorbar": {
              "outlinewidth": 0,
              "ticks": ""
             }
            },
            "type": "parcoords"
           }
          ],
          "pie": [
           {
            "automargin": true,
            "type": "pie"
           }
          ],
          "scatter": [
           {
            "marker": {
             "colorbar": {
              "outlinewidth": 0,
              "ticks": ""
             }
            },
            "type": "scatter"
           }
          ],
          "scatter3d": [
           {
            "line": {
             "colorbar": {
              "outlinewidth": 0,
              "ticks": ""
             }
            },
            "marker": {
             "colorbar": {
              "outlinewidth": 0,
              "ticks": ""
             }
            },
            "type": "scatter3d"
           }
          ],
          "scattercarpet": [
           {
            "marker": {
             "colorbar": {
              "outlinewidth": 0,
              "ticks": ""
             }
            },
            "type": "scattercarpet"
           }
          ],
          "scattergeo": [
           {
            "marker": {
             "colorbar": {
              "outlinewidth": 0,
              "ticks": ""
             }
            },
            "type": "scattergeo"
           }
          ],
          "scattergl": [
           {
            "marker": {
             "colorbar": {
              "outlinewidth": 0,
              "ticks": ""
             }
            },
            "type": "scattergl"
           }
          ],
          "scattermapbox": [
           {
            "marker": {
             "colorbar": {
              "outlinewidth": 0,
              "ticks": ""
             }
            },
            "type": "scattermapbox"
           }
          ],
          "scatterpolar": [
           {
            "marker": {
             "colorbar": {
              "outlinewidth": 0,
              "ticks": ""
             }
            },
            "type": "scatterpolar"
           }
          ],
          "scatterpolargl": [
           {
            "marker": {
             "colorbar": {
              "outlinewidth": 0,
              "ticks": ""
             }
            },
            "type": "scatterpolargl"
           }
          ],
          "scatterternary": [
           {
            "marker": {
             "colorbar": {
              "outlinewidth": 0,
              "ticks": ""
             }
            },
            "type": "scatterternary"
           }
          ],
          "surface": [
           {
            "colorbar": {
             "outlinewidth": 0,
             "ticks": ""
            },
            "colorscale": [
             [
              0,
              "#0d0887"
             ],
             [
              0.1111111111111111,
              "#46039f"
             ],
             [
              0.2222222222222222,
              "#7201a8"
             ],
             [
              0.3333333333333333,
              "#9c179e"
             ],
             [
              0.4444444444444444,
              "#bd3786"
             ],
             [
              0.5555555555555556,
              "#d8576b"
             ],
             [
              0.6666666666666666,
              "#ed7953"
             ],
             [
              0.7777777777777778,
              "#fb9f3a"
             ],
             [
              0.8888888888888888,
              "#fdca26"
             ],
             [
              1,
              "#f0f921"
             ]
            ],
            "type": "surface"
           }
          ],
          "table": [
           {
            "cells": {
             "fill": {
              "color": "#EBF0F8"
             },
             "line": {
              "color": "white"
             }
            },
            "header": {
             "fill": {
              "color": "#C8D4E3"
             },
             "line": {
              "color": "white"
             }
            },
            "type": "table"
           }
          ]
         },
         "layout": {
          "annotationdefaults": {
           "arrowcolor": "#2a3f5f",
           "arrowhead": 0,
           "arrowwidth": 1
          },
          "autotypenumbers": "strict",
          "coloraxis": {
           "colorbar": {
            "outlinewidth": 0,
            "ticks": ""
           }
          },
          "colorscale": {
           "diverging": [
            [
             0,
             "#8e0152"
            ],
            [
             0.1,
             "#c51b7d"
            ],
            [
             0.2,
             "#de77ae"
            ],
            [
             0.3,
             "#f1b6da"
            ],
            [
             0.4,
             "#fde0ef"
            ],
            [
             0.5,
             "#f7f7f7"
            ],
            [
             0.6,
             "#e6f5d0"
            ],
            [
             0.7,
             "#b8e186"
            ],
            [
             0.8,
             "#7fbc41"
            ],
            [
             0.9,
             "#4d9221"
            ],
            [
             1,
             "#276419"
            ]
           ],
           "sequential": [
            [
             0,
             "#0d0887"
            ],
            [
             0.1111111111111111,
             "#46039f"
            ],
            [
             0.2222222222222222,
             "#7201a8"
            ],
            [
             0.3333333333333333,
             "#9c179e"
            ],
            [
             0.4444444444444444,
             "#bd3786"
            ],
            [
             0.5555555555555556,
             "#d8576b"
            ],
            [
             0.6666666666666666,
             "#ed7953"
            ],
            [
             0.7777777777777778,
             "#fb9f3a"
            ],
            [
             0.8888888888888888,
             "#fdca26"
            ],
            [
             1,
             "#f0f921"
            ]
           ],
           "sequentialminus": [
            [
             0,
             "#0d0887"
            ],
            [
             0.1111111111111111,
             "#46039f"
            ],
            [
             0.2222222222222222,
             "#7201a8"
            ],
            [
             0.3333333333333333,
             "#9c179e"
            ],
            [
             0.4444444444444444,
             "#bd3786"
            ],
            [
             0.5555555555555556,
             "#d8576b"
            ],
            [
             0.6666666666666666,
             "#ed7953"
            ],
            [
             0.7777777777777778,
             "#fb9f3a"
            ],
            [
             0.8888888888888888,
             "#fdca26"
            ],
            [
             1,
             "#f0f921"
            ]
           ]
          },
          "colorway": [
           "#636efa",
           "#EF553B",
           "#00cc96",
           "#ab63fa",
           "#FFA15A",
           "#19d3f3",
           "#FF6692",
           "#B6E880",
           "#FF97FF",
           "#FECB52"
          ],
          "font": {
           "color": "#2a3f5f"
          },
          "geo": {
           "bgcolor": "white",
           "lakecolor": "white",
           "landcolor": "#E5ECF6",
           "showlakes": true,
           "showland": true,
           "subunitcolor": "white"
          },
          "hoverlabel": {
           "align": "left"
          },
          "hovermode": "closest",
          "mapbox": {
           "style": "light"
          },
          "paper_bgcolor": "white",
          "plot_bgcolor": "#E5ECF6",
          "polar": {
           "angularaxis": {
            "gridcolor": "white",
            "linecolor": "white",
            "ticks": ""
           },
           "bgcolor": "#E5ECF6",
           "radialaxis": {
            "gridcolor": "white",
            "linecolor": "white",
            "ticks": ""
           }
          },
          "scene": {
           "xaxis": {
            "backgroundcolor": "#E5ECF6",
            "gridcolor": "white",
            "gridwidth": 2,
            "linecolor": "white",
            "showbackground": true,
            "ticks": "",
            "zerolinecolor": "white"
           },
           "yaxis": {
            "backgroundcolor": "#E5ECF6",
            "gridcolor": "white",
            "gridwidth": 2,
            "linecolor": "white",
            "showbackground": true,
            "ticks": "",
            "zerolinecolor": "white"
           },
           "zaxis": {
            "backgroundcolor": "#E5ECF6",
            "gridcolor": "white",
            "gridwidth": 2,
            "linecolor": "white",
            "showbackground": true,
            "ticks": "",
            "zerolinecolor": "white"
           }
          },
          "shapedefaults": {
           "line": {
            "color": "#2a3f5f"
           }
          },
          "ternary": {
           "aaxis": {
            "gridcolor": "white",
            "linecolor": "white",
            "ticks": ""
           },
           "baxis": {
            "gridcolor": "white",
            "linecolor": "white",
            "ticks": ""
           },
           "bgcolor": "#E5ECF6",
           "caxis": {
            "gridcolor": "white",
            "linecolor": "white",
            "ticks": ""
           }
          },
          "title": {
           "x": 0.05
          },
          "xaxis": {
           "automargin": true,
           "gridcolor": "white",
           "linecolor": "white",
           "ticks": "",
           "title": {
            "standoff": 15
           },
           "zerolinecolor": "white",
           "zerolinewidth": 2
          },
          "yaxis": {
           "automargin": true,
           "gridcolor": "white",
           "linecolor": "white",
           "ticks": "",
           "title": {
            "standoff": 15
           },
           "zerolinecolor": "white",
           "zerolinewidth": 2
          }
         }
        },
        "title": {
         "text": "Number of Viewers on 24 May (Funds, Fintech & Financial Services)",
         "x": 0.5,
         "y": 0.95
        },
        "width": 1100,
        "xaxis": {
         "anchor": "y",
         "domain": [
          0,
          1
         ],
         "title": {
          "text": "Time"
         }
        },
        "yaxis": {
         "anchor": "x",
         "domain": [
          0,
          1
         ],
         "title": {
          "text": "Watching"
         }
        }
       }
      }
     },
     "metadata": {},
     "output_type": "display_data"
    }
   ],
   "source": [
    "# Visualise the attendance dynamics\n",
    "linechart_24_05_2022 = px.line(data_frame=timetable_24_05_2022, x = 'Time', y='Watching_24_05_2022')\n",
    "linechart_24_05_2022.update_layout(\n",
    "        title=\"Number of Viewers on 24 May (Funds, Fintech & Financial Services)\",\n",
    "        title_x=0.5,\n",
    "        title_y=0.95,\n",
    "        width=1100,\n",
    "        height=400,\n",
    "        yaxis_title=\"Watching\"\n",
    "        )\n",
    "linechart_24_05_2022.show()"
   ]
  },
  {
   "cell_type": "code",
   "execution_count": 54,
   "metadata": {},
   "outputs": [],
   "source": [
    "# linechart_24_05_2022_file_name = (' - Attendees Line Chart 2022-05-24 - ' + timestamp)\n",
    "# pio.write_image(linechart_24_05_2022, (location_windows + linechart_24_05_2022_file_name + '.png'), format='png', width=1100, height=400)"
   ]
  },
  {
   "cell_type": "markdown",
   "metadata": {},
   "source": [
    "## Stats on 31.05.22 (ASX & pre-IPO)"
   ]
  },
  {
   "cell_type": "code",
   "execution_count": 55,
   "metadata": {},
   "outputs": [
    {
     "name": "stdout",
     "output_type": "stream",
     "text": [
      "The first attendee joined at 2022-05-31 17:30:30\n",
      "The last attendee left at 2022-05-31 18:51:21\n"
     ]
    }
   ],
   "source": [
    "# Extracting dvisitors of this event and checking its start and end\n",
    "data_31_05_2022 = data[data['Event Date'] == '2022-05-31'].sort_values(by='Join Time', ignore_index=True)\n",
    "start_31_05_2022 = data_31_05_2022['Join Time'][0]\n",
    "print('The first attendee joined at ' + str(start_31_05_2022))\n",
    "\n",
    "data_31_05_2022 = data[data['Event Date'] == '2022-05-31'].sort_values(by='Leave Time', ignore_index=True, ascending=False)\n",
    "end_31_05_2022 = data_31_05_2022['Leave Time'][3]\n",
    "print('The last attendee left at ' + str(end_31_05_2022))"
   ]
  },
  {
   "cell_type": "code",
   "execution_count": 56,
   "metadata": {},
   "outputs": [],
   "source": [
    "# Set up a table with the time\n",
    "rng = pd.date_range(start_31_05_2022, end_31_05_2022, freq=\"min\")\n",
    "timetable_31_05_2022 = pd.DataFrame({ 'Time': rng, 'Watching_31_05_2022': 0 })\n",
    "# print(timetable_31_05_2022)"
   ]
  },
  {
   "cell_type": "code",
   "execution_count": 57,
   "metadata": {},
   "outputs": [],
   "source": [
    "# Count the number of viewers at each given minute\n",
    "def get_attendance_per_minute(time):\n",
    "    count = 0\n",
    "    for row in data_31_05_2022['Join Time']:\n",
    "        if time > row:\n",
    "            count += 1\n",
    "    for line in data_31_05_2022['Leave Time']:\n",
    "        if time > line:\n",
    "            count -= 1\n",
    "    return (count)\n",
    "\n",
    "timetable_31_05_2022['Watching_31_05_2022'] = timetable_31_05_2022['Time'].apply(get_attendance_per_minute)\n",
    "\n",
    "# display(timetable_31_05_2022)"
   ]
  },
  {
   "cell_type": "code",
   "execution_count": 58,
   "metadata": {},
   "outputs": [
    {
     "data": {
      "application/vnd.plotly.v1+json": {
       "config": {
        "plotlyServerURL": "https://plot.ly"
       },
       "data": [
        {
         "hovertemplate": "Time=%{x}<br>Watching_31_05_2022=%{y}<extra></extra>",
         "legendgroup": "",
         "line": {
          "color": "#636efa",
          "dash": "solid"
         },
         "marker": {
          "symbol": "circle"
         },
         "mode": "lines",
         "name": "",
         "orientation": "v",
         "showlegend": false,
         "type": "scatter",
         "x": [
          "2022-05-31T17:30:30",
          "2022-05-31T17:31:30",
          "2022-05-31T17:32:30",
          "2022-05-31T17:33:30",
          "2022-05-31T17:34:30",
          "2022-05-31T17:35:30",
          "2022-05-31T17:36:30",
          "2022-05-31T17:37:30",
          "2022-05-31T17:38:30",
          "2022-05-31T17:39:30",
          "2022-05-31T17:40:30",
          "2022-05-31T17:41:30",
          "2022-05-31T17:42:30",
          "2022-05-31T17:43:30",
          "2022-05-31T17:44:30",
          "2022-05-31T17:45:30",
          "2022-05-31T17:46:30",
          "2022-05-31T17:47:30",
          "2022-05-31T17:48:30",
          "2022-05-31T17:49:30",
          "2022-05-31T17:50:30",
          "2022-05-31T17:51:30",
          "2022-05-31T17:52:30",
          "2022-05-31T17:53:30",
          "2022-05-31T17:54:30",
          "2022-05-31T17:55:30",
          "2022-05-31T17:56:30",
          "2022-05-31T17:57:30",
          "2022-05-31T17:58:30",
          "2022-05-31T17:59:30",
          "2022-05-31T18:00:30",
          "2022-05-31T18:01:30",
          "2022-05-31T18:02:30",
          "2022-05-31T18:03:30",
          "2022-05-31T18:04:30",
          "2022-05-31T18:05:30",
          "2022-05-31T18:06:30",
          "2022-05-31T18:07:30",
          "2022-05-31T18:08:30",
          "2022-05-31T18:09:30",
          "2022-05-31T18:10:30",
          "2022-05-31T18:11:30",
          "2022-05-31T18:12:30",
          "2022-05-31T18:13:30",
          "2022-05-31T18:14:30",
          "2022-05-31T18:15:30",
          "2022-05-31T18:16:30",
          "2022-05-31T18:17:30",
          "2022-05-31T18:18:30",
          "2022-05-31T18:19:30",
          "2022-05-31T18:20:30",
          "2022-05-31T18:21:30",
          "2022-05-31T18:22:30",
          "2022-05-31T18:23:30",
          "2022-05-31T18:24:30",
          "2022-05-31T18:25:30",
          "2022-05-31T18:26:30",
          "2022-05-31T18:27:30",
          "2022-05-31T18:28:30",
          "2022-05-31T18:29:30",
          "2022-05-31T18:30:30",
          "2022-05-31T18:31:30",
          "2022-05-31T18:32:30",
          "2022-05-31T18:33:30",
          "2022-05-31T18:34:30",
          "2022-05-31T18:35:30",
          "2022-05-31T18:36:30",
          "2022-05-31T18:37:30",
          "2022-05-31T18:38:30",
          "2022-05-31T18:39:30",
          "2022-05-31T18:40:30",
          "2022-05-31T18:41:30",
          "2022-05-31T18:42:30",
          "2022-05-31T18:43:30",
          "2022-05-31T18:44:30",
          "2022-05-31T18:45:30",
          "2022-05-31T18:46:30",
          "2022-05-31T18:47:30",
          "2022-05-31T18:48:30",
          "2022-05-31T18:49:30",
          "2022-05-31T18:50:30"
         ],
         "xaxis": "x",
         "y": [
          0,
          5,
          5,
          6,
          6,
          6,
          6,
          6,
          7,
          7,
          8,
          11,
          11,
          11,
          11,
          11,
          11,
          11,
          11,
          11,
          11,
          12,
          12,
          12,
          12,
          12,
          12,
          12,
          12,
          12,
          12,
          12,
          12,
          12,
          12,
          12,
          12,
          12,
          13,
          13,
          12,
          12,
          12,
          12,
          12,
          12,
          12,
          12,
          12,
          12,
          12,
          12,
          12,
          12,
          12,
          12,
          12,
          12,
          11,
          11,
          11,
          11,
          12,
          12,
          12,
          12,
          12,
          12,
          12,
          12,
          12,
          12,
          12,
          11,
          11,
          11,
          10,
          9,
          9,
          9,
          7
         ],
         "yaxis": "y"
        }
       ],
       "layout": {
        "height": 400,
        "legend": {
         "tracegroupgap": 0
        },
        "margin": {
         "t": 60
        },
        "template": {
         "data": {
          "bar": [
           {
            "error_x": {
             "color": "#2a3f5f"
            },
            "error_y": {
             "color": "#2a3f5f"
            },
            "marker": {
             "line": {
              "color": "#E5ECF6",
              "width": 0.5
             },
             "pattern": {
              "fillmode": "overlay",
              "size": 10,
              "solidity": 0.2
             }
            },
            "type": "bar"
           }
          ],
          "barpolar": [
           {
            "marker": {
             "line": {
              "color": "#E5ECF6",
              "width": 0.5
             },
             "pattern": {
              "fillmode": "overlay",
              "size": 10,
              "solidity": 0.2
             }
            },
            "type": "barpolar"
           }
          ],
          "carpet": [
           {
            "aaxis": {
             "endlinecolor": "#2a3f5f",
             "gridcolor": "white",
             "linecolor": "white",
             "minorgridcolor": "white",
             "startlinecolor": "#2a3f5f"
            },
            "baxis": {
             "endlinecolor": "#2a3f5f",
             "gridcolor": "white",
             "linecolor": "white",
             "minorgridcolor": "white",
             "startlinecolor": "#2a3f5f"
            },
            "type": "carpet"
           }
          ],
          "choropleth": [
           {
            "colorbar": {
             "outlinewidth": 0,
             "ticks": ""
            },
            "type": "choropleth"
           }
          ],
          "contour": [
           {
            "colorbar": {
             "outlinewidth": 0,
             "ticks": ""
            },
            "colorscale": [
             [
              0,
              "#0d0887"
             ],
             [
              0.1111111111111111,
              "#46039f"
             ],
             [
              0.2222222222222222,
              "#7201a8"
             ],
             [
              0.3333333333333333,
              "#9c179e"
             ],
             [
              0.4444444444444444,
              "#bd3786"
             ],
             [
              0.5555555555555556,
              "#d8576b"
             ],
             [
              0.6666666666666666,
              "#ed7953"
             ],
             [
              0.7777777777777778,
              "#fb9f3a"
             ],
             [
              0.8888888888888888,
              "#fdca26"
             ],
             [
              1,
              "#f0f921"
             ]
            ],
            "type": "contour"
           }
          ],
          "contourcarpet": [
           {
            "colorbar": {
             "outlinewidth": 0,
             "ticks": ""
            },
            "type": "contourcarpet"
           }
          ],
          "heatmap": [
           {
            "colorbar": {
             "outlinewidth": 0,
             "ticks": ""
            },
            "colorscale": [
             [
              0,
              "#0d0887"
             ],
             [
              0.1111111111111111,
              "#46039f"
             ],
             [
              0.2222222222222222,
              "#7201a8"
             ],
             [
              0.3333333333333333,
              "#9c179e"
             ],
             [
              0.4444444444444444,
              "#bd3786"
             ],
             [
              0.5555555555555556,
              "#d8576b"
             ],
             [
              0.6666666666666666,
              "#ed7953"
             ],
             [
              0.7777777777777778,
              "#fb9f3a"
             ],
             [
              0.8888888888888888,
              "#fdca26"
             ],
             [
              1,
              "#f0f921"
             ]
            ],
            "type": "heatmap"
           }
          ],
          "heatmapgl": [
           {
            "colorbar": {
             "outlinewidth": 0,
             "ticks": ""
            },
            "colorscale": [
             [
              0,
              "#0d0887"
             ],
             [
              0.1111111111111111,
              "#46039f"
             ],
             [
              0.2222222222222222,
              "#7201a8"
             ],
             [
              0.3333333333333333,
              "#9c179e"
             ],
             [
              0.4444444444444444,
              "#bd3786"
             ],
             [
              0.5555555555555556,
              "#d8576b"
             ],
             [
              0.6666666666666666,
              "#ed7953"
             ],
             [
              0.7777777777777778,
              "#fb9f3a"
             ],
             [
              0.8888888888888888,
              "#fdca26"
             ],
             [
              1,
              "#f0f921"
             ]
            ],
            "type": "heatmapgl"
           }
          ],
          "histogram": [
           {
            "marker": {
             "pattern": {
              "fillmode": "overlay",
              "size": 10,
              "solidity": 0.2
             }
            },
            "type": "histogram"
           }
          ],
          "histogram2d": [
           {
            "colorbar": {
             "outlinewidth": 0,
             "ticks": ""
            },
            "colorscale": [
             [
              0,
              "#0d0887"
             ],
             [
              0.1111111111111111,
              "#46039f"
             ],
             [
              0.2222222222222222,
              "#7201a8"
             ],
             [
              0.3333333333333333,
              "#9c179e"
             ],
             [
              0.4444444444444444,
              "#bd3786"
             ],
             [
              0.5555555555555556,
              "#d8576b"
             ],
             [
              0.6666666666666666,
              "#ed7953"
             ],
             [
              0.7777777777777778,
              "#fb9f3a"
             ],
             [
              0.8888888888888888,
              "#fdca26"
             ],
             [
              1,
              "#f0f921"
             ]
            ],
            "type": "histogram2d"
           }
          ],
          "histogram2dcontour": [
           {
            "colorbar": {
             "outlinewidth": 0,
             "ticks": ""
            },
            "colorscale": [
             [
              0,
              "#0d0887"
             ],
             [
              0.1111111111111111,
              "#46039f"
             ],
             [
              0.2222222222222222,
              "#7201a8"
             ],
             [
              0.3333333333333333,
              "#9c179e"
             ],
             [
              0.4444444444444444,
              "#bd3786"
             ],
             [
              0.5555555555555556,
              "#d8576b"
             ],
             [
              0.6666666666666666,
              "#ed7953"
             ],
             [
              0.7777777777777778,
              "#fb9f3a"
             ],
             [
              0.8888888888888888,
              "#fdca26"
             ],
             [
              1,
              "#f0f921"
             ]
            ],
            "type": "histogram2dcontour"
           }
          ],
          "mesh3d": [
           {
            "colorbar": {
             "outlinewidth": 0,
             "ticks": ""
            },
            "type": "mesh3d"
           }
          ],
          "parcoords": [
           {
            "line": {
             "colorbar": {
              "outlinewidth": 0,
              "ticks": ""
             }
            },
            "type": "parcoords"
           }
          ],
          "pie": [
           {
            "automargin": true,
            "type": "pie"
           }
          ],
          "scatter": [
           {
            "marker": {
             "colorbar": {
              "outlinewidth": 0,
              "ticks": ""
             }
            },
            "type": "scatter"
           }
          ],
          "scatter3d": [
           {
            "line": {
             "colorbar": {
              "outlinewidth": 0,
              "ticks": ""
             }
            },
            "marker": {
             "colorbar": {
              "outlinewidth": 0,
              "ticks": ""
             }
            },
            "type": "scatter3d"
           }
          ],
          "scattercarpet": [
           {
            "marker": {
             "colorbar": {
              "outlinewidth": 0,
              "ticks": ""
             }
            },
            "type": "scattercarpet"
           }
          ],
          "scattergeo": [
           {
            "marker": {
             "colorbar": {
              "outlinewidth": 0,
              "ticks": ""
             }
            },
            "type": "scattergeo"
           }
          ],
          "scattergl": [
           {
            "marker": {
             "colorbar": {
              "outlinewidth": 0,
              "ticks": ""
             }
            },
            "type": "scattergl"
           }
          ],
          "scattermapbox": [
           {
            "marker": {
             "colorbar": {
              "outlinewidth": 0,
              "ticks": ""
             }
            },
            "type": "scattermapbox"
           }
          ],
          "scatterpolar": [
           {
            "marker": {
             "colorbar": {
              "outlinewidth": 0,
              "ticks": ""
             }
            },
            "type": "scatterpolar"
           }
          ],
          "scatterpolargl": [
           {
            "marker": {
             "colorbar": {
              "outlinewidth": 0,
              "ticks": ""
             }
            },
            "type": "scatterpolargl"
           }
          ],
          "scatterternary": [
           {
            "marker": {
             "colorbar": {
              "outlinewidth": 0,
              "ticks": ""
             }
            },
            "type": "scatterternary"
           }
          ],
          "surface": [
           {
            "colorbar": {
             "outlinewidth": 0,
             "ticks": ""
            },
            "colorscale": [
             [
              0,
              "#0d0887"
             ],
             [
              0.1111111111111111,
              "#46039f"
             ],
             [
              0.2222222222222222,
              "#7201a8"
             ],
             [
              0.3333333333333333,
              "#9c179e"
             ],
             [
              0.4444444444444444,
              "#bd3786"
             ],
             [
              0.5555555555555556,
              "#d8576b"
             ],
             [
              0.6666666666666666,
              "#ed7953"
             ],
             [
              0.7777777777777778,
              "#fb9f3a"
             ],
             [
              0.8888888888888888,
              "#fdca26"
             ],
             [
              1,
              "#f0f921"
             ]
            ],
            "type": "surface"
           }
          ],
          "table": [
           {
            "cells": {
             "fill": {
              "color": "#EBF0F8"
             },
             "line": {
              "color": "white"
             }
            },
            "header": {
             "fill": {
              "color": "#C8D4E3"
             },
             "line": {
              "color": "white"
             }
            },
            "type": "table"
           }
          ]
         },
         "layout": {
          "annotationdefaults": {
           "arrowcolor": "#2a3f5f",
           "arrowhead": 0,
           "arrowwidth": 1
          },
          "autotypenumbers": "strict",
          "coloraxis": {
           "colorbar": {
            "outlinewidth": 0,
            "ticks": ""
           }
          },
          "colorscale": {
           "diverging": [
            [
             0,
             "#8e0152"
            ],
            [
             0.1,
             "#c51b7d"
            ],
            [
             0.2,
             "#de77ae"
            ],
            [
             0.3,
             "#f1b6da"
            ],
            [
             0.4,
             "#fde0ef"
            ],
            [
             0.5,
             "#f7f7f7"
            ],
            [
             0.6,
             "#e6f5d0"
            ],
            [
             0.7,
             "#b8e186"
            ],
            [
             0.8,
             "#7fbc41"
            ],
            [
             0.9,
             "#4d9221"
            ],
            [
             1,
             "#276419"
            ]
           ],
           "sequential": [
            [
             0,
             "#0d0887"
            ],
            [
             0.1111111111111111,
             "#46039f"
            ],
            [
             0.2222222222222222,
             "#7201a8"
            ],
            [
             0.3333333333333333,
             "#9c179e"
            ],
            [
             0.4444444444444444,
             "#bd3786"
            ],
            [
             0.5555555555555556,
             "#d8576b"
            ],
            [
             0.6666666666666666,
             "#ed7953"
            ],
            [
             0.7777777777777778,
             "#fb9f3a"
            ],
            [
             0.8888888888888888,
             "#fdca26"
            ],
            [
             1,
             "#f0f921"
            ]
           ],
           "sequentialminus": [
            [
             0,
             "#0d0887"
            ],
            [
             0.1111111111111111,
             "#46039f"
            ],
            [
             0.2222222222222222,
             "#7201a8"
            ],
            [
             0.3333333333333333,
             "#9c179e"
            ],
            [
             0.4444444444444444,
             "#bd3786"
            ],
            [
             0.5555555555555556,
             "#d8576b"
            ],
            [
             0.6666666666666666,
             "#ed7953"
            ],
            [
             0.7777777777777778,
             "#fb9f3a"
            ],
            [
             0.8888888888888888,
             "#fdca26"
            ],
            [
             1,
             "#f0f921"
            ]
           ]
          },
          "colorway": [
           "#636efa",
           "#EF553B",
           "#00cc96",
           "#ab63fa",
           "#FFA15A",
           "#19d3f3",
           "#FF6692",
           "#B6E880",
           "#FF97FF",
           "#FECB52"
          ],
          "font": {
           "color": "#2a3f5f"
          },
          "geo": {
           "bgcolor": "white",
           "lakecolor": "white",
           "landcolor": "#E5ECF6",
           "showlakes": true,
           "showland": true,
           "subunitcolor": "white"
          },
          "hoverlabel": {
           "align": "left"
          },
          "hovermode": "closest",
          "mapbox": {
           "style": "light"
          },
          "paper_bgcolor": "white",
          "plot_bgcolor": "#E5ECF6",
          "polar": {
           "angularaxis": {
            "gridcolor": "white",
            "linecolor": "white",
            "ticks": ""
           },
           "bgcolor": "#E5ECF6",
           "radialaxis": {
            "gridcolor": "white",
            "linecolor": "white",
            "ticks": ""
           }
          },
          "scene": {
           "xaxis": {
            "backgroundcolor": "#E5ECF6",
            "gridcolor": "white",
            "gridwidth": 2,
            "linecolor": "white",
            "showbackground": true,
            "ticks": "",
            "zerolinecolor": "white"
           },
           "yaxis": {
            "backgroundcolor": "#E5ECF6",
            "gridcolor": "white",
            "gridwidth": 2,
            "linecolor": "white",
            "showbackground": true,
            "ticks": "",
            "zerolinecolor": "white"
           },
           "zaxis": {
            "backgroundcolor": "#E5ECF6",
            "gridcolor": "white",
            "gridwidth": 2,
            "linecolor": "white",
            "showbackground": true,
            "ticks": "",
            "zerolinecolor": "white"
           }
          },
          "shapedefaults": {
           "line": {
            "color": "#2a3f5f"
           }
          },
          "ternary": {
           "aaxis": {
            "gridcolor": "white",
            "linecolor": "white",
            "ticks": ""
           },
           "baxis": {
            "gridcolor": "white",
            "linecolor": "white",
            "ticks": ""
           },
           "bgcolor": "#E5ECF6",
           "caxis": {
            "gridcolor": "white",
            "linecolor": "white",
            "ticks": ""
           }
          },
          "title": {
           "x": 0.05
          },
          "xaxis": {
           "automargin": true,
           "gridcolor": "white",
           "linecolor": "white",
           "ticks": "",
           "title": {
            "standoff": 15
           },
           "zerolinecolor": "white",
           "zerolinewidth": 2
          },
          "yaxis": {
           "automargin": true,
           "gridcolor": "white",
           "linecolor": "white",
           "ticks": "",
           "title": {
            "standoff": 15
           },
           "zerolinecolor": "white",
           "zerolinewidth": 2
          }
         }
        },
        "title": {
         "text": "Number of Viewers on 31 May (ASX & pre-IPO)",
         "x": 0.5,
         "y": 0.95
        },
        "width": 1100,
        "xaxis": {
         "anchor": "y",
         "domain": [
          0,
          1
         ],
         "title": {
          "text": "Time"
         }
        },
        "yaxis": {
         "anchor": "x",
         "domain": [
          0,
          1
         ],
         "title": {
          "text": "Watching"
         }
        }
       }
      }
     },
     "metadata": {},
     "output_type": "display_data"
    }
   ],
   "source": [
    "# Visualise the attendance dynamics\n",
    "linechart_31_05_2022 = px.line(data_frame=timetable_31_05_2022, x = 'Time', y='Watching_31_05_2022')\n",
    "linechart_31_05_2022.update_layout(\n",
    "        title=\"Number of Viewers on 31 May (ASX & pre-IPO)\",\n",
    "        title_x=0.5,\n",
    "        title_y=0.95,\n",
    "        width=1100,\n",
    "        height=400,\n",
    "        yaxis_title=\"Watching\"\n",
    "        )\n",
    "linechart_31_05_2022.show()"
   ]
  },
  {
   "cell_type": "code",
   "execution_count": 59,
   "metadata": {},
   "outputs": [],
   "source": [
    "# linechart_31_05_2022_file_name = (' - Attendees Line Chart 2022-05-31 - ' + timestamp)\n",
    "# pio.write_image(linechart_31_05_2022, (location_windows + linechart_31_05_2022_file_name + '.png'), format='png', width=1100, height=400)"
   ]
  },
  {
   "cell_type": "markdown",
   "metadata": {},
   "source": [
    "## Minute-by-minute attendee overall report"
   ]
  },
  {
   "cell_type": "code",
   "execution_count": 60,
   "metadata": {},
   "outputs": [],
   "source": [
    "timetable_05_04_2022['Time'] = timetable_05_04_2022['Time'].dt.strftime('%H:%M')\n",
    "timetable_12_04_2022['Time'] = timetable_12_04_2022['Time'].dt.strftime('%H:%M')\n",
    "timetable_26_04_2022['Time'] = timetable_26_04_2022['Time'].dt.strftime('%H:%M')\n",
    "timetable_03_05_2022['Time'] = timetable_03_05_2022['Time'].dt.strftime('%H:%M')\n",
    "timetable_10_05_2022['Time'] = timetable_10_05_2022['Time'].dt.strftime('%H:%M')\n",
    "timetable_17_05_2022['Time'] = timetable_17_05_2022['Time'].dt.strftime('%H:%M')\n",
    "timetable_24_05_2022['Time'] = timetable_24_05_2022['Time'].dt.strftime('%H:%M')\n",
    "timetable_31_05_2022['Time'] = timetable_31_05_2022['Time'].dt.strftime('%H:%M')"
   ]
  },
  {
   "cell_type": "code",
   "execution_count": 61,
   "metadata": {},
   "outputs": [],
   "source": [
    "pivot_timetable = timetable_05_04_2022.merge(timetable_12_04_2022.set_index('Time'), on='Time', how='outer'\n",
    "                                            ).merge(timetable_26_04_2022.set_index('Time'), on='Time', how='outer'\n",
    "                                                   ).merge(timetable_03_05_2022.set_index('Time'), on='Time', how='outer'\n",
    "                                                          ).merge(timetable_10_05_2022.set_index('Time'), on='Time', how='outer'\n",
    "                                                                 ).merge(timetable_17_05_2022.set_index('Time'), on='Time', how='outer'\n",
    "                                                                         ).merge(timetable_24_05_2022.set_index('Time'), on='Time', how='outer'\n",
    "                                                                                 ).merge(timetable_31_05_2022.set_index('Time'), on='Time', how='outer')"
   ]
  },
  {
   "cell_type": "code",
   "execution_count": 62,
   "metadata": {},
   "outputs": [
    {
     "data": {
      "application/vnd.plotly.v1+json": {
       "config": {
        "plotlyServerURL": "https://plot.ly"
       },
       "data": [
        {
         "hovertemplate": "variable=Watching_05_04_2022<br>Time=%{x}<br>value=%{y}<extra></extra>",
         "legendgroup": "Watching_05_04_2022",
         "line": {
          "color": "#636efa",
          "dash": "solid"
         },
         "marker": {
          "symbol": "circle"
         },
         "mode": "lines",
         "name": "Watching_05_04_2022",
         "showlegend": true,
         "type": "scattergl",
         "x": [
          "17:13",
          "17:14",
          "17:15",
          "17:16",
          "17:17",
          "17:18",
          "17:19",
          "17:20",
          "17:21",
          "17:22",
          "17:23",
          "17:24",
          "17:25",
          "17:26",
          "17:27",
          "17:28",
          "17:29",
          "17:30",
          "17:31",
          "17:32",
          "17:33",
          "17:34",
          "17:35",
          "17:36",
          "17:37",
          "17:38",
          "17:39",
          "17:40",
          "17:41",
          "17:42",
          "17:43",
          "17:44",
          "17:45",
          "17:46",
          "17:47",
          "17:48",
          "17:49",
          "17:50",
          "17:51",
          "17:52",
          "17:53",
          "17:54",
          "17:55",
          "17:56",
          "17:57",
          "17:58",
          "17:59",
          "18:00",
          "18:01",
          "18:02",
          "18:03",
          "18:04",
          "18:05",
          "18:06",
          "18:07",
          "18:08",
          "18:09",
          "18:10",
          "18:11",
          "18:12",
          "18:13",
          "18:14",
          "18:15",
          "18:16",
          "18:17",
          "18:18",
          "18:19",
          "18:20",
          "18:21",
          "18:22",
          "18:23",
          "18:24",
          "18:25",
          "18:26",
          "18:27",
          "18:28",
          "18:29",
          "18:30",
          "18:31",
          "18:32",
          "18:33",
          "18:34",
          "18:35",
          "18:36",
          "18:37",
          "18:38",
          "18:39",
          "18:40",
          "18:41",
          "18:42",
          "18:43",
          "18:44",
          "18:45",
          "18:46",
          "18:47",
          "18:48",
          "18:49",
          "18:50",
          "18:51",
          "18:52",
          "18:53",
          "18:54",
          "18:55",
          "18:56",
          "18:57",
          "18:58",
          "18:59",
          "19:00",
          "19:01",
          "19:02",
          "19:03",
          "19:04",
          "19:05",
          "19:06",
          "19:07",
          "19:08",
          "19:09",
          "19:10",
          "19:11",
          "19:12",
          "19:13",
          "19:14",
          "19:15",
          "19:16",
          "19:17",
          "19:18",
          "19:19",
          "19:20",
          "19:21",
          "19:22",
          "19:23",
          "19:24",
          "19:25",
          "19:26",
          "19:27",
          "19:28",
          "19:29",
          "19:30",
          "19:31",
          "19:32",
          "19:33",
          "19:34"
         ],
         "xaxis": "x",
         "y": [
          0,
          0,
          0,
          0,
          1,
          0,
          0,
          0,
          0,
          1,
          3,
          3,
          4,
          4,
          5,
          5,
          6,
          10,
          11,
          14,
          14,
          19,
          19,
          19,
          19,
          19,
          21,
          21,
          22,
          23,
          24,
          23,
          23,
          24,
          24,
          24,
          24,
          24,
          25,
          25,
          25,
          25,
          25,
          28,
          27,
          25,
          25,
          25,
          25,
          26,
          25,
          25,
          23,
          22,
          22,
          22,
          23,
          22,
          22,
          23,
          23,
          24,
          23,
          23,
          23,
          22,
          22,
          22,
          22,
          22,
          22,
          22,
          22,
          23,
          23,
          23,
          23,
          22,
          22,
          22,
          22,
          22,
          22,
          22,
          22,
          22,
          23,
          23,
          23,
          23,
          23,
          23,
          23,
          23,
          22,
          22,
          22,
          22,
          22,
          22,
          22,
          22,
          22,
          22,
          22,
          21,
          20,
          20,
          19,
          19,
          18,
          18,
          16,
          16,
          16,
          16,
          16,
          15,
          14,
          14,
          14,
          14,
          14,
          14,
          14,
          14,
          12,
          11,
          1,
          1,
          null,
          null,
          null,
          null,
          null,
          null,
          null,
          null,
          null,
          null,
          null,
          null
         ],
         "yaxis": "y"
        },
        {
         "hovertemplate": "variable=Watching_12_04_2022<br>Time=%{x}<br>value=%{y}<extra></extra>",
         "legendgroup": "Watching_12_04_2022",
         "line": {
          "color": "#EF553B",
          "dash": "solid"
         },
         "marker": {
          "symbol": "circle"
         },
         "mode": "lines",
         "name": "Watching_12_04_2022",
         "showlegend": true,
         "type": "scattergl",
         "x": [
          "17:13",
          "17:14",
          "17:15",
          "17:16",
          "17:17",
          "17:18",
          "17:19",
          "17:20",
          "17:21",
          "17:22",
          "17:23",
          "17:24",
          "17:25",
          "17:26",
          "17:27",
          "17:28",
          "17:29",
          "17:30",
          "17:31",
          "17:32",
          "17:33",
          "17:34",
          "17:35",
          "17:36",
          "17:37",
          "17:38",
          "17:39",
          "17:40",
          "17:41",
          "17:42",
          "17:43",
          "17:44",
          "17:45",
          "17:46",
          "17:47",
          "17:48",
          "17:49",
          "17:50",
          "17:51",
          "17:52",
          "17:53",
          "17:54",
          "17:55",
          "17:56",
          "17:57",
          "17:58",
          "17:59",
          "18:00",
          "18:01",
          "18:02",
          "18:03",
          "18:04",
          "18:05",
          "18:06",
          "18:07",
          "18:08",
          "18:09",
          "18:10",
          "18:11",
          "18:12",
          "18:13",
          "18:14",
          "18:15",
          "18:16",
          "18:17",
          "18:18",
          "18:19",
          "18:20",
          "18:21",
          "18:22",
          "18:23",
          "18:24",
          "18:25",
          "18:26",
          "18:27",
          "18:28",
          "18:29",
          "18:30",
          "18:31",
          "18:32",
          "18:33",
          "18:34",
          "18:35",
          "18:36",
          "18:37",
          "18:38",
          "18:39",
          "18:40",
          "18:41",
          "18:42",
          "18:43",
          "18:44",
          "18:45",
          "18:46",
          "18:47",
          "18:48",
          "18:49",
          "18:50",
          "18:51",
          "18:52",
          "18:53",
          "18:54",
          "18:55",
          "18:56",
          "18:57",
          "18:58",
          "18:59",
          "19:00",
          "19:01",
          "19:02",
          "19:03",
          "19:04",
          "19:05",
          "19:06",
          "19:07",
          "19:08",
          "19:09",
          "19:10",
          "19:11",
          "19:12",
          "19:13",
          "19:14",
          "19:15",
          "19:16",
          "19:17",
          "19:18",
          "19:19",
          "19:20",
          "19:21",
          "19:22",
          "19:23",
          "19:24",
          "19:25",
          "19:26",
          "19:27",
          "19:28",
          "19:29",
          "19:30",
          "19:31",
          "19:32",
          "19:33",
          "19:34"
         ],
         "xaxis": "x",
         "y": [
          null,
          null,
          null,
          null,
          null,
          0,
          1,
          2,
          2,
          2,
          3,
          3,
          3,
          3,
          6,
          8,
          10,
          12,
          13,
          16,
          17,
          19,
          19,
          20,
          20,
          21,
          23,
          23,
          25,
          25,
          25,
          25,
          25,
          26,
          26,
          26,
          27,
          27,
          27,
          27,
          27,
          28,
          28,
          28,
          28,
          28,
          27,
          27,
          27,
          27,
          27,
          27,
          26,
          26,
          26,
          26,
          26,
          26,
          26,
          26,
          25,
          24,
          24,
          24,
          24,
          23,
          23,
          23,
          22,
          21,
          21,
          20,
          20,
          20,
          20,
          20,
          20,
          20,
          20,
          21,
          21,
          21,
          20,
          20,
          19,
          19,
          19,
          19,
          19,
          19,
          19,
          19,
          19,
          18,
          18,
          18,
          18,
          18,
          18,
          18,
          18,
          17,
          17,
          17,
          15,
          15,
          14,
          14,
          13,
          13,
          13,
          12,
          11,
          11,
          11,
          11,
          11,
          11,
          11,
          11,
          11,
          11,
          11,
          11,
          11,
          11,
          11,
          10,
          6,
          5,
          1,
          1,
          null,
          null,
          null,
          null,
          null,
          null,
          null,
          null,
          null,
          null
         ],
         "yaxis": "y"
        },
        {
         "hovertemplate": "variable=Watching_26_04_2022<br>Time=%{x}<br>value=%{y}<extra></extra>",
         "legendgroup": "Watching_26_04_2022",
         "line": {
          "color": "#00cc96",
          "dash": "solid"
         },
         "marker": {
          "symbol": "circle"
         },
         "mode": "lines",
         "name": "Watching_26_04_2022",
         "showlegend": true,
         "type": "scattergl",
         "x": [
          "17:13",
          "17:14",
          "17:15",
          "17:16",
          "17:17",
          "17:18",
          "17:19",
          "17:20",
          "17:21",
          "17:22",
          "17:23",
          "17:24",
          "17:25",
          "17:26",
          "17:27",
          "17:28",
          "17:29",
          "17:30",
          "17:31",
          "17:32",
          "17:33",
          "17:34",
          "17:35",
          "17:36",
          "17:37",
          "17:38",
          "17:39",
          "17:40",
          "17:41",
          "17:42",
          "17:43",
          "17:44",
          "17:45",
          "17:46",
          "17:47",
          "17:48",
          "17:49",
          "17:50",
          "17:51",
          "17:52",
          "17:53",
          "17:54",
          "17:55",
          "17:56",
          "17:57",
          "17:58",
          "17:59",
          "18:00",
          "18:01",
          "18:02",
          "18:03",
          "18:04",
          "18:05",
          "18:06",
          "18:07",
          "18:08",
          "18:09",
          "18:10",
          "18:11",
          "18:12",
          "18:13",
          "18:14",
          "18:15",
          "18:16",
          "18:17",
          "18:18",
          "18:19",
          "18:20",
          "18:21",
          "18:22",
          "18:23",
          "18:24",
          "18:25",
          "18:26",
          "18:27",
          "18:28",
          "18:29",
          "18:30",
          "18:31",
          "18:32",
          "18:33",
          "18:34",
          "18:35",
          "18:36",
          "18:37",
          "18:38",
          "18:39",
          "18:40",
          "18:41",
          "18:42",
          "18:43",
          "18:44",
          "18:45",
          "18:46",
          "18:47",
          "18:48",
          "18:49",
          "18:50",
          "18:51",
          "18:52",
          "18:53",
          "18:54",
          "18:55",
          "18:56",
          "18:57",
          "18:58",
          "18:59",
          "19:00",
          "19:01",
          "19:02",
          "19:03",
          "19:04",
          "19:05",
          "19:06",
          "19:07",
          "19:08",
          "19:09",
          "19:10",
          "19:11",
          "19:12",
          "19:13",
          "19:14",
          "19:15",
          "19:16",
          "19:17",
          "19:18",
          "19:19",
          "19:20",
          "19:21",
          "19:22",
          "19:23",
          "19:24",
          "19:25",
          "19:26",
          "19:27",
          "19:28",
          "19:29",
          "19:30",
          "19:31",
          "19:32",
          "19:33",
          "19:34"
         ],
         "xaxis": "x",
         "y": [
          null,
          null,
          null,
          null,
          null,
          null,
          null,
          null,
          null,
          null,
          null,
          null,
          null,
          null,
          null,
          null,
          null,
          null,
          null,
          null,
          0,
          10,
          10,
          11,
          11,
          11,
          12,
          12,
          12,
          12,
          12,
          12,
          12,
          13,
          14,
          14,
          14,
          14,
          14,
          15,
          14,
          14,
          15,
          15,
          16,
          16,
          16,
          16,
          16,
          16,
          16,
          17,
          17,
          16,
          16,
          16,
          16,
          16,
          16,
          16,
          16,
          15,
          15,
          15,
          15,
          15,
          15,
          15,
          15,
          15,
          14,
          14,
          14,
          14,
          14,
          14,
          14,
          14,
          14,
          14,
          14,
          14,
          14,
          14,
          14,
          14,
          14,
          15,
          15,
          15,
          15,
          14,
          14,
          13,
          13,
          13,
          13,
          13,
          13,
          13,
          12,
          10,
          10,
          9,
          9,
          9,
          9,
          9,
          8,
          8,
          7,
          7,
          7,
          7,
          7,
          7,
          7,
          7,
          7,
          7,
          7,
          7,
          7,
          7,
          7,
          4,
          3,
          3,
          2,
          2,
          2,
          2,
          2,
          2,
          1,
          1,
          1,
          1,
          1,
          1,
          1,
          1
         ],
         "yaxis": "y"
        },
        {
         "hovertemplate": "variable=Watching_03_05_2022<br>Time=%{x}<br>value=%{y}<extra></extra>",
         "legendgroup": "Watching_03_05_2022",
         "line": {
          "color": "#ab63fa",
          "dash": "solid"
         },
         "marker": {
          "symbol": "circle"
         },
         "mode": "lines",
         "name": "Watching_03_05_2022",
         "showlegend": true,
         "type": "scattergl",
         "x": [
          "17:13",
          "17:14",
          "17:15",
          "17:16",
          "17:17",
          "17:18",
          "17:19",
          "17:20",
          "17:21",
          "17:22",
          "17:23",
          "17:24",
          "17:25",
          "17:26",
          "17:27",
          "17:28",
          "17:29",
          "17:30",
          "17:31",
          "17:32",
          "17:33",
          "17:34",
          "17:35",
          "17:36",
          "17:37",
          "17:38",
          "17:39",
          "17:40",
          "17:41",
          "17:42",
          "17:43",
          "17:44",
          "17:45",
          "17:46",
          "17:47",
          "17:48",
          "17:49",
          "17:50",
          "17:51",
          "17:52",
          "17:53",
          "17:54",
          "17:55",
          "17:56",
          "17:57",
          "17:58",
          "17:59",
          "18:00",
          "18:01",
          "18:02",
          "18:03",
          "18:04",
          "18:05",
          "18:06",
          "18:07",
          "18:08",
          "18:09",
          "18:10",
          "18:11",
          "18:12",
          "18:13",
          "18:14",
          "18:15",
          "18:16",
          "18:17",
          "18:18",
          "18:19",
          "18:20",
          "18:21",
          "18:22",
          "18:23",
          "18:24",
          "18:25",
          "18:26",
          "18:27",
          "18:28",
          "18:29",
          "18:30",
          "18:31",
          "18:32",
          "18:33",
          "18:34",
          "18:35",
          "18:36",
          "18:37",
          "18:38",
          "18:39",
          "18:40",
          "18:41",
          "18:42",
          "18:43",
          "18:44",
          "18:45",
          "18:46",
          "18:47",
          "18:48",
          "18:49",
          "18:50",
          "18:51",
          "18:52",
          "18:53",
          "18:54",
          "18:55",
          "18:56",
          "18:57",
          "18:58",
          "18:59",
          "19:00",
          "19:01",
          "19:02",
          "19:03",
          "19:04",
          "19:05",
          "19:06",
          "19:07",
          "19:08",
          "19:09",
          "19:10",
          "19:11",
          "19:12",
          "19:13",
          "19:14",
          "19:15",
          "19:16",
          "19:17",
          "19:18",
          "19:19",
          "19:20",
          "19:21",
          "19:22",
          "19:23",
          "19:24",
          "19:25",
          "19:26",
          "19:27",
          "19:28",
          "19:29",
          "19:30",
          "19:31",
          "19:32",
          "19:33",
          "19:34"
         ],
         "xaxis": "x",
         "y": [
          null,
          null,
          null,
          null,
          null,
          null,
          null,
          null,
          null,
          0,
          1,
          1,
          1,
          1,
          2,
          3,
          3,
          4,
          5,
          6,
          7,
          7,
          7,
          7,
          8,
          8,
          8,
          8,
          8,
          8,
          8,
          8,
          8,
          8,
          8,
          8,
          8,
          8,
          8,
          9,
          9,
          9,
          9,
          9,
          9,
          9,
          9,
          9,
          9,
          9,
          9,
          9,
          9,
          8,
          8,
          8,
          8,
          8,
          8,
          8,
          8,
          8,
          8,
          8,
          8,
          8,
          8,
          8,
          8,
          8,
          8,
          8,
          8,
          8,
          8,
          8,
          8,
          8,
          8,
          8,
          8,
          8,
          8,
          8,
          8,
          8,
          8,
          8,
          8,
          8,
          8,
          8,
          8,
          8,
          7,
          7,
          7,
          7,
          7,
          7,
          7,
          7,
          7,
          7,
          6,
          6,
          6,
          6,
          5,
          5,
          5,
          5,
          5,
          5,
          5,
          5,
          4,
          4,
          4,
          4,
          4,
          3,
          null,
          null,
          null,
          null,
          null,
          null,
          null,
          null,
          null,
          null,
          null,
          null,
          null,
          null,
          null,
          null,
          null,
          null,
          null,
          null
         ],
         "yaxis": "y"
        },
        {
         "hovertemplate": "variable=Watching_10_05_2022<br>Time=%{x}<br>value=%{y}<extra></extra>",
         "legendgroup": "Watching_10_05_2022",
         "line": {
          "color": "#FFA15A",
          "dash": "solid"
         },
         "marker": {
          "symbol": "circle"
         },
         "mode": "lines",
         "name": "Watching_10_05_2022",
         "showlegend": true,
         "type": "scattergl",
         "x": [
          "17:13",
          "17:14",
          "17:15",
          "17:16",
          "17:17",
          "17:18",
          "17:19",
          "17:20",
          "17:21",
          "17:22",
          "17:23",
          "17:24",
          "17:25",
          "17:26",
          "17:27",
          "17:28",
          "17:29",
          "17:30",
          "17:31",
          "17:32",
          "17:33",
          "17:34",
          "17:35",
          "17:36",
          "17:37",
          "17:38",
          "17:39",
          "17:40",
          "17:41",
          "17:42",
          "17:43",
          "17:44",
          "17:45",
          "17:46",
          "17:47",
          "17:48",
          "17:49",
          "17:50",
          "17:51",
          "17:52",
          "17:53",
          "17:54",
          "17:55",
          "17:56",
          "17:57",
          "17:58",
          "17:59",
          "18:00",
          "18:01",
          "18:02",
          "18:03",
          "18:04",
          "18:05",
          "18:06",
          "18:07",
          "18:08",
          "18:09",
          "18:10",
          "18:11",
          "18:12",
          "18:13",
          "18:14",
          "18:15",
          "18:16",
          "18:17",
          "18:18",
          "18:19",
          "18:20",
          "18:21",
          "18:22",
          "18:23",
          "18:24",
          "18:25",
          "18:26",
          "18:27",
          "18:28",
          "18:29",
          "18:30",
          "18:31",
          "18:32",
          "18:33",
          "18:34",
          "18:35",
          "18:36",
          "18:37",
          "18:38",
          "18:39",
          "18:40",
          "18:41",
          "18:42",
          "18:43",
          "18:44",
          "18:45",
          "18:46",
          "18:47",
          "18:48",
          "18:49",
          "18:50",
          "18:51",
          "18:52",
          "18:53",
          "18:54",
          "18:55",
          "18:56",
          "18:57",
          "18:58",
          "18:59",
          "19:00",
          "19:01",
          "19:02",
          "19:03",
          "19:04",
          "19:05",
          "19:06",
          "19:07",
          "19:08",
          "19:09",
          "19:10",
          "19:11",
          "19:12",
          "19:13",
          "19:14",
          "19:15",
          "19:16",
          "19:17",
          "19:18",
          "19:19",
          "19:20",
          "19:21",
          "19:22",
          "19:23",
          "19:24",
          "19:25",
          "19:26",
          "19:27",
          "19:28",
          "19:29",
          "19:30",
          "19:31",
          "19:32",
          "19:33",
          "19:34"
         ],
         "xaxis": "x",
         "y": [
          null,
          null,
          null,
          null,
          null,
          null,
          null,
          null,
          null,
          null,
          null,
          null,
          null,
          null,
          null,
          null,
          null,
          null,
          0,
          5,
          6,
          6,
          6,
          6,
          7,
          7,
          8,
          8,
          8,
          8,
          8,
          9,
          9,
          10,
          10,
          10,
          10,
          11,
          12,
          12,
          12,
          13,
          13,
          13,
          14,
          14,
          15,
          14,
          13,
          14,
          14,
          14,
          14,
          14,
          14,
          14,
          14,
          14,
          14,
          14,
          13,
          13,
          13,
          12,
          12,
          13,
          13,
          13,
          12,
          12,
          11,
          11,
          11,
          11,
          11,
          11,
          11,
          11,
          11,
          11,
          11,
          11,
          11,
          11,
          11,
          11,
          11,
          11,
          11,
          11,
          11,
          11,
          11,
          11,
          11,
          11,
          11,
          11,
          11,
          11,
          11,
          10,
          10,
          10,
          10,
          10,
          10,
          10,
          10,
          9,
          9,
          8,
          8,
          8,
          7,
          7,
          7,
          7,
          7,
          7,
          7,
          7,
          7,
          null,
          null,
          null,
          null,
          null,
          null,
          null,
          null,
          null,
          null,
          null,
          null,
          null,
          null,
          null,
          null,
          null,
          null,
          null
         ],
         "yaxis": "y"
        },
        {
         "hovertemplate": "variable=Watching_17_05_2022<br>Time=%{x}<br>value=%{y}<extra></extra>",
         "legendgroup": "Watching_17_05_2022",
         "line": {
          "color": "#19d3f3",
          "dash": "solid"
         },
         "marker": {
          "symbol": "circle"
         },
         "mode": "lines",
         "name": "Watching_17_05_2022",
         "showlegend": true,
         "type": "scattergl",
         "x": [
          "17:13",
          "17:14",
          "17:15",
          "17:16",
          "17:17",
          "17:18",
          "17:19",
          "17:20",
          "17:21",
          "17:22",
          "17:23",
          "17:24",
          "17:25",
          "17:26",
          "17:27",
          "17:28",
          "17:29",
          "17:30",
          "17:31",
          "17:32",
          "17:33",
          "17:34",
          "17:35",
          "17:36",
          "17:37",
          "17:38",
          "17:39",
          "17:40",
          "17:41",
          "17:42",
          "17:43",
          "17:44",
          "17:45",
          "17:46",
          "17:47",
          "17:48",
          "17:49",
          "17:50",
          "17:51",
          "17:52",
          "17:53",
          "17:54",
          "17:55",
          "17:56",
          "17:57",
          "17:58",
          "17:59",
          "18:00",
          "18:01",
          "18:02",
          "18:03",
          "18:04",
          "18:05",
          "18:06",
          "18:07",
          "18:08",
          "18:09",
          "18:10",
          "18:11",
          "18:12",
          "18:13",
          "18:14",
          "18:15",
          "18:16",
          "18:17",
          "18:18",
          "18:19",
          "18:20",
          "18:21",
          "18:22",
          "18:23",
          "18:24",
          "18:25",
          "18:26",
          "18:27",
          "18:28",
          "18:29",
          "18:30",
          "18:31",
          "18:32",
          "18:33",
          "18:34",
          "18:35",
          "18:36",
          "18:37",
          "18:38",
          "18:39",
          "18:40",
          "18:41",
          "18:42",
          "18:43",
          "18:44",
          "18:45",
          "18:46",
          "18:47",
          "18:48",
          "18:49",
          "18:50",
          "18:51",
          "18:52",
          "18:53",
          "18:54",
          "18:55",
          "18:56",
          "18:57",
          "18:58",
          "18:59",
          "19:00",
          "19:01",
          "19:02",
          "19:03",
          "19:04",
          "19:05",
          "19:06",
          "19:07",
          "19:08",
          "19:09",
          "19:10",
          "19:11",
          "19:12",
          "19:13",
          "19:14",
          "19:15",
          "19:16",
          "19:17",
          "19:18",
          "19:19",
          "19:20",
          "19:21",
          "19:22",
          "19:23",
          "19:24",
          "19:25",
          "19:26",
          "19:27",
          "19:28",
          "19:29",
          "19:30",
          "19:31",
          "19:32",
          "19:33",
          "19:34"
         ],
         "xaxis": "x",
         "y": [
          null,
          null,
          null,
          null,
          null,
          null,
          null,
          null,
          null,
          0,
          1,
          1,
          1,
          1,
          1,
          5,
          9,
          15,
          20,
          24,
          26,
          28,
          30,
          31,
          34,
          36,
          36,
          36,
          37,
          37,
          38,
          38,
          38,
          39,
          40,
          40,
          39,
          39,
          40,
          40,
          39,
          40,
          40,
          39,
          39,
          39,
          39,
          39,
          38,
          38,
          38,
          38,
          37,
          35,
          35,
          34,
          33,
          32,
          32,
          31,
          30,
          30,
          30,
          30,
          30,
          30,
          30,
          29,
          30,
          30,
          30,
          30,
          30,
          30,
          30,
          30,
          30,
          30,
          30,
          30,
          30,
          30,
          31,
          31,
          30,
          30,
          30,
          30,
          30,
          30,
          30,
          30,
          30,
          30,
          30,
          29,
          29,
          28,
          28,
          28,
          27,
          27,
          27,
          26,
          25,
          25,
          24,
          24,
          24,
          24,
          24,
          24,
          24,
          24,
          24,
          24,
          24,
          23,
          23,
          23,
          23,
          23,
          22,
          21,
          18,
          18,
          18,
          17,
          17,
          17,
          17,
          17,
          16,
          15,
          1,
          1,
          null,
          null,
          null,
          null,
          null,
          null
         ],
         "yaxis": "y"
        },
        {
         "hovertemplate": "variable=Watching_24_05_2022<br>Time=%{x}<br>value=%{y}<extra></extra>",
         "legendgroup": "Watching_24_05_2022",
         "line": {
          "color": "#FF6692",
          "dash": "solid"
         },
         "marker": {
          "symbol": "circle"
         },
         "mode": "lines",
         "name": "Watching_24_05_2022",
         "showlegend": true,
         "type": "scattergl",
         "x": [
          "17:13",
          "17:14",
          "17:15",
          "17:16",
          "17:17",
          "17:18",
          "17:19",
          "17:20",
          "17:21",
          "17:22",
          "17:23",
          "17:24",
          "17:25",
          "17:26",
          "17:27",
          "17:28",
          "17:29",
          "17:30",
          "17:31",
          "17:32",
          "17:33",
          "17:34",
          "17:35",
          "17:36",
          "17:37",
          "17:38",
          "17:39",
          "17:40",
          "17:41",
          "17:42",
          "17:43",
          "17:44",
          "17:45",
          "17:46",
          "17:47",
          "17:48",
          "17:49",
          "17:50",
          "17:51",
          "17:52",
          "17:53",
          "17:54",
          "17:55",
          "17:56",
          "17:57",
          "17:58",
          "17:59",
          "18:00",
          "18:01",
          "18:02",
          "18:03",
          "18:04",
          "18:05",
          "18:06",
          "18:07",
          "18:08",
          "18:09",
          "18:10",
          "18:11",
          "18:12",
          "18:13",
          "18:14",
          "18:15",
          "18:16",
          "18:17",
          "18:18",
          "18:19",
          "18:20",
          "18:21",
          "18:22",
          "18:23",
          "18:24",
          "18:25",
          "18:26",
          "18:27",
          "18:28",
          "18:29",
          "18:30",
          "18:31",
          "18:32",
          "18:33",
          "18:34",
          "18:35",
          "18:36",
          "18:37",
          "18:38",
          "18:39",
          "18:40",
          "18:41",
          "18:42",
          "18:43",
          "18:44",
          "18:45",
          "18:46",
          "18:47",
          "18:48",
          "18:49",
          "18:50",
          "18:51",
          "18:52",
          "18:53",
          "18:54",
          "18:55",
          "18:56",
          "18:57",
          "18:58",
          "18:59",
          "19:00",
          "19:01",
          "19:02",
          "19:03",
          "19:04",
          "19:05",
          "19:06",
          "19:07",
          "19:08",
          "19:09",
          "19:10",
          "19:11",
          "19:12",
          "19:13",
          "19:14",
          "19:15",
          "19:16",
          "19:17",
          "19:18",
          "19:19",
          "19:20",
          "19:21",
          "19:22",
          "19:23",
          "19:24",
          "19:25",
          "19:26",
          "19:27",
          "19:28",
          "19:29",
          "19:30",
          "19:31",
          "19:32",
          "19:33",
          "19:34"
         ],
         "xaxis": "x",
         "y": [
          null,
          null,
          null,
          null,
          null,
          null,
          null,
          null,
          null,
          null,
          null,
          null,
          null,
          null,
          null,
          null,
          null,
          null,
          null,
          null,
          null,
          null,
          0,
          9,
          9,
          9,
          10,
          12,
          12,
          12,
          13,
          13,
          13,
          13,
          13,
          13,
          13,
          14,
          14,
          14,
          14,
          14,
          13,
          13,
          13,
          13,
          13,
          13,
          13,
          13,
          13,
          13,
          14,
          14,
          13,
          13,
          12,
          12,
          12,
          13,
          12,
          12,
          12,
          13,
          13,
          13,
          13,
          13,
          13,
          13,
          13,
          12,
          12,
          12,
          12,
          12,
          12,
          12,
          12,
          12,
          12,
          12,
          12,
          12,
          12,
          12,
          12,
          12,
          12,
          11,
          11,
          11,
          11,
          10,
          9,
          9,
          9,
          9,
          8,
          8,
          7,
          7,
          7,
          6,
          null,
          null,
          null,
          null,
          null,
          null,
          null,
          null,
          null,
          null,
          null,
          null,
          null,
          null,
          null,
          null,
          null,
          null,
          null,
          null,
          null,
          null,
          null,
          null,
          null,
          null,
          null,
          null,
          null,
          null,
          null,
          null,
          null,
          null,
          null,
          null,
          null,
          null
         ],
         "yaxis": "y"
        },
        {
         "hovertemplate": "variable=Watching_31_05_2022<br>Time=%{x}<br>value=%{y}<extra></extra>",
         "legendgroup": "Watching_31_05_2022",
         "line": {
          "color": "#B6E880",
          "dash": "solid"
         },
         "marker": {
          "symbol": "circle"
         },
         "mode": "lines",
         "name": "Watching_31_05_2022",
         "showlegend": true,
         "type": "scattergl",
         "x": [
          "17:13",
          "17:14",
          "17:15",
          "17:16",
          "17:17",
          "17:18",
          "17:19",
          "17:20",
          "17:21",
          "17:22",
          "17:23",
          "17:24",
          "17:25",
          "17:26",
          "17:27",
          "17:28",
          "17:29",
          "17:30",
          "17:31",
          "17:32",
          "17:33",
          "17:34",
          "17:35",
          "17:36",
          "17:37",
          "17:38",
          "17:39",
          "17:40",
          "17:41",
          "17:42",
          "17:43",
          "17:44",
          "17:45",
          "17:46",
          "17:47",
          "17:48",
          "17:49",
          "17:50",
          "17:51",
          "17:52",
          "17:53",
          "17:54",
          "17:55",
          "17:56",
          "17:57",
          "17:58",
          "17:59",
          "18:00",
          "18:01",
          "18:02",
          "18:03",
          "18:04",
          "18:05",
          "18:06",
          "18:07",
          "18:08",
          "18:09",
          "18:10",
          "18:11",
          "18:12",
          "18:13",
          "18:14",
          "18:15",
          "18:16",
          "18:17",
          "18:18",
          "18:19",
          "18:20",
          "18:21",
          "18:22",
          "18:23",
          "18:24",
          "18:25",
          "18:26",
          "18:27",
          "18:28",
          "18:29",
          "18:30",
          "18:31",
          "18:32",
          "18:33",
          "18:34",
          "18:35",
          "18:36",
          "18:37",
          "18:38",
          "18:39",
          "18:40",
          "18:41",
          "18:42",
          "18:43",
          "18:44",
          "18:45",
          "18:46",
          "18:47",
          "18:48",
          "18:49",
          "18:50",
          "18:51",
          "18:52",
          "18:53",
          "18:54",
          "18:55",
          "18:56",
          "18:57",
          "18:58",
          "18:59",
          "19:00",
          "19:01",
          "19:02",
          "19:03",
          "19:04",
          "19:05",
          "19:06",
          "19:07",
          "19:08",
          "19:09",
          "19:10",
          "19:11",
          "19:12",
          "19:13",
          "19:14",
          "19:15",
          "19:16",
          "19:17",
          "19:18",
          "19:19",
          "19:20",
          "19:21",
          "19:22",
          "19:23",
          "19:24",
          "19:25",
          "19:26",
          "19:27",
          "19:28",
          "19:29",
          "19:30",
          "19:31",
          "19:32",
          "19:33",
          "19:34"
         ],
         "xaxis": "x",
         "y": [
          null,
          null,
          null,
          null,
          null,
          null,
          null,
          null,
          null,
          null,
          null,
          null,
          null,
          null,
          null,
          null,
          null,
          0,
          5,
          5,
          6,
          6,
          6,
          6,
          6,
          7,
          7,
          8,
          11,
          11,
          11,
          11,
          11,
          11,
          11,
          11,
          11,
          11,
          12,
          12,
          12,
          12,
          12,
          12,
          12,
          12,
          12,
          12,
          12,
          12,
          12,
          12,
          12,
          12,
          12,
          13,
          13,
          12,
          12,
          12,
          12,
          12,
          12,
          12,
          12,
          12,
          12,
          12,
          12,
          12,
          12,
          12,
          12,
          12,
          12,
          11,
          11,
          11,
          11,
          12,
          12,
          12,
          12,
          12,
          12,
          12,
          12,
          12,
          12,
          12,
          11,
          11,
          11,
          10,
          9,
          9,
          9,
          7,
          null,
          null,
          null,
          null,
          null,
          null,
          null,
          null,
          null,
          null,
          null,
          null,
          null,
          null,
          null,
          null,
          null,
          null,
          null,
          null,
          null,
          null,
          null,
          null,
          null,
          null,
          null,
          null,
          null,
          null,
          null,
          null,
          null,
          null,
          null,
          null,
          null,
          null,
          null,
          null,
          null,
          null,
          null,
          null
         ],
         "yaxis": "y"
        }
       ],
       "layout": {
        "annotations": [
         {
          "bgcolor": "#0DD1F3",
          "bordercolor": "#0DD1F3",
          "opacity": 0.7,
          "showarrow": false,
          "text": "17 May. Web 3.0",
          "x": "19:25",
          "y": 16,
          "yshift": 12
         },
         {
          "bgcolor": "#636EFA",
          "bordercolor": "#636EFA",
          "opacity": 0.7,
          "showarrow": false,
          "text": "5 Apr. Renewables & ESG",
          "x": "19:22",
          "y": 14,
          "yshift": 12
         },
         {
          "bgcolor": "#EF553B",
          "bordercolor": "#EF553B",
          "opacity": 0.7,
          "showarrow": false,
          "text": "12 Apr. Biotech & Healthtech",
          "x": "19:24",
          "y": 10,
          "yshift": 12
         },
         {
          "bgcolor": "#FFA15A",
          "bordercolor": "#FFA15A",
          "opacity": 0.7,
          "showarrow": false,
          "text": "10 May. Property & Funds",
          "x": "19:23",
          "y": 8,
          "yshift": 12
         },
         {
          "bgcolor": "#00CC96",
          "bordercolor": "#00CC96",
          "opacity": 0.7,
          "showarrow": false,
          "text": "26 Apr. Funds & Fintech - 1",
          "x": "19:23",
          "y": 6,
          "yshift": 12
         },
         {
          "bgcolor": "#AA61FA",
          "bordercolor": "#AA61FA",
          "opacity": 0.7,
          "showarrow": false,
          "text": "3 May. Software",
          "x": "19:22",
          "y": 0,
          "yshift": 12
         },
         {
          "bgcolor": "#FF6692",
          "bordercolor": "#FF6692",
          "opacity": 0.7,
          "showarrow": false,
          "text": "24 May. Funds & Fintech - 2",
          "x": "19:24",
          "y": 4,
          "yshift": 12
         },
         {
          "bgcolor": "#B6E880",
          "bordercolor": "#B6E880",
          "opacity": 0.7,
          "showarrow": false,
          "text": "31 May. ASX & pre-IPO",
          "x": "19:22",
          "y": 2,
          "yshift": 12
         }
        ],
        "height": 600,
        "legend": {
         "title": {
          "text": "variable"
         },
         "tracegroupgap": 0
        },
        "margin": {
         "t": 60
        },
        "showlegend": false,
        "template": {
         "data": {
          "bar": [
           {
            "error_x": {
             "color": "#2a3f5f"
            },
            "error_y": {
             "color": "#2a3f5f"
            },
            "marker": {
             "line": {
              "color": "#E5ECF6",
              "width": 0.5
             },
             "pattern": {
              "fillmode": "overlay",
              "size": 10,
              "solidity": 0.2
             }
            },
            "type": "bar"
           }
          ],
          "barpolar": [
           {
            "marker": {
             "line": {
              "color": "#E5ECF6",
              "width": 0.5
             },
             "pattern": {
              "fillmode": "overlay",
              "size": 10,
              "solidity": 0.2
             }
            },
            "type": "barpolar"
           }
          ],
          "carpet": [
           {
            "aaxis": {
             "endlinecolor": "#2a3f5f",
             "gridcolor": "white",
             "linecolor": "white",
             "minorgridcolor": "white",
             "startlinecolor": "#2a3f5f"
            },
            "baxis": {
             "endlinecolor": "#2a3f5f",
             "gridcolor": "white",
             "linecolor": "white",
             "minorgridcolor": "white",
             "startlinecolor": "#2a3f5f"
            },
            "type": "carpet"
           }
          ],
          "choropleth": [
           {
            "colorbar": {
             "outlinewidth": 0,
             "ticks": ""
            },
            "type": "choropleth"
           }
          ],
          "contour": [
           {
            "colorbar": {
             "outlinewidth": 0,
             "ticks": ""
            },
            "colorscale": [
             [
              0,
              "#0d0887"
             ],
             [
              0.1111111111111111,
              "#46039f"
             ],
             [
              0.2222222222222222,
              "#7201a8"
             ],
             [
              0.3333333333333333,
              "#9c179e"
             ],
             [
              0.4444444444444444,
              "#bd3786"
             ],
             [
              0.5555555555555556,
              "#d8576b"
             ],
             [
              0.6666666666666666,
              "#ed7953"
             ],
             [
              0.7777777777777778,
              "#fb9f3a"
             ],
             [
              0.8888888888888888,
              "#fdca26"
             ],
             [
              1,
              "#f0f921"
             ]
            ],
            "type": "contour"
           }
          ],
          "contourcarpet": [
           {
            "colorbar": {
             "outlinewidth": 0,
             "ticks": ""
            },
            "type": "contourcarpet"
           }
          ],
          "heatmap": [
           {
            "colorbar": {
             "outlinewidth": 0,
             "ticks": ""
            },
            "colorscale": [
             [
              0,
              "#0d0887"
             ],
             [
              0.1111111111111111,
              "#46039f"
             ],
             [
              0.2222222222222222,
              "#7201a8"
             ],
             [
              0.3333333333333333,
              "#9c179e"
             ],
             [
              0.4444444444444444,
              "#bd3786"
             ],
             [
              0.5555555555555556,
              "#d8576b"
             ],
             [
              0.6666666666666666,
              "#ed7953"
             ],
             [
              0.7777777777777778,
              "#fb9f3a"
             ],
             [
              0.8888888888888888,
              "#fdca26"
             ],
             [
              1,
              "#f0f921"
             ]
            ],
            "type": "heatmap"
           }
          ],
          "heatmapgl": [
           {
            "colorbar": {
             "outlinewidth": 0,
             "ticks": ""
            },
            "colorscale": [
             [
              0,
              "#0d0887"
             ],
             [
              0.1111111111111111,
              "#46039f"
             ],
             [
              0.2222222222222222,
              "#7201a8"
             ],
             [
              0.3333333333333333,
              "#9c179e"
             ],
             [
              0.4444444444444444,
              "#bd3786"
             ],
             [
              0.5555555555555556,
              "#d8576b"
             ],
             [
              0.6666666666666666,
              "#ed7953"
             ],
             [
              0.7777777777777778,
              "#fb9f3a"
             ],
             [
              0.8888888888888888,
              "#fdca26"
             ],
             [
              1,
              "#f0f921"
             ]
            ],
            "type": "heatmapgl"
           }
          ],
          "histogram": [
           {
            "marker": {
             "pattern": {
              "fillmode": "overlay",
              "size": 10,
              "solidity": 0.2
             }
            },
            "type": "histogram"
           }
          ],
          "histogram2d": [
           {
            "colorbar": {
             "outlinewidth": 0,
             "ticks": ""
            },
            "colorscale": [
             [
              0,
              "#0d0887"
             ],
             [
              0.1111111111111111,
              "#46039f"
             ],
             [
              0.2222222222222222,
              "#7201a8"
             ],
             [
              0.3333333333333333,
              "#9c179e"
             ],
             [
              0.4444444444444444,
              "#bd3786"
             ],
             [
              0.5555555555555556,
              "#d8576b"
             ],
             [
              0.6666666666666666,
              "#ed7953"
             ],
             [
              0.7777777777777778,
              "#fb9f3a"
             ],
             [
              0.8888888888888888,
              "#fdca26"
             ],
             [
              1,
              "#f0f921"
             ]
            ],
            "type": "histogram2d"
           }
          ],
          "histogram2dcontour": [
           {
            "colorbar": {
             "outlinewidth": 0,
             "ticks": ""
            },
            "colorscale": [
             [
              0,
              "#0d0887"
             ],
             [
              0.1111111111111111,
              "#46039f"
             ],
             [
              0.2222222222222222,
              "#7201a8"
             ],
             [
              0.3333333333333333,
              "#9c179e"
             ],
             [
              0.4444444444444444,
              "#bd3786"
             ],
             [
              0.5555555555555556,
              "#d8576b"
             ],
             [
              0.6666666666666666,
              "#ed7953"
             ],
             [
              0.7777777777777778,
              "#fb9f3a"
             ],
             [
              0.8888888888888888,
              "#fdca26"
             ],
             [
              1,
              "#f0f921"
             ]
            ],
            "type": "histogram2dcontour"
           }
          ],
          "mesh3d": [
           {
            "colorbar": {
             "outlinewidth": 0,
             "ticks": ""
            },
            "type": "mesh3d"
           }
          ],
          "parcoords": [
           {
            "line": {
             "colorbar": {
              "outlinewidth": 0,
              "ticks": ""
             }
            },
            "type": "parcoords"
           }
          ],
          "pie": [
           {
            "automargin": true,
            "type": "pie"
           }
          ],
          "scatter": [
           {
            "marker": {
             "colorbar": {
              "outlinewidth": 0,
              "ticks": ""
             }
            },
            "type": "scatter"
           }
          ],
          "scatter3d": [
           {
            "line": {
             "colorbar": {
              "outlinewidth": 0,
              "ticks": ""
             }
            },
            "marker": {
             "colorbar": {
              "outlinewidth": 0,
              "ticks": ""
             }
            },
            "type": "scatter3d"
           }
          ],
          "scattercarpet": [
           {
            "marker": {
             "colorbar": {
              "outlinewidth": 0,
              "ticks": ""
             }
            },
            "type": "scattercarpet"
           }
          ],
          "scattergeo": [
           {
            "marker": {
             "colorbar": {
              "outlinewidth": 0,
              "ticks": ""
             }
            },
            "type": "scattergeo"
           }
          ],
          "scattergl": [
           {
            "marker": {
             "colorbar": {
              "outlinewidth": 0,
              "ticks": ""
             }
            },
            "type": "scattergl"
           }
          ],
          "scattermapbox": [
           {
            "marker": {
             "colorbar": {
              "outlinewidth": 0,
              "ticks": ""
             }
            },
            "type": "scattermapbox"
           }
          ],
          "scatterpolar": [
           {
            "marker": {
             "colorbar": {
              "outlinewidth": 0,
              "ticks": ""
             }
            },
            "type": "scatterpolar"
           }
          ],
          "scatterpolargl": [
           {
            "marker": {
             "colorbar": {
              "outlinewidth": 0,
              "ticks": ""
             }
            },
            "type": "scatterpolargl"
           }
          ],
          "scatterternary": [
           {
            "marker": {
             "colorbar": {
              "outlinewidth": 0,
              "ticks": ""
             }
            },
            "type": "scatterternary"
           }
          ],
          "surface": [
           {
            "colorbar": {
             "outlinewidth": 0,
             "ticks": ""
            },
            "colorscale": [
             [
              0,
              "#0d0887"
             ],
             [
              0.1111111111111111,
              "#46039f"
             ],
             [
              0.2222222222222222,
              "#7201a8"
             ],
             [
              0.3333333333333333,
              "#9c179e"
             ],
             [
              0.4444444444444444,
              "#bd3786"
             ],
             [
              0.5555555555555556,
              "#d8576b"
             ],
             [
              0.6666666666666666,
              "#ed7953"
             ],
             [
              0.7777777777777778,
              "#fb9f3a"
             ],
             [
              0.8888888888888888,
              "#fdca26"
             ],
             [
              1,
              "#f0f921"
             ]
            ],
            "type": "surface"
           }
          ],
          "table": [
           {
            "cells": {
             "fill": {
              "color": "#EBF0F8"
             },
             "line": {
              "color": "white"
             }
            },
            "header": {
             "fill": {
              "color": "#C8D4E3"
             },
             "line": {
              "color": "white"
             }
            },
            "type": "table"
           }
          ]
         },
         "layout": {
          "annotationdefaults": {
           "arrowcolor": "#2a3f5f",
           "arrowhead": 0,
           "arrowwidth": 1
          },
          "autotypenumbers": "strict",
          "coloraxis": {
           "colorbar": {
            "outlinewidth": 0,
            "ticks": ""
           }
          },
          "colorscale": {
           "diverging": [
            [
             0,
             "#8e0152"
            ],
            [
             0.1,
             "#c51b7d"
            ],
            [
             0.2,
             "#de77ae"
            ],
            [
             0.3,
             "#f1b6da"
            ],
            [
             0.4,
             "#fde0ef"
            ],
            [
             0.5,
             "#f7f7f7"
            ],
            [
             0.6,
             "#e6f5d0"
            ],
            [
             0.7,
             "#b8e186"
            ],
            [
             0.8,
             "#7fbc41"
            ],
            [
             0.9,
             "#4d9221"
            ],
            [
             1,
             "#276419"
            ]
           ],
           "sequential": [
            [
             0,
             "#0d0887"
            ],
            [
             0.1111111111111111,
             "#46039f"
            ],
            [
             0.2222222222222222,
             "#7201a8"
            ],
            [
             0.3333333333333333,
             "#9c179e"
            ],
            [
             0.4444444444444444,
             "#bd3786"
            ],
            [
             0.5555555555555556,
             "#d8576b"
            ],
            [
             0.6666666666666666,
             "#ed7953"
            ],
            [
             0.7777777777777778,
             "#fb9f3a"
            ],
            [
             0.8888888888888888,
             "#fdca26"
            ],
            [
             1,
             "#f0f921"
            ]
           ],
           "sequentialminus": [
            [
             0,
             "#0d0887"
            ],
            [
             0.1111111111111111,
             "#46039f"
            ],
            [
             0.2222222222222222,
             "#7201a8"
            ],
            [
             0.3333333333333333,
             "#9c179e"
            ],
            [
             0.4444444444444444,
             "#bd3786"
            ],
            [
             0.5555555555555556,
             "#d8576b"
            ],
            [
             0.6666666666666666,
             "#ed7953"
            ],
            [
             0.7777777777777778,
             "#fb9f3a"
            ],
            [
             0.8888888888888888,
             "#fdca26"
            ],
            [
             1,
             "#f0f921"
            ]
           ]
          },
          "colorway": [
           "#636efa",
           "#EF553B",
           "#00cc96",
           "#ab63fa",
           "#FFA15A",
           "#19d3f3",
           "#FF6692",
           "#B6E880",
           "#FF97FF",
           "#FECB52"
          ],
          "font": {
           "color": "#2a3f5f"
          },
          "geo": {
           "bgcolor": "white",
           "lakecolor": "white",
           "landcolor": "#E5ECF6",
           "showlakes": true,
           "showland": true,
           "subunitcolor": "white"
          },
          "hoverlabel": {
           "align": "left"
          },
          "hovermode": "closest",
          "mapbox": {
           "style": "light"
          },
          "paper_bgcolor": "white",
          "plot_bgcolor": "#E5ECF6",
          "polar": {
           "angularaxis": {
            "gridcolor": "white",
            "linecolor": "white",
            "ticks": ""
           },
           "bgcolor": "#E5ECF6",
           "radialaxis": {
            "gridcolor": "white",
            "linecolor": "white",
            "ticks": ""
           }
          },
          "scene": {
           "xaxis": {
            "backgroundcolor": "#E5ECF6",
            "gridcolor": "white",
            "gridwidth": 2,
            "linecolor": "white",
            "showbackground": true,
            "ticks": "",
            "zerolinecolor": "white"
           },
           "yaxis": {
            "backgroundcolor": "#E5ECF6",
            "gridcolor": "white",
            "gridwidth": 2,
            "linecolor": "white",
            "showbackground": true,
            "ticks": "",
            "zerolinecolor": "white"
           },
           "zaxis": {
            "backgroundcolor": "#E5ECF6",
            "gridcolor": "white",
            "gridwidth": 2,
            "linecolor": "white",
            "showbackground": true,
            "ticks": "",
            "zerolinecolor": "white"
           }
          },
          "shapedefaults": {
           "line": {
            "color": "#2a3f5f"
           }
          },
          "ternary": {
           "aaxis": {
            "gridcolor": "white",
            "linecolor": "white",
            "ticks": ""
           },
           "baxis": {
            "gridcolor": "white",
            "linecolor": "white",
            "ticks": ""
           },
           "bgcolor": "#E5ECF6",
           "caxis": {
            "gridcolor": "white",
            "linecolor": "white",
            "ticks": ""
           }
          },
          "title": {
           "x": 0.05
          },
          "xaxis": {
           "automargin": true,
           "gridcolor": "white",
           "linecolor": "white",
           "ticks": "",
           "title": {
            "standoff": 15
           },
           "zerolinecolor": "white",
           "zerolinewidth": 2
          },
          "yaxis": {
           "automargin": true,
           "gridcolor": "white",
           "linecolor": "white",
           "ticks": "",
           "title": {
            "standoff": 15
           },
           "zerolinecolor": "white",
           "zerolinewidth": 2
          }
         }
        },
        "title": {
         "text": "Number of viewers during the events",
         "x": 0.5,
         "y": 0.96
        },
        "width": 1100,
        "xaxis": {
         "anchor": "y",
         "domain": [
          0,
          1
         ],
         "title": {
          "text": "Time"
         }
        },
        "yaxis": {
         "anchor": "x",
         "domain": [
          0,
          1
         ],
         "title": {
          "text": "value"
         }
        }
       }
      }
     },
     "metadata": {},
     "output_type": "display_data"
    }
   ],
   "source": [
    "linechart_pivot = px.line(\n",
    "    data_frame=pivot_timetable,\n",
    "    x='Time',\n",
    "    y=['Watching_05_04_2022', 'Watching_12_04_2022',\n",
    "       'Watching_26_04_2022', 'Watching_03_05_2022',\n",
    "       'Watching_10_05_2022', 'Watching_17_05_2022',\n",
    "       'Watching_24_05_2022', 'Watching_31_05_2022'],\n",
    "    labels={'Watching_05_04_2022' : '05_04_2022',\n",
    "            'Watching_12_04_2022' : '12_04_2022',\n",
    "            'Watching_26_04_2022' : '26_04_2022',\n",
    "            'Watching_03_05_2022' : '03_05_2022',\n",
    "            'Watching_10_05_2022' : '10_05_2022',\n",
    "            'Watching_17_05_2022' : '17_05_2022',\n",
    "            'Watching_24_05_2022' : '24_05_2022',\n",
    "            'Watching_31_05_2022' : '31_05_2022'},\n",
    "    height=600,\n",
    "    width=1100,\n",
    "    )\n",
    "\n",
    "linechart_pivot.update_layout(\n",
    "    title='Number of viewers during the events',\n",
    "    title_x=0.5,\n",
    "    title_y=0.96, showlegend=False\n",
    "    )\n",
    "\n",
    "linechart_pivot.add_annotation(x='19:25', y=16,\n",
    "            text=\"17 May. Web 3.0\",\n",
    "            showarrow=False,\n",
    "            yshift=12,\n",
    "            bordercolor=\"#0DD1F3\",\n",
    "            bgcolor='#0DD1F3',\n",
    "            opacity=0.7\n",
    "            )\n",
    "\n",
    "linechart_pivot.add_annotation(x='19:22', y=14,\n",
    "            text=\"5 Apr. Renewables & ESG\",\n",
    "            showarrow=False,\n",
    "            yshift=12,\n",
    "            bordercolor=\"#636EFA\",\n",
    "            bgcolor='#636EFA',\n",
    "            opacity=0.7\n",
    "            )\n",
    "\n",
    "linechart_pivot.add_annotation(x='19:24', y=10,\n",
    "            text=\"12 Apr. Biotech & Healthtech\",\n",
    "            showarrow=False,\n",
    "            yshift=12,\n",
    "            bordercolor=\"#EF553B\",\n",
    "            bgcolor='#EF553B',\n",
    "            opacity=0.7\n",
    "            )\n",
    "\n",
    "linechart_pivot.add_annotation(x='19:23', y=8,\n",
    "            text=\"10 May. Property & Funds\",\n",
    "            showarrow=False,\n",
    "            yshift=12,\n",
    "            bordercolor=\"#FFA15A\",\n",
    "            bgcolor='#FFA15A',\n",
    "            opacity=0.7\n",
    "            )\n",
    "\n",
    "linechart_pivot.add_annotation(x='19:23', y=6,\n",
    "            text=\"26 Apr. Funds & Fintech - 1\",\n",
    "            showarrow=False,\n",
    "            yshift=12,\n",
    "            bordercolor=\"#00CC96\",\n",
    "            bgcolor='#00CC96',\n",
    "            opacity=0.7\n",
    "            )\n",
    "\n",
    "linechart_pivot.add_annotation(x='19:22', y=0,\n",
    "            text=\"3 May. Software\",\n",
    "            showarrow=False,\n",
    "            yshift=12,\n",
    "            bordercolor=\"#AA61FA\",\n",
    "            bgcolor='#AA61FA',\n",
    "            opacity=0.7\n",
    "            )\n",
    "\n",
    "linechart_pivot.add_annotation(x='19:24', y=4,\n",
    "            text=\"24 May. Funds & Fintech - 2\",\n",
    "            showarrow=False,\n",
    "            yshift=12,\n",
    "            bordercolor=\"#FF6692\",\n",
    "            bgcolor='#FF6692',\n",
    "            opacity=0.7\n",
    "            )\n",
    "\n",
    "linechart_pivot.add_annotation(x='19:22', y=2,\n",
    "            text=\"31 May. ASX & pre-IPO\",\n",
    "            showarrow=False,\n",
    "            yshift=12,\n",
    "            bordercolor=\"#B6E880\",\n",
    "            bgcolor='#B6E880',\n",
    "            opacity=0.7\n",
    "            )\n",
    "\n",
    "linechart_pivot.show()\n"
   ]
  },
  {
   "cell_type": "code",
   "execution_count": 63,
   "metadata": {},
   "outputs": [],
   "source": [
    "# linechart_pivot_file_name = (' - Minute Line Chart Pivot - ' + timestamp)\n",
    "# pio.write_image(linechart_pivot, (location_windows + linechart_pivot_file_name + '.png'), format='png', width=1100, height=600)"
   ]
  }
 ],
 "metadata": {
  "interpreter": {
   "hash": "b3760ce26e457f2b9f04a53ba84a92e91c37adc0c9e28d9a9495af2c4b77d101"
  },
  "kernelspec": {
   "display_name": "Python 3.8.11 ('sf')",
   "language": "python",
   "name": "python3"
  },
  "language_info": {
   "codemirror_mode": {
    "name": "ipython",
    "version": 3
   },
   "file_extension": ".py",
   "mimetype": "text/x-python",
   "name": "python",
   "nbconvert_exporter": "python",
   "pygments_lexer": "ipython3",
   "version": "3.8.11"
  }
 },
 "nbformat": 4,
 "nbformat_minor": 2
}
